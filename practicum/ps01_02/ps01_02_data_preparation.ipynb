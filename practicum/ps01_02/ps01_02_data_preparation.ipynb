{
 "cells": [
  {
   "cell_type": "markdown",
   "metadata": {},
   "source": [
    "# Practice Session 01+02: Data preparation"
   ]
  },
  {
   "cell_type": "markdown",
   "metadata": {},
   "source": [
    "Data scientists [spend a big chunk of their time preparing data](https://blog.ldodds.com/2020/01/31/do-data-scientists-spend-80-of-their-time-cleaning-data-turns-out-no/) and this is one of the first steps in any data mining project. This step is normally called **data preparation**.\n",
    "\n",
    "The processes of getting an initial understanding of a dataset and preparing it usually go hand-in-hand, and it is critical to perform them well to obtain valid results later. Plus, you can save time and effort by learning how to do proper data preparation.\n",
    "\n",
    "In this session, we will assume you just received a new dataset and need to do some initial steps with it:\n",
    "\n",
    "1) Exploratory Data Analysis\n",
    "\n",
    "* Calculate basis statistics as mean, median, variance, maximum and minimum\n",
    "* Look at distributions, identify outliers\n",
    "* Calculate correlations between variables\n",
    "\n",
    "2) Feature engineering:\n",
    "\n",
    "* Deal with missing values\n",
    "* Standardize all numerical columns\n",
    "* Convert categorical columns to dummy binary variables\n",
    "* Date and period management\n",
    "* Feature generation\n",
    "\n",
    "*Tip*: This process has several steps. It is tempting to maintain a single variable throughout the entire cleaning process, and do something like `x = x.step1()` then `x = x.step2()`. This will create problems for you because if you go back and re-execute a cell it might fail to operate on already transformed data. A better approach in cases like this where you do not have memory problems, is to do `x1 = x.step1()`, `x2 = x1.step2()` and so on, i.e., create a new variable after each transformation or set of transformations.\n",
    "\n",
    "<font size=\"-1\" color=\"gray\">(Remove this cell when delivering.)</font>"
   ]
  },
  {
   "cell_type": "markdown",
   "metadata": {},
   "source": [
    "Author: <font color=\"blue\">Your name here</font>\n",
    "\n",
    "E-mail: <font color=\"blue\">Your e-mail here</font>\n",
    "\n",
    "Date: <font color=\"blue\">The current date here</font>"
   ]
  },
  {
   "cell_type": "markdown",
   "metadata": {},
   "source": [
    "# 0. The dataset\n",
    "\n",
    "The dataset, contained in `device_db.csv` is a 10000 registers of mobile device purchases around 2019. **Each record in the dataset describes a customer that buys a new mobile telephone**. The attributes are defined as follows:\n",
    " \n",
    "0. PURCHASED_DEVICE: the mobile phone bought by the customer\n",
    "1. DEVICE_VALUE: the cost of the mobile phone bought by the customer\n",
    "2. LAST_DEVICE_DATE: the date of the previous mobile device purchase\n",
    "3. DATA\\_TRAFFIC\\_MONTH_(1..6): The Mbps of data traffic in the month (-1...-6) used by the customer previous to the mobile device purchase\n",
    "4. VOICE\\_TRAFFIC\\_MONTH_(1..6): The minutes of voice traffic in the month (-1...-6) used by the customer previous to the mobile device purchase\n",
    "5. BILLING\\_MONTH\\_(1..6): Billing (USD) in the month (-1...-6) paid by the customer previous to the mobile device purchase\n",
    "6. DEVICE\\_COST\\_MONTH_(1..6): Monthly cost (USD) associated to the mobile device finance in the month (-1...-6) paid by the customer previous to the mobile device purchase: proportion of owner-occupied units built prior to 1940\n",
    "7. LINE\\_ACTIVATION\\_DATE: Date of the activation of the mobile line by the customer\n",
    "8. MONTHS\\_LAST\\_DEVICE: Number of months of the previous mobile device\n",
    "9. DURATION\\_LINE: Number of months since the customer contracted the mobile line\n",
    "10. PREVIOUS\\_DEVICE\\_MODEL: Model of the previous mobile phone\n",
    "11. PREVIOUS\\_DEVICE\\_MANUF: Manufacturer of the previous mobile phone\n",
    "12. PREVIOUS\\_DEVICE\\_BRAND: Brand of the previous mobile phone\n",
    "\n",
    "This dataset will be used in next practices as recommendation engines.\n",
    "\n",
    "<font size=\"-1\" color=\"gray\">(Remove this cell when delivering.)</font>"
   ]
  },
  {
   "cell_type": "markdown",
   "metadata": {},
   "source": [
    "# 1. Exploratory data analysis "
   ]
  },
  {
   "cell_type": "markdown",
   "metadata": {},
   "source": [
    "Exploratory Data Analysis (EDA) allows to us to have an understanding of the dataset from a stadistics perspective, i.e., data distribution and correlation between variables. This is crucial to select the most relevant variables for some purpose.\n",
    "\n",
    "<font size=\"-1\" color=\"gray\">(Remove this cell when delivering.)</font>"
   ]
  },
  {
   "cell_type": "code",
   "execution_count": 2,
   "metadata": {},
   "outputs": [],
   "source": [
    "import pandas as pd\n",
    "import numpy as np\n",
    "import seaborn as sns\n",
    "import matplotlib.pyplot as plt\n",
    "import datetime\n",
    "\n",
    "from matplotlib import pyplot\n",
    "from sklearn.preprocessing import StandardScaler\n",
    "from sklearn.preprocessing import Normalizer\n",
    "from sklearn.preprocessing import MinMaxScaler\n",
    "from numpy import array\n",
    "from numpy import argmax\n",
    "from sklearn.preprocessing import LabelEncoder\n",
    "from sklearn.preprocessing import OneHotEncoder\n",
    "from sklearn.model_selection import train_test_split"
   ]
  },
  {
   "cell_type": "code",
   "execution_count": 3,
   "metadata": {},
   "outputs": [],
   "source": [
    "import sklearn"
   ]
  },
  {
   "cell_type": "markdown",
   "metadata": {},
   "source": [
    "We open the csv file contaning the data using separator \";\" and assign to a dataframe variable (use `read_csv` from the Pandas library).\n",
    "\n",
    "<font size=\"-1\" color=\"gray\">(Remove this cell when delivering.)</font>"
   ]
  },
  {
   "cell_type": "code",
   "execution_count": 4,
   "metadata": {},
   "outputs": [],
   "source": [
    "# LEAVE AS-IS\n",
    "\n",
    "input_dataset = pd.read_csv(\"device_db.csv\", sep=\",\")"
   ]
  },
  {
   "cell_type": "markdown",
   "metadata": {},
   "source": [
    "## 1.1. Data types and simple statistics"
   ]
  },
  {
   "cell_type": "code",
   "execution_count": 5,
   "metadata": {},
   "outputs": [
    {
     "data": {
      "text/html": [
       "<div>\n",
       "<style scoped>\n",
       "    .dataframe tbody tr th:only-of-type {\n",
       "        vertical-align: middle;\n",
       "    }\n",
       "\n",
       "    .dataframe tbody tr th {\n",
       "        vertical-align: top;\n",
       "    }\n",
       "\n",
       "    .dataframe thead th {\n",
       "        text-align: right;\n",
       "    }\n",
       "</style>\n",
       "<table border=\"1\" class=\"dataframe\">\n",
       "  <thead>\n",
       "    <tr style=\"text-align: right;\">\n",
       "      <th></th>\n",
       "      <th>PURCHASED_DEVICE</th>\n",
       "      <th>DEVICE_VALUE</th>\n",
       "      <th>LAST_DEVICE_CHANGE</th>\n",
       "      <th>DATA_TRAFFIC_MONTH_1</th>\n",
       "      <th>DATA_TRAFFIC_MONTH_2</th>\n",
       "      <th>DATA_TRAFFIC_MONTH_3</th>\n",
       "      <th>DATA_TRAFFIC_MONTH_4</th>\n",
       "      <th>DATA_TRAFFIC_MONTH_5</th>\n",
       "      <th>DATA_TRAFFIC_MONTH_6</th>\n",
       "      <th>VOICE_TRAFFIC_MONTH_1</th>\n",
       "      <th>...</th>\n",
       "      <th>DEVICE_COST_MONTH_3</th>\n",
       "      <th>DEVICE_COST_MONTH_4</th>\n",
       "      <th>DEVICE_COST_MONTH_5</th>\n",
       "      <th>DEVICE_COST_MONTH_6</th>\n",
       "      <th>LINE_ACTIVATION_DATE</th>\n",
       "      <th>MONTHS_LAST_DEVICE</th>\n",
       "      <th>DURATION_LINE</th>\n",
       "      <th>PREVIOUS_DEVICE_MODEL</th>\n",
       "      <th>PREVIOUS_DEVICE_MANUF</th>\n",
       "      <th>PREVIOUS_DEVICE_BRAND</th>\n",
       "    </tr>\n",
       "  </thead>\n",
       "  <tbody>\n",
       "    <tr>\n",
       "      <th>0</th>\n",
       "      <td>TGLG29162000_LG X210BMW SMARTPHONE PRETO PPB/P...</td>\n",
       "      <td>393.0</td>\n",
       "      <td>NaN</td>\n",
       "      <td>465.24673</td>\n",
       "      <td>530.80615</td>\n",
       "      <td>530.80615</td>\n",
       "      <td>781.12646</td>\n",
       "      <td>398.99377</td>\n",
       "      <td>1169.39610</td>\n",
       "      <td>47.50000</td>\n",
       "      <td>...</td>\n",
       "      <td>12.0</td>\n",
       "      <td>12.0</td>\n",
       "      <td>12.0</td>\n",
       "      <td>12.0</td>\n",
       "      <td>20041220.0</td>\n",
       "      <td>NaN</td>\n",
       "      <td>172.0</td>\n",
       "      <td>Moto G4 Plus</td>\n",
       "      <td>Motorola Mobility LLC, a Lenovo Company</td>\n",
       "      <td>Motorola</td>\n",
       "    </tr>\n",
       "    <tr>\n",
       "      <th>1</th>\n",
       "      <td>TGLG29162000_LG X210BMW SMARTPHONE PRETO PPB/P...</td>\n",
       "      <td>345.0</td>\n",
       "      <td>20170401.0</td>\n",
       "      <td>232.24121</td>\n",
       "      <td>272.25525</td>\n",
       "      <td>272.25525</td>\n",
       "      <td>704.88519</td>\n",
       "      <td>412.71664</td>\n",
       "      <td>365.14441</td>\n",
       "      <td>3.70000</td>\n",
       "      <td>...</td>\n",
       "      <td>0.0</td>\n",
       "      <td>0.0</td>\n",
       "      <td>0.0</td>\n",
       "      <td>0.0</td>\n",
       "      <td>20170405.0</td>\n",
       "      <td>20.0</td>\n",
       "      <td>20.0</td>\n",
       "      <td>Samsung Galaxy J1 Mini</td>\n",
       "      <td>Samsung Korea</td>\n",
       "      <td>Samsung</td>\n",
       "    </tr>\n",
       "    <tr>\n",
       "      <th>2</th>\n",
       "      <td>TGMO35912000_MOTOROLA XT1922 SMARTPHONE INDIGO</td>\n",
       "      <td>875.0</td>\n",
       "      <td>NaN</td>\n",
       "      <td>484.62036</td>\n",
       "      <td>264.13843</td>\n",
       "      <td>264.13843</td>\n",
       "      <td>348.50073</td>\n",
       "      <td>380.44156</td>\n",
       "      <td>250.73566</td>\n",
       "      <td>26.10000</td>\n",
       "      <td>...</td>\n",
       "      <td>0.0</td>\n",
       "      <td>0.0</td>\n",
       "      <td>0.0</td>\n",
       "      <td>0.0</td>\n",
       "      <td>20040412.0</td>\n",
       "      <td>NaN</td>\n",
       "      <td>176.0</td>\n",
       "      <td>Moto E (2ª Geração)</td>\n",
       "      <td>Motorola Mobility LLC, a Lenovo Company</td>\n",
       "      <td>Motorola</td>\n",
       "    </tr>\n",
       "    <tr>\n",
       "      <th>3</th>\n",
       "      <td>TGLG29162000_LG X210BMW SMARTPHONE PRETO PPB/P...</td>\n",
       "      <td>345.0</td>\n",
       "      <td>20171001.0</td>\n",
       "      <td>4255.46040</td>\n",
       "      <td>836.11707</td>\n",
       "      <td>836.11707</td>\n",
       "      <td>691.55640</td>\n",
       "      <td>146.76660</td>\n",
       "      <td>302.49249</td>\n",
       "      <td>175.70000</td>\n",
       "      <td>...</td>\n",
       "      <td>6.0</td>\n",
       "      <td>6.0</td>\n",
       "      <td>6.0</td>\n",
       "      <td>6.0</td>\n",
       "      <td>20110825.0</td>\n",
       "      <td>14.0</td>\n",
       "      <td>88.0</td>\n",
       "      <td>iPhone 6</td>\n",
       "      <td>Apple Inc</td>\n",
       "      <td>Apple</td>\n",
       "    </tr>\n",
       "    <tr>\n",
       "      <th>4</th>\n",
       "      <td>TGMO35912000_MOTOROLA XT1922 SMARTPHONE INDIGO</td>\n",
       "      <td>609.0</td>\n",
       "      <td>20190101.0</td>\n",
       "      <td>5014.10300</td>\n",
       "      <td>2659.05150</td>\n",
       "      <td>2659.05150</td>\n",
       "      <td>2435.03930</td>\n",
       "      <td>2053.97950</td>\n",
       "      <td>1553.11500</td>\n",
       "      <td>383.89999</td>\n",
       "      <td>...</td>\n",
       "      <td>0.0</td>\n",
       "      <td>0.0</td>\n",
       "      <td>0.0</td>\n",
       "      <td>0.0</td>\n",
       "      <td>20140617.0</td>\n",
       "      <td>-1.0</td>\n",
       "      <td>54.0</td>\n",
       "      <td>K10a40</td>\n",
       "      <td>Motorola Mobility LLC, a Lenovo Company</td>\n",
       "      <td>Outros</td>\n",
       "    </tr>\n",
       "  </tbody>\n",
       "</table>\n",
       "<p>5 rows × 33 columns</p>\n",
       "</div>"
      ],
      "text/plain": [
       "                                    PURCHASED_DEVICE  DEVICE_VALUE  \\\n",
       "0  TGLG29162000_LG X210BMW SMARTPHONE PRETO PPB/P...         393.0   \n",
       "1  TGLG29162000_LG X210BMW SMARTPHONE PRETO PPB/P...         345.0   \n",
       "2     TGMO35912000_MOTOROLA XT1922 SMARTPHONE INDIGO         875.0   \n",
       "3  TGLG29162000_LG X210BMW SMARTPHONE PRETO PPB/P...         345.0   \n",
       "4     TGMO35912000_MOTOROLA XT1922 SMARTPHONE INDIGO         609.0   \n",
       "\n",
       "   LAST_DEVICE_CHANGE  DATA_TRAFFIC_MONTH_1  DATA_TRAFFIC_MONTH_2  \\\n",
       "0                 NaN             465.24673             530.80615   \n",
       "1          20170401.0             232.24121             272.25525   \n",
       "2                 NaN             484.62036             264.13843   \n",
       "3          20171001.0            4255.46040             836.11707   \n",
       "4          20190101.0            5014.10300            2659.05150   \n",
       "\n",
       "   DATA_TRAFFIC_MONTH_3  DATA_TRAFFIC_MONTH_4  DATA_TRAFFIC_MONTH_5  \\\n",
       "0             530.80615             781.12646             398.99377   \n",
       "1             272.25525             704.88519             412.71664   \n",
       "2             264.13843             348.50073             380.44156   \n",
       "3             836.11707             691.55640             146.76660   \n",
       "4            2659.05150            2435.03930            2053.97950   \n",
       "\n",
       "   DATA_TRAFFIC_MONTH_6  VOICE_TRAFFIC_MONTH_1  ...  DEVICE_COST_MONTH_3  \\\n",
       "0            1169.39610               47.50000  ...                 12.0   \n",
       "1             365.14441                3.70000  ...                  0.0   \n",
       "2             250.73566               26.10000  ...                  0.0   \n",
       "3             302.49249              175.70000  ...                  6.0   \n",
       "4            1553.11500              383.89999  ...                  0.0   \n",
       "\n",
       "   DEVICE_COST_MONTH_4  DEVICE_COST_MONTH_5  DEVICE_COST_MONTH_6  \\\n",
       "0                 12.0                 12.0                 12.0   \n",
       "1                  0.0                  0.0                  0.0   \n",
       "2                  0.0                  0.0                  0.0   \n",
       "3                  6.0                  6.0                  6.0   \n",
       "4                  0.0                  0.0                  0.0   \n",
       "\n",
       "   LINE_ACTIVATION_DATE  MONTHS_LAST_DEVICE  DURATION_LINE  \\\n",
       "0            20041220.0                 NaN          172.0   \n",
       "1            20170405.0                20.0           20.0   \n",
       "2            20040412.0                 NaN          176.0   \n",
       "3            20110825.0                14.0           88.0   \n",
       "4            20140617.0                -1.0           54.0   \n",
       "\n",
       "    PREVIOUS_DEVICE_MODEL                    PREVIOUS_DEVICE_MANUF  \\\n",
       "0            Moto G4 Plus  Motorola Mobility LLC, a Lenovo Company   \n",
       "1  Samsung Galaxy J1 Mini                            Samsung Korea   \n",
       "2     Moto E (2ª Geração)  Motorola Mobility LLC, a Lenovo Company   \n",
       "3                iPhone 6                                Apple Inc   \n",
       "4                  K10a40  Motorola Mobility LLC, a Lenovo Company   \n",
       "\n",
       "   PREVIOUS_DEVICE_BRAND  \n",
       "0               Motorola  \n",
       "1                Samsung  \n",
       "2               Motorola  \n",
       "3                  Apple  \n",
       "4                 Outros  \n",
       "\n",
       "[5 rows x 33 columns]"
      ]
     },
     "execution_count": 5,
     "metadata": {},
     "output_type": "execute_result"
    }
   ],
   "source": [
    "input_dataset.head()"
   ]
  },
  {
   "cell_type": "markdown",
   "metadata": {},
   "source": [
    "Data frames also provide a convenient way of printing data. There are many ways of creating a data frame, one possibility is by creating an array of dictionaries:\n",
    "\n",
    "```python\n",
    "countries = []\n",
    "countries.append({'capital': 'Asuncion', 'country': 'Paraguay'})\n",
    "countries.append({'capital': 'La Paz', 'country': 'Bolivia'})\n",
    "countries_df = pd.DataFrame(countries, columns=['country', 'capital'])\n",
    "display(countries_df)\n",
    "```\n",
    "\n",
    "Create a dataframe named `column_type_df` containing the name of each column, its type and the number of distinct elements in that column. To iterate through the columns of dataframe `df`, use `for column in df.columns`; to determine the type of a column, use `df[column].dtype`; to retrieve the number of distinct elements of that column, use `df[column].nunique()`\n",
    "\n",
    "<font size=\"-1\" color=\"gray\">(Remove this cell when delivering.)</font>"
   ]
  },
  {
   "cell_type": "markdown",
   "metadata": {},
   "source": [
    "<font size=\"+1\" color=\"red\">Replace this cell with your code to create and display a dataframe containing one row per column, with the type of each column and number of distinct elements of that column.</font>"
   ]
  },
  {
   "cell_type": "code",
   "execution_count": 9,
   "metadata": {},
   "outputs": [
    {
     "data": {
      "text/html": [
       "<div>\n",
       "<style scoped>\n",
       "    .dataframe tbody tr th:only-of-type {\n",
       "        vertical-align: middle;\n",
       "    }\n",
       "\n",
       "    .dataframe tbody tr th {\n",
       "        vertical-align: top;\n",
       "    }\n",
       "\n",
       "    .dataframe thead th {\n",
       "        text-align: right;\n",
       "    }\n",
       "</style>\n",
       "<table border=\"1\" class=\"dataframe\">\n",
       "  <thead>\n",
       "    <tr style=\"text-align: right;\">\n",
       "      <th></th>\n",
       "      <th>Column Name</th>\n",
       "      <th>Data Type</th>\n",
       "      <th>Distinct Elements</th>\n",
       "    </tr>\n",
       "  </thead>\n",
       "  <tbody>\n",
       "    <tr>\n",
       "      <th>0</th>\n",
       "      <td>PURCHASED_DEVICE</td>\n",
       "      <td>object</td>\n",
       "      <td>101</td>\n",
       "    </tr>\n",
       "    <tr>\n",
       "      <th>1</th>\n",
       "      <td>DEVICE_VALUE</td>\n",
       "      <td>float64</td>\n",
       "      <td>368</td>\n",
       "    </tr>\n",
       "    <tr>\n",
       "      <th>2</th>\n",
       "      <td>LAST_DEVICE_CHANGE</td>\n",
       "      <td>float64</td>\n",
       "      <td>76</td>\n",
       "    </tr>\n",
       "    <tr>\n",
       "      <th>3</th>\n",
       "      <td>DATA_TRAFFIC_MONTH_1</td>\n",
       "      <td>float64</td>\n",
       "      <td>7215</td>\n",
       "    </tr>\n",
       "    <tr>\n",
       "      <th>4</th>\n",
       "      <td>DATA_TRAFFIC_MONTH_2</td>\n",
       "      <td>float64</td>\n",
       "      <td>7182</td>\n",
       "    </tr>\n",
       "  </tbody>\n",
       "</table>\n",
       "</div>"
      ],
      "text/plain": [
       "            Column Name Data Type  Distinct Elements\n",
       "0      PURCHASED_DEVICE    object                101\n",
       "1          DEVICE_VALUE   float64                368\n",
       "2    LAST_DEVICE_CHANGE   float64                 76\n",
       "3  DATA_TRAFFIC_MONTH_1   float64               7215\n",
       "4  DATA_TRAFFIC_MONTH_2   float64               7182"
      ]
     },
     "execution_count": 9,
     "metadata": {},
     "output_type": "execute_result"
    }
   ],
   "source": [
    "cols_df_list = []\n",
    "\n",
    "for column in input_dataset.columns:\n",
    "    column_name = column\n",
    "    data_type = input_dataset[column].dtype\n",
    "    distinct_elem = input_dataset[column].nunique()\n",
    "  \n",
    "    cols_df_list.append([column_name, data_type, distinct_elem])\n",
    "    \n",
    "column_type_df = pd.DataFrame(cols_df_list, columns=['Column Name', 'Data Type', 'Distinct Elements'])\n",
    "column_type_df.head()"
   ]
  },
  {
   "cell_type": "markdown",
   "metadata": {},
   "source": [
    "To obtain a series from a dataframe you can reference an attribute by name, e.g., `input_dataset.DEVICE_VALUE` returns the series of all device values.\n",
    "\n",
    "On a series, you can use functions from [numpy](https://numpy.org/doc/) such as `np.mean`, `np.nanmedian` (median ignoring the NaN), `np.std`, `np.min` and `np.max`.\n",
    "\n",
    "<font size=\"-1\" color=\"gray\">(Remove this cell when delivering.)</font>"
   ]
  },
  {
   "cell_type": "markdown",
   "metadata": {},
   "source": [
    "<font size=\"+1\" color=\"red\">Replace this cell with code to create a dataframe named `stats_df` containing one row per each column of type ``float64`` in the input data, with the name of the column and its mean, median, maximum and minimum.</font>"
   ]
  },
  {
   "cell_type": "code",
   "execution_count": 8,
   "metadata": {},
   "outputs": [
    {
     "data": {
      "text/html": [
       "<div>\n",
       "<style scoped>\n",
       "    .dataframe tbody tr th:only-of-type {\n",
       "        vertical-align: middle;\n",
       "    }\n",
       "\n",
       "    .dataframe tbody tr th {\n",
       "        vertical-align: top;\n",
       "    }\n",
       "\n",
       "    .dataframe thead th {\n",
       "        text-align: right;\n",
       "    }\n",
       "</style>\n",
       "<table border=\"1\" class=\"dataframe\">\n",
       "  <thead>\n",
       "    <tr style=\"text-align: right;\">\n",
       "      <th></th>\n",
       "      <th>Column Name</th>\n",
       "      <th>Mean</th>\n",
       "      <th>Median</th>\n",
       "      <th>Min</th>\n",
       "      <th>Max</th>\n",
       "    </tr>\n",
       "  </thead>\n",
       "  <tbody>\n",
       "    <tr>\n",
       "      <th>0</th>\n",
       "      <td>DEVICE_VALUE</td>\n",
       "      <td>7.504842e+02</td>\n",
       "      <td>3.930000e+02</td>\n",
       "      <td>15.0</td>\n",
       "      <td>9057.00</td>\n",
       "    </tr>\n",
       "    <tr>\n",
       "      <th>1</th>\n",
       "      <td>LAST_DEVICE_CHANGE</td>\n",
       "      <td>2.016698e+07</td>\n",
       "      <td>2.017060e+07</td>\n",
       "      <td>20121001.0</td>\n",
       "      <td>20190501.00</td>\n",
       "    </tr>\n",
       "    <tr>\n",
       "      <th>2</th>\n",
       "      <td>DATA_TRAFFIC_MONTH_1</td>\n",
       "      <td>3.481826e+03</td>\n",
       "      <td>1.208728e+03</td>\n",
       "      <td>0.0</td>\n",
       "      <td>127017.59</td>\n",
       "    </tr>\n",
       "    <tr>\n",
       "      <th>3</th>\n",
       "      <td>DATA_TRAFFIC_MONTH_2</td>\n",
       "      <td>3.649958e+03</td>\n",
       "      <td>1.294951e+03</td>\n",
       "      <td>0.0</td>\n",
       "      <td>111948.84</td>\n",
       "    </tr>\n",
       "    <tr>\n",
       "      <th>4</th>\n",
       "      <td>DATA_TRAFFIC_MONTH_3</td>\n",
       "      <td>3.653427e+03</td>\n",
       "      <td>1.310675e+03</td>\n",
       "      <td>0.0</td>\n",
       "      <td>111948.84</td>\n",
       "    </tr>\n",
       "  </tbody>\n",
       "</table>\n",
       "</div>"
      ],
      "text/plain": [
       "            Column Name          Mean        Median         Min          Max\n",
       "0          DEVICE_VALUE  7.504842e+02  3.930000e+02        15.0      9057.00\n",
       "1    LAST_DEVICE_CHANGE  2.016698e+07  2.017060e+07  20121001.0  20190501.00\n",
       "2  DATA_TRAFFIC_MONTH_1  3.481826e+03  1.208728e+03         0.0    127017.59\n",
       "3  DATA_TRAFFIC_MONTH_2  3.649958e+03  1.294951e+03         0.0    111948.84\n",
       "4  DATA_TRAFFIC_MONTH_3  3.653427e+03  1.310675e+03         0.0    111948.84"
      ]
     },
     "execution_count": 8,
     "metadata": {},
     "output_type": "execute_result"
    }
   ],
   "source": [
    "float_cols = input_dataset.select_dtypes(include=['float64'])\n",
    "\n",
    "data = []\n",
    "\n",
    "for column in float_cols.columns:\n",
    "    col_name = column\n",
    "    col_mean = np.mean(float_cols[column])\n",
    "    col_median = np.nanmedian(float_cols[column])\n",
    "    col_min = np.min(float_cols[column])\n",
    "    col_max = np.max(float_cols[column])\n",
    "    \n",
    "    data.append([col_name, col_mean, col_median, col_min, col_max])\n",
    "\n",
    "stats_df = pd.DataFrame(data, columns=['Column Name', 'Mean', 'Median', 'Min', 'Max'])\n",
    "\n",
    "stats_df.head()"
   ]
  },
  {
   "cell_type": "markdown",
   "metadata": {},
   "source": [
    "The `describe` function can be used to describe a series. To invoke it simply do `input_dataset.DEVICE_VALUE.describe()`\n",
    "\n",
    "<font size=\"-1\" color=\"gray\">(Remove this cell when delivering.)</font>"
   ]
  },
  {
   "cell_type": "markdown",
   "metadata": {},
   "source": [
    "<font size=\"+1\" color=\"red\">Replace this cell with code to print each column name and then use the `describe` function to print statistics for that column. Include a blank line after each description.</font>"
   ]
  },
  {
   "cell_type": "code",
   "execution_count": 15,
   "metadata": {},
   "outputs": [
    {
     "name": "stdout",
     "output_type": "stream",
     "text": [
      "PURCHASED_DEVICE :\n",
      " count                                                  9853\n",
      "unique                                                  101\n",
      "top       TGLG29162000_LG X210BMW SMARTPHONE PRETO PPB/P...\n",
      "freq                                                   5379\n",
      "Name: PURCHASED_DEVICE, dtype: object \n",
      "\n",
      "DEVICE_VALUE :\n",
      " count    9690.000000\n",
      "mean      750.484211\n",
      "std       979.710272\n",
      "min        15.000000\n",
      "25%       297.000000\n",
      "50%       393.000000\n",
      "75%       609.000000\n",
      "max      9057.000000\n",
      "Name: DEVICE_VALUE, dtype: float64 \n",
      "\n",
      "LAST_DEVICE_CHANGE :\n",
      " count    7.682000e+03\n",
      "mean     2.016698e+07\n",
      "std      1.092577e+04\n",
      "min      2.012100e+07\n",
      "25%      2.016080e+07\n",
      "50%      2.017060e+07\n",
      "75%      2.017100e+07\n",
      "max      2.019050e+07\n",
      "Name: LAST_DEVICE_CHANGE, dtype: float64 \n",
      "\n",
      "DATA_TRAFFIC_MONTH_1 :\n",
      " count      8868.000000\n",
      "mean       3481.825663\n",
      "std        6364.542706\n",
      "min           0.000000\n",
      "25%          51.923114\n",
      "50%        1208.728050\n",
      "75%        4249.164900\n",
      "max      127017.590000\n",
      "Name: DATA_TRAFFIC_MONTH_1, dtype: float64 \n",
      "\n",
      "DATA_TRAFFIC_MONTH_2 :\n",
      " count      8841.000000\n",
      "mean       3649.957795\n",
      "std        6444.357603\n",
      "min           0.000000\n",
      "25%          46.542538\n",
      "50%        1294.950800\n",
      "75%        4546.064900\n",
      "max      111948.840000\n",
      "Name: DATA_TRAFFIC_MONTH_2, dtype: float64 \n",
      "\n",
      "DATA_TRAFFIC_MONTH_3 :\n",
      " count      8846.000000\n",
      "mean       3653.426959\n",
      "std        6382.603999\n",
      "min           0.000000\n",
      "25%          44.900850\n",
      "50%        1310.674800\n",
      "75%        4579.454700\n",
      "max      111948.840000\n",
      "Name: DATA_TRAFFIC_MONTH_3, dtype: float64 \n",
      "\n",
      "DATA_TRAFFIC_MONTH_4 :\n",
      " count     8817.000000\n",
      "mean      3269.440625\n",
      "std       5675.546606\n",
      "min          0.000000\n",
      "25%         35.689415\n",
      "50%       1176.539300\n",
      "75%       3983.978000\n",
      "max      87856.414000\n",
      "Name: DATA_TRAFFIC_MONTH_4, dtype: float64 \n",
      "\n",
      "DATA_TRAFFIC_MONTH_5 :\n",
      " count      8866.000000\n",
      "mean       3673.368341\n",
      "std        6589.399406\n",
      "min           0.000000\n",
      "25%          45.358936\n",
      "50%        1287.094000\n",
      "75%        4541.869250\n",
      "max      121834.810000\n",
      "Name: DATA_TRAFFIC_MONTH_5, dtype: float64 \n",
      "\n",
      "DATA_TRAFFIC_MONTH_6 :\n",
      " count     8535.000000\n",
      "mean      3427.689578\n",
      "std       5885.423022\n",
      "min          0.000000\n",
      "25%         75.256077\n",
      "50%       1277.116300\n",
      "75%       4278.348650\n",
      "max      90550.609000\n",
      "Name: DATA_TRAFFIC_MONTH_6, dtype: float64 \n",
      "\n",
      "VOICE_TRAFFIC_MONTH_1 :\n",
      " count    8868.000000\n",
      "mean      154.852210\n",
      "std       218.250590\n",
      "min         0.000000\n",
      "25%        26.700001\n",
      "50%        84.049999\n",
      "75%       199.225000\n",
      "max      4220.100100\n",
      "Name: VOICE_TRAFFIC_MONTH_1, dtype: float64 \n",
      "\n",
      "VOICE_TRAFFIC_MONTH_2 :\n",
      " count    8841.000000\n",
      "mean      142.567877\n",
      "std       200.574371\n",
      "min         0.000000\n",
      "25%        20.000000\n",
      "50%        74.900002\n",
      "75%       186.200000\n",
      "max      3132.100100\n",
      "Name: VOICE_TRAFFIC_MONTH_2, dtype: float64 \n",
      "\n",
      "VOICE_TRAFFIC_MONTH_3 :\n",
      " count    8846.000000\n",
      "mean      141.712458\n",
      "std       198.543836\n",
      "min         0.000000\n",
      "25%        19.625000\n",
      "50%        74.400002\n",
      "75%       183.899990\n",
      "max      2992.500000\n",
      "Name: VOICE_TRAFFIC_MONTH_3, dtype: float64 \n",
      "\n",
      "VOICE_TRAFFIC_MONTH_4 :\n",
      " count    8817.000000\n",
      "mean      143.149235\n",
      "std       200.507045\n",
      "min         0.000000\n",
      "25%        20.000000\n",
      "50%        75.099998\n",
      "75%       187.600010\n",
      "max      3163.300000\n",
      "Name: VOICE_TRAFFIC_MONTH_4, dtype: float64 \n",
      "\n",
      "VOICE_TRAFFIC_MONTH_5 :\n",
      " count    8866.000000\n",
      "mean      154.277318\n",
      "std       210.539309\n",
      "min         0.000000\n",
      "25%        21.900000\n",
      "50%        82.850003\n",
      "75%       200.050005\n",
      "max      3429.100100\n",
      "Name: VOICE_TRAFFIC_MONTH_5, dtype: float64 \n",
      "\n",
      "VOICE_TRAFFIC_MONTH_6 :\n",
      " count    8535.000000\n",
      "mean       84.033322\n",
      "std       161.343949\n",
      "min         0.000000\n",
      "25%         0.000000\n",
      "50%         6.200000\n",
      "75%       105.750000\n",
      "max      2129.500000\n",
      "Name: VOICE_TRAFFIC_MONTH_6, dtype: float64 \n",
      "\n",
      "BILLING_MONTH_1 :\n",
      " count    9999.000000\n",
      "mean      102.344564\n",
      "std        67.787155\n",
      "min      -128.010000\n",
      "25%        66.000000\n",
      "50%        94.990000\n",
      "75%       121.470000\n",
      "max      1569.100000\n",
      "Name: BILLING_MONTH_1, dtype: float64 \n",
      "\n",
      "BILLING_MONTH_2 :\n",
      " count    9998.000000\n",
      "mean      104.975211\n",
      "std        76.948838\n",
      "min         0.000000\n",
      "25%        68.000000\n",
      "50%        96.430000\n",
      "75%       123.237500\n",
      "max      2032.120000\n",
      "Name: BILLING_MONTH_2, dtype: float64 \n",
      "\n",
      "BILLING_MONTH_3 :\n",
      " count    9992.000000\n",
      "mean      102.676769\n",
      "std        66.625398\n",
      "min         0.000000\n",
      "25%        67.990000\n",
      "50%        96.245000\n",
      "75%       122.077500\n",
      "max      1741.210000\n",
      "Name: BILLING_MONTH_3, dtype: float64 \n",
      "\n",
      "BILLING_MONTH_4 :\n",
      " count    9989.000000\n",
      "mean      101.994275\n",
      "std        64.393336\n",
      "min         0.000000\n",
      "25%        67.190000\n",
      "50%        94.890000\n",
      "75%       121.440000\n",
      "max      1084.820000\n",
      "Name: BILLING_MONTH_4, dtype: float64 \n",
      "\n",
      "BILLING_MONTH_5 :\n",
      " count    9987.000000\n",
      "mean      102.208095\n",
      "std        64.019370\n",
      "min         0.000000\n",
      "25%        66.990000\n",
      "50%        95.290000\n",
      "75%       121.850000\n",
      "max       911.720000\n",
      "Name: BILLING_MONTH_5, dtype: float64 \n",
      "\n",
      "BILLING_MONTH_6 :\n",
      " count    9979.000000\n",
      "mean      102.268390\n",
      "std        65.459494\n",
      "min         0.000000\n",
      "25%        66.940000\n",
      "50%        94.990000\n",
      "75%       121.140000\n",
      "max      1187.300000\n",
      "Name: BILLING_MONTH_6, dtype: float64 \n",
      "\n",
      "DEVICE_COST_MONTH_1 :\n",
      " count    9999.000000\n",
      "mean       10.807785\n",
      "std        75.834602\n",
      "min         0.000000\n",
      "25%         0.000000\n",
      "50%         0.000000\n",
      "75%         0.620000\n",
      "max      6440.000000\n",
      "Name: DEVICE_COST_MONTH_1, dtype: float64 \n",
      "\n",
      "DEVICE_COST_MONTH_2 :\n",
      " count    9998.000000\n",
      "mean       10.587317\n",
      "std        36.995965\n",
      "min         0.000000\n",
      "25%         0.000000\n",
      "50%         0.000000\n",
      "75%         0.620000\n",
      "max      1360.000000\n",
      "Name: DEVICE_COST_MONTH_2, dtype: float64 \n",
      "\n",
      "DEVICE_COST_MONTH_3 :\n",
      " count    9992.00000\n",
      "mean       11.71326\n",
      "std        44.43260\n",
      "min         0.00000\n",
      "25%         0.00000\n",
      "50%         0.00000\n",
      "75%         7.00000\n",
      "max      2466.00000\n",
      "Name: DEVICE_COST_MONTH_3, dtype: float64 \n",
      "\n",
      "DEVICE_COST_MONTH_4 :\n",
      " count    9989.000000\n",
      "mean       11.554371\n",
      "std        34.175962\n",
      "min         0.000000\n",
      "25%         0.000000\n",
      "50%         0.000000\n",
      "75%         9.000000\n",
      "max       455.000000\n",
      "Name: DEVICE_COST_MONTH_4, dtype: float64 \n",
      "\n",
      "DEVICE_COST_MONTH_5 :\n",
      " count    9987.000000\n",
      "mean       12.510864\n",
      "std        38.875688\n",
      "min         0.000000\n",
      "25%         0.000000\n",
      "50%         0.000000\n",
      "75%         9.310000\n",
      "max      1258.000000\n",
      "Name: DEVICE_COST_MONTH_5, dtype: float64 \n",
      "\n",
      "DEVICE_COST_MONTH_6 :\n",
      " count    9979.000000\n",
      "mean       12.979012\n",
      "std        39.528025\n",
      "min         0.000000\n",
      "25%         0.000000\n",
      "50%         0.000000\n",
      "75%        11.660000\n",
      "max      1000.000000\n",
      "Name: DEVICE_COST_MONTH_6, dtype: float64 \n",
      "\n",
      "LINE_ACTIVATION_DATE :\n",
      " count    9.179000e+03\n",
      "mean     2.013605e+07\n",
      "std      4.346958e+04\n",
      "min      1.992080e+07\n",
      "25%      2.012033e+07\n",
      "50%      2.015032e+07\n",
      "75%      2.017063e+07\n",
      "max      2.019042e+07\n",
      "Name: LINE_ACTIVATION_DATE, dtype: float64 \n",
      "\n",
      "MONTHS_LAST_DEVICE :\n",
      " count    7682.000000\n",
      "mean       25.338323\n",
      "std        12.817354\n",
      "min        -5.000000\n",
      "25%        17.000000\n",
      "50%        22.000000\n",
      "75%        31.000000\n",
      "max        78.000000\n",
      "Name: MONTHS_LAST_DEVICE, dtype: float64 \n",
      "\n",
      "DURATION_LINE :\n",
      " count    9179.000000\n",
      "mean       62.368341\n",
      "std        52.072895\n",
      "min         0.000000\n",
      "25%        21.000000\n",
      "50%        48.000000\n",
      "75%        84.000000\n",
      "max       320.000000\n",
      "Name: DURATION_LINE, dtype: float64 \n",
      "\n",
      "PREVIOUS_DEVICE_MODEL :\n",
      " count         6169\n",
      "unique         580\n",
      "top       iPhone 7\n",
      "freq           425\n",
      "Name: PREVIOUS_DEVICE_MODEL, dtype: object \n",
      "\n",
      "PREVIOUS_DEVICE_MANUF :\n",
      " count              6169\n",
      "unique               68\n",
      "top       Samsung Korea\n",
      "freq               1928\n",
      "Name: PREVIOUS_DEVICE_MANUF, dtype: object \n",
      "\n",
      "PREVIOUS_DEVICE_BRAND :\n",
      " count        6169\n",
      "unique          5\n",
      "top       Samsung\n",
      "freq         1877\n",
      "Name: PREVIOUS_DEVICE_BRAND, dtype: object \n",
      "\n"
     ]
    }
   ],
   "source": [
    "for column in input_dataset.columns:\n",
    "    print(column, \":\\n\" , input_dataset[column].describe(),\"\\n\")"
   ]
  },
  {
   "cell_type": "markdown",
   "metadata": {},
   "source": [
    "<font size=\"+1\" color=\"red\">Replace this cell with a brief commentary comparing the previous results for **DEVICE_COST_MONTH_1** (bill in the first month) with the ones from the **.describe()** function.</font>\n",
    "\n",
    "<font size=\"+1\" color=\"red\">There are at least two differences, indicate them.</font>"
   ]
  },
  {
   "cell_type": "markdown",
   "metadata": {},
   "source": [
    "Dels resultats de DEVICE_COST_MONTH_1 respecte els obtinguts amb la funció ```.describe()``` no trobo cap diferència numèrica. Tot i així la funció ```.describe()``` em dona més informació que els previs resultats, ja que mostra el tipus de dades que es troben a la columna i els quartils de la mostra. Podriem treure aquesta informació extra de la funció com les dues diferències entre els resultats."
   ]
  },
  {
   "cell_type": "markdown",
   "metadata": {},
   "source": [
    "## 1.2. Inventory of device models"
   ]
  },
  {
   "cell_type": "markdown",
   "metadata": {},
   "source": [
    "In exploratory data analysis, it is very useful to do an **inventory** or **census** of the possible values of a variable. For us, a census will be a frequency table in which you show the possible values of a variable, and their frequency, in decreasing order of frequency.\n",
    "\n",
    "\n",
    "\n",
    "<font size=\"-1\" color=\"gray\">(Remove this cell when delivering.)</font>"
   ]
  },
  {
   "cell_type": "markdown",
   "metadata": {},
   "source": [
    "<font size=\"+1\" color=\"red\">Replace this cell with code to display a census of PREVIOUS_DEVICE_MODEL and PREVIOUS_DEVICE_BRAND. You should create and display a dataframe in each case.</font>"
   ]
  },
  {
   "cell_type": "code",
   "execution_count": 39,
   "metadata": {},
   "outputs": [
    {
     "name": "stdout",
     "output_type": "stream",
     "text": [
      "Census of PREVIOUS_DEVICE_MODEL:\n"
     ]
    },
    {
     "data": {
      "text/html": [
       "<div>\n",
       "<style scoped>\n",
       "    .dataframe tbody tr th:only-of-type {\n",
       "        vertical-align: middle;\n",
       "    }\n",
       "\n",
       "    .dataframe tbody tr th {\n",
       "        vertical-align: top;\n",
       "    }\n",
       "\n",
       "    .dataframe thead th {\n",
       "        text-align: right;\n",
       "    }\n",
       "</style>\n",
       "<table border=\"1\" class=\"dataframe\">\n",
       "  <thead>\n",
       "    <tr style=\"text-align: right;\">\n",
       "      <th></th>\n",
       "      <th>Name</th>\n",
       "      <th>Census</th>\n",
       "    </tr>\n",
       "  </thead>\n",
       "  <tbody>\n",
       "    <tr>\n",
       "      <th>8</th>\n",
       "      <td>NaN</td>\n",
       "      <td>3831</td>\n",
       "    </tr>\n",
       "    <tr>\n",
       "      <th>18</th>\n",
       "      <td>iPhone 7</td>\n",
       "      <td>425</td>\n",
       "    </tr>\n",
       "    <tr>\n",
       "      <th>3</th>\n",
       "      <td>iPhone 6</td>\n",
       "      <td>250</td>\n",
       "    </tr>\n",
       "    <tr>\n",
       "      <th>7</th>\n",
       "      <td>Samsung Galaxy J5</td>\n",
       "      <td>243</td>\n",
       "    </tr>\n",
       "    <tr>\n",
       "      <th>10</th>\n",
       "      <td>iPhone 6S</td>\n",
       "      <td>212</td>\n",
       "    </tr>\n",
       "  </tbody>\n",
       "</table>\n",
       "</div>"
      ],
      "text/plain": [
       "                 Name  Census\n",
       "8                 NaN    3831\n",
       "18           iPhone 7     425\n",
       "3            iPhone 6     250\n",
       "7   Samsung Galaxy J5     243\n",
       "10          iPhone 6S     212"
      ]
     },
     "execution_count": 39,
     "metadata": {},
     "output_type": "execute_result"
    }
   ],
   "source": [
    "previous_model = {}\n",
    "previous_model_df = []\n",
    "print(\"Census of PREVIOUS_DEVICE_MODEL:\")\n",
    "for data in input_dataset.PREVIOUS_DEVICE_MODEL:\n",
    "    if data not in previous_model.keys():\n",
    "        previous_model[data] = 0\n",
    "    previous_model[data] +=1\n",
    "    \n",
    "for key in previous_model.keys():\n",
    "    previous_model_df.append({\"Name\":key,\"Census\":previous_model[key]})\n",
    "    \n",
    "previous_model_df = pd.DataFrame(previous_model_df,columns=['Name','Census'])\n",
    "previous_model_df.sort_values(\"Census\",ascending=False).head()"
   ]
  },
  {
   "cell_type": "code",
   "execution_count": 40,
   "metadata": {},
   "outputs": [
    {
     "name": "stdout",
     "output_type": "stream",
     "text": [
      "Census of PREVIOUS_DEVICE_BRAND:\n"
     ]
    },
    {
     "data": {
      "text/html": [
       "<div>\n",
       "<style scoped>\n",
       "    .dataframe tbody tr th:only-of-type {\n",
       "        vertical-align: middle;\n",
       "    }\n",
       "\n",
       "    .dataframe tbody tr th {\n",
       "        vertical-align: top;\n",
       "    }\n",
       "\n",
       "    .dataframe thead th {\n",
       "        text-align: right;\n",
       "    }\n",
       "</style>\n",
       "<table border=\"1\" class=\"dataframe\">\n",
       "  <thead>\n",
       "    <tr style=\"text-align: right;\">\n",
       "      <th></th>\n",
       "      <th>Name</th>\n",
       "      <th>Census</th>\n",
       "    </tr>\n",
       "  </thead>\n",
       "  <tbody>\n",
       "    <tr>\n",
       "      <th>4</th>\n",
       "      <td>NaN</td>\n",
       "      <td>3831</td>\n",
       "    </tr>\n",
       "    <tr>\n",
       "      <th>1</th>\n",
       "      <td>Samsung</td>\n",
       "      <td>1877</td>\n",
       "    </tr>\n",
       "    <tr>\n",
       "      <th>3</th>\n",
       "      <td>Outros</td>\n",
       "      <td>1592</td>\n",
       "    </tr>\n",
       "    <tr>\n",
       "      <th>2</th>\n",
       "      <td>Apple</td>\n",
       "      <td>1548</td>\n",
       "    </tr>\n",
       "    <tr>\n",
       "      <th>0</th>\n",
       "      <td>Motorola</td>\n",
       "      <td>638</td>\n",
       "    </tr>\n",
       "  </tbody>\n",
       "</table>\n",
       "</div>"
      ],
      "text/plain": [
       "       Name  Census\n",
       "4       NaN    3831\n",
       "1   Samsung    1877\n",
       "3    Outros    1592\n",
       "2     Apple    1548\n",
       "0  Motorola     638"
      ]
     },
     "execution_count": 40,
     "metadata": {},
     "output_type": "execute_result"
    }
   ],
   "source": [
    "previous_brand = {}\n",
    "previous_brand_df = []\n",
    "print(\"Census of PREVIOUS_DEVICE_BRAND:\")\n",
    "for data in input_dataset.PREVIOUS_DEVICE_BRAND:\n",
    "    if data not in previous_brand.keys():\n",
    "        previous_brand[data] = 0\n",
    "    previous_brand[data] +=1\n",
    "    \n",
    "for key in previous_brand.keys():\n",
    "    previous_brand_df.append({\"Name\":key,\"Census\":previous_brand[key]})\n",
    "    \n",
    "previous_brand_df = pd.DataFrame(previous_brand_df,columns=['Name','Census'])\n",
    "previous_brand_df.sort_values(\"Census\",ascending=False).head()"
   ]
  },
  {
   "cell_type": "markdown",
   "metadata": {},
   "source": [
    "<font size=\"+1\" color=\"red\">The most common device model and the most common device brand do not match, why do you think it is so? Replace this cell with an explanation.</font>"
   ]
  },
  {
   "cell_type": "markdown",
   "metadata": {},
   "source": [
    "El device model més comú és el iPhone7 seguit del iPhone6, però la device brand més comuna és Samsung. Aquest fet pot haber estat provocat a causa de que molts dataframes de iPhone al camp de brand hi apareix NaN i no la marca iPhone, i això pot haber derivat a que finalment tot i que els models de mòvil de Samsung no ocupen les primeres posicions, es coloquen com a marca líder. Si eliminessim els NaN podriem visualitzar més clarament quina marca és realment la més popular, la qual podria seguir sent Samsung per la seva gran quantitat de models o iPhone pels seus models amb un número tan gran de ventes."
   ]
  },
  {
   "cell_type": "markdown",
   "metadata": {},
   "source": [
    "# 2. Feature engineering"
   ]
  },
  {
   "cell_type": "markdown",
   "metadata": {},
   "source": [
    "Feature engineering is the process of extracting valuable features from the data. This requires pre-processing, combining, normalizing, and performing other operations on the values of some features.\n",
    "\n",
    "<font size=\"-1\" color=\"gray\">(Remove this cell when delivering.)</font>"
   ]
  },
  {
   "cell_type": "markdown",
   "metadata": {},
   "source": [
    "## 2.1. Missing values management"
   ]
  },
  {
   "cell_type": "markdown",
   "metadata": {},
   "source": [
    "**Not A Number** (NaN) is a generic term to refer to *something that should be a number, but is not*. Usually, the value is either missing completely (\"null\") or contains the wrong type of object, such as a string or a concept such as infinity.\n",
    "\n",
    "To find which columns contain NaN values, you can use the [isna()](https://pandas.pydata.org/pandas-docs/stable/reference/api/pandas.DataFrame.isna.html) function, as explained, e.g., [here](https://medium.com/dunder-data/finding-the-percentage-of-missing-values-in-a-pandas-dataframe-a04fa00f84ab). \n",
    "\n",
    "<font size=\"-1\" color=\"gray\">(Remove this cell when delivering.)</font>"
   ]
  },
  {
   "cell_type": "markdown",
   "metadata": {},
   "source": [
    "<font size=\"+1\" color=\"red\">Replace this cell with your code to print which columns contain at least one NaN value, and how many NaN values are in that column, as well as how many non NaN values are in that column. You should create a dataframe `nan_counter` and display it.</font>"
   ]
  },
  {
   "cell_type": "code",
   "execution_count": 50,
   "metadata": {},
   "outputs": [
    {
     "data": {
      "text/html": [
       "<div>\n",
       "<style scoped>\n",
       "    .dataframe tbody tr th:only-of-type {\n",
       "        vertical-align: middle;\n",
       "    }\n",
       "\n",
       "    .dataframe tbody tr th {\n",
       "        vertical-align: top;\n",
       "    }\n",
       "\n",
       "    .dataframe thead th {\n",
       "        text-align: right;\n",
       "    }\n",
       "</style>\n",
       "<table border=\"1\" class=\"dataframe\">\n",
       "  <thead>\n",
       "    <tr style=\"text-align: right;\">\n",
       "      <th></th>\n",
       "      <th>Name</th>\n",
       "      <th>NaN</th>\n",
       "      <th>Non-NaN</th>\n",
       "    </tr>\n",
       "  </thead>\n",
       "  <tbody>\n",
       "    <tr>\n",
       "      <th>0</th>\n",
       "      <td>PURCHASED_DEVICE</td>\n",
       "      <td>147</td>\n",
       "      <td>9853</td>\n",
       "    </tr>\n",
       "    <tr>\n",
       "      <th>1</th>\n",
       "      <td>DEVICE_VALUE</td>\n",
       "      <td>310</td>\n",
       "      <td>9690</td>\n",
       "    </tr>\n",
       "    <tr>\n",
       "      <th>2</th>\n",
       "      <td>LAST_DEVICE_CHANGE</td>\n",
       "      <td>2318</td>\n",
       "      <td>7682</td>\n",
       "    </tr>\n",
       "    <tr>\n",
       "      <th>3</th>\n",
       "      <td>DATA_TRAFFIC_MONTH_1</td>\n",
       "      <td>1132</td>\n",
       "      <td>8868</td>\n",
       "    </tr>\n",
       "    <tr>\n",
       "      <th>4</th>\n",
       "      <td>DATA_TRAFFIC_MONTH_2</td>\n",
       "      <td>1159</td>\n",
       "      <td>8841</td>\n",
       "    </tr>\n",
       "  </tbody>\n",
       "</table>\n",
       "</div>"
      ],
      "text/plain": [
       "                   Name   NaN  Non-NaN\n",
       "0      PURCHASED_DEVICE   147     9853\n",
       "1          DEVICE_VALUE   310     9690\n",
       "2    LAST_DEVICE_CHANGE  2318     7682\n",
       "3  DATA_TRAFFIC_MONTH_1  1132     8868\n",
       "4  DATA_TRAFFIC_MONTH_2  1159     8841"
      ]
     },
     "execution_count": 50,
     "metadata": {},
     "output_type": "execute_result"
    }
   ],
   "source": [
    "nan_counter = []\n",
    "\n",
    "for column in input_dataset.columns:\n",
    "    nan_count = input_dataset[column].isna().sum()\n",
    "    non_nan_count = input_dataset[column].count()\n",
    "    if nan_count > 0:\n",
    "        nan_counter.append([column,nan_count,non_nan_count])\n",
    "        \n",
    "nan_counter = pd.DataFrame(nan_counter,columns=['Name','NaN','Non-NaN'])\n",
    "nan_counter.head()"
   ]
  },
  {
   "cell_type": "markdown",
   "metadata": {},
   "source": [
    "The way **NaNs** are managed varies according to the meaning of each variable. In some occasions, registers should be removed, filled with other columns or calculated (imputed).\n",
    "\n",
    "* To delete rows containing a null value, we can use [dropna](https://pandas.pydata.org/pandas-docs/stable/reference/api/pandas.DataFrame.dropna.html)\n",
    "* To replace null values, we can use [fillna](https://pandas.pydata.org/pandas-docs/stable/reference/api/pandas.DataFrame.fillna.html)\n",
    "\n",
    "Please note that these steps should be applied sequentially, i.e., the output of one step should be fed into the next step. You can do, for instance: `df02 = df01.operation(...)` followed by `df03 = df02.operation(...)` and so on.\n",
    "\n",
    "<font size=\"-1\" color=\"gray\">(Remove this cell when delivering.)</font>"
   ]
  },
  {
   "cell_type": "markdown",
   "metadata": {},
   "source": [
    "<font size=\"+1\" color=\"red\">If there is no **PURCHASED\\_DEVICE**, **DEVICE\\_VALUE**, or **PREVIOUS\\_DEVICE\\_MODEL**, the row is useless to us. Replace this cell with code to remove those rows.</font>"
   ]
  },
  {
   "cell_type": "code",
   "execution_count": 79,
   "metadata": {},
   "outputs": [],
   "source": [
    "df01 = input_dataset.dropna(subset=['PURCHASED_DEVICE','DEVICE_VALUE','PREVIOUS_DEVICE_MODEL'])"
   ]
  },
  {
   "cell_type": "markdown",
   "metadata": {},
   "source": [
    "<font size=\"+1\" color=\"red\">Any NaN value in **DATA\\_TRAFFIC\\_MONTH\\_(1..6)**, **VOICE\\_TRAFFIC\\_MONTH_(1..6)**, **BILLING\\_MONTH_(1..6)**, or **DEVICE\\_COST\\_MONTH\\_(1..6)** should be assumed to be 0. Replace this cell with code to do that imputation.</font>"
   ]
  },
  {
   "cell_type": "code",
   "execution_count": 80,
   "metadata": {},
   "outputs": [
    {
     "ename": "TypeError",
     "evalue": "fillna() got an unexpected keyword argument 'subset'",
     "output_type": "error",
     "traceback": [
      "\u001b[1;31m---------------------------------------------------------------------------\u001b[0m",
      "\u001b[1;31mTypeError\u001b[0m                                 Traceback (most recent call last)",
      "Input \u001b[1;32mIn [80]\u001b[0m, in \u001b[0;36m<cell line: 1>\u001b[1;34m()\u001b[0m\n\u001b[1;32m----> 1\u001b[0m df02 \u001b[38;5;241m=\u001b[39m \u001b[43mdf01\u001b[49m\u001b[38;5;241;43m.\u001b[39;49m\u001b[43mfillna\u001b[49m\u001b[43m(\u001b[49m\u001b[43msubset\u001b[49m\u001b[38;5;241;43m=\u001b[39;49m\u001b[43m[\u001b[49m\u001b[38;5;124;43m'\u001b[39;49m\u001b[38;5;124;43mDATA_TRAFFIC_MONTH\u001b[39;49m\u001b[38;5;124;43m'\u001b[39;49m\u001b[43m,\u001b[49m\u001b[43m \u001b[49m\u001b[38;5;124;43m'\u001b[39;49m\u001b[38;5;124;43mVOICE_TRAFFIC_MONTH\u001b[39;49m\u001b[38;5;124;43m'\u001b[39;49m\u001b[43m,\u001b[49m\u001b[43m \u001b[49m\u001b[38;5;124;43m'\u001b[39;49m\u001b[38;5;124;43mBILLING_MONTH\u001b[39;49m\u001b[38;5;124;43m'\u001b[39;49m\u001b[43m,\u001b[49m\u001b[43m \u001b[49m\u001b[38;5;124;43m'\u001b[39;49m\u001b[38;5;124;43mDEVICE_COST_MONTH\u001b[39;49m\u001b[38;5;124;43m'\u001b[39;49m\u001b[43m]\u001b[49m\u001b[43m)\u001b[49m\n",
      "File \u001b[1;32m~\\anaconda3\\lib\\site-packages\\pandas\\util\\_decorators.py:311\u001b[0m, in \u001b[0;36mdeprecate_nonkeyword_arguments.<locals>.decorate.<locals>.wrapper\u001b[1;34m(*args, **kwargs)\u001b[0m\n\u001b[0;32m    305\u001b[0m \u001b[38;5;28;01mif\u001b[39;00m \u001b[38;5;28mlen\u001b[39m(args) \u001b[38;5;241m>\u001b[39m num_allow_args:\n\u001b[0;32m    306\u001b[0m     warnings\u001b[38;5;241m.\u001b[39mwarn(\n\u001b[0;32m    307\u001b[0m         msg\u001b[38;5;241m.\u001b[39mformat(arguments\u001b[38;5;241m=\u001b[39marguments),\n\u001b[0;32m    308\u001b[0m         \u001b[38;5;167;01mFutureWarning\u001b[39;00m,\n\u001b[0;32m    309\u001b[0m         stacklevel\u001b[38;5;241m=\u001b[39mstacklevel,\n\u001b[0;32m    310\u001b[0m     )\n\u001b[1;32m--> 311\u001b[0m \u001b[38;5;28;01mreturn\u001b[39;00m func(\u001b[38;5;241m*\u001b[39margs, \u001b[38;5;241m*\u001b[39m\u001b[38;5;241m*\u001b[39mkwargs)\n",
      "\u001b[1;31mTypeError\u001b[0m: fillna() got an unexpected keyword argument 'subset'"
     ]
    }
   ],
   "source": [
    "df02 = df01.fillna(value=0, subset=['DATA_TRAFFIC_MONTH', 'VOICE_TRAFFIC_MONTH', 'BILLING_MONTH', 'DEVICE_COST_MONTH'])"
   ]
  },
  {
   "cell_type": "markdown",
   "metadata": {},
   "source": [
    "<font size=\"+1\" color=\"red\">If there is no **LINE\\_ACTIVATION\\_DATE**, we will assume it is equal to **LAST\\_DEVICE\\_CHANGE**. Replace this cell with code to do that imputation.</font>"
   ]
  },
  {
   "cell_type": "markdown",
   "metadata": {},
   "source": [
    "<font size=\"+1\" color=\"red\">Replace this cell with code to print the header and the first ten rows after this processing</font>"
   ]
  },
  {
   "cell_type": "markdown",
   "metadata": {},
   "source": [
    "If `df` is a dataframe, `df.shape` contains a tuple with the number of rows and the number of columns of the data frame. You should now print something like this:\n",
    "\n",
    "```\n",
    "Rows in the original dataset: M\n",
    "Rows in the new dataset: N ((100*(M-N)/M)% less)\n",
    "```\n",
    "\n",
    "<font size=\"-1\" color=\"gray\">(Remove this cell when delivering.)</font>"
   ]
  },
  {
   "cell_type": "markdown",
   "metadata": {},
   "source": [
    "<font size=\"+1\" color=\"red\">Replace this cell with code to print the number of rows of the original dataset, the number of rows of the new dataset, and the percentage of rows that were dropped, as well as the names of the columns that still contain NaN values, if any.</font>"
   ]
  },
  {
   "cell_type": "markdown",
   "metadata": {},
   "source": [
    "## 2.2. Distributions, outliers, and correlations"
   ]
  },
  {
   "cell_type": "markdown",
   "metadata": {},
   "source": [
    "We will now plot the distributions of some variables and apply some transformations.\n",
    "\n",
    "* You can use [Seaborn library](https://seaborn.pydata.org/) with `kde=False` to create a histogram.\n",
    "* You can use [pandas.DataFrame.plot](https://pandas.pydata.org/pandas-docs/stable/reference/api/pandas.DataFrame.plot.html) with `kind='box'` to create a boxplot.\n",
    "    \n",
    "<font size=\"-1\" color=\"gray\">(Remove this cell when delivering.)</font>"
   ]
  },
  {
   "cell_type": "markdown",
   "metadata": {},
   "source": [
    "<font size=\"+1\" color=\"red\">Replace this cell with a series of cells with code to plot a histogram of **DEVICE\\_VALUE**, **VOICE\\_TRAFFIC\\_MONTH\\_1-3** (include a legend, each month should be a different color),  **BILLING\\_MONTH\\_2**, **DURATION\\_LINE**. Remember to include labels on the x axis and y axis</font>\n",
    "\n",
    "<font size=\"+1\" color=\"red\">Include after each histogram a markdown cell where you indicate if you recognize any specific distribution (normal, exponential, uniform, ...) or any characteristic of the distribution (unimodal, bimodal).</font>"
   ]
  },
  {
   "cell_type": "markdown",
   "metadata": {},
   "source": [
    "Variables having exponential distribution can be processed and visualized better after transforming them, usually by applying the `log(x+1)` function (we want to avoid zeros, hence the +1).\n",
    "    \n",
    "<font size=\"-1\" color=\"gray\">(Remove this cell when delivering.)</font>"
   ]
  },
  {
   "cell_type": "markdown",
   "metadata": {},
   "source": [
    "<font size=\"+1\" color=\"red\">Replace this cell with code to apply **log(x+1)** to **VOICE\\_TRAFFIC\\_MONTH\\_2** and plot its new distribution.</font>"
   ]
  },
  {
   "cell_type": "markdown",
   "metadata": {},
   "source": [
    "<font size=\"+1\" color=\"red\">Replace this cell with code to create a boxplot for variables **DATA\\_TRAFFIC\\_MONTH\\_2**, **VOICE\\_TRAFFIC\\_MONTH\\_2** and **BILLING\\_MONTH\\_2**</font>"
   ]
  },
  {
   "cell_type": "markdown",
   "metadata": {},
   "source": [
    "<font size=\"+1\" color=\"red\">Replace this cell with a brief commentary indicating which extreme values would you use as threshold for **outliers** in these variables, by looking at these box plots</font>"
   ]
  },
  {
   "cell_type": "markdown",
   "metadata": {},
   "source": [
    "In this dataset, there are many dependencies between different attributes, e.g., a large voice traffic will probably be associated with a large data traffic, a more expensive bill, and possibly a more expensive device (`DEVICE_VALUE`).\n",
    "\n",
    "You can use [pandas.DataFrame.corr](https://pandas.pydata.org/pandas-docs/stable/reference/api/pandas.DataFrame.corr.html) to compute a correlation matrix, and [matplotlib.pyplot.matshow](https://matplotlib.org/3.1.1/api/_as_gen/matplotlib.pyplot.matshow.html) to show this graphically.\n",
    "\n",
    "<font size=\"-1\" color=\"gray\">(Remove this cell when delivering.)</font>"
   ]
  },
  {
   "cell_type": "markdown",
   "metadata": {},
   "source": [
    "<font size=\"+1\" color=\"red\">Replace this cell with code to calculate the correlation between all traffic attributes (i.e., voice and data), duration line, billing, device cost and device value. Display the result as a table with rows and columns corresponding to columns, and cells indicating correlations. Display the result as an image using ``matshow``</font>"
   ]
  },
  {
   "cell_type": "markdown",
   "metadata": {},
   "source": [
    "<font size=\"+1\" color=\"red\">Replace this cell with a brief commentary on the results. Is the billing more correlated, in general, with the data traffic or with the voice traffic?</font>"
   ]
  },
  {
   "cell_type": "markdown",
   "metadata": {},
   "source": [
    "## 2.3. Date management and period calculation"
   ]
  },
  {
   "cell_type": "markdown",
   "metadata": {},
   "source": [
    "First, we will determine the date of the `LAST_DEVICE_CHANGE` of the last device that was changed in the entire dataset (i.e., the maximum value of the `LAST_DEVICE_CHANGE` column, plus 30 days). We will refer to that date as `latest_change`.\n",
    "\n",
    "Note that `LAST_DEVICE_CHANGE` is expressed as a floating point number in the format `YYYYMMDD.0`, for instance 3 of July of 2018 would be `20180703.0`. Convert to integer first, then to string.\n",
    "\n",
    "As a string, this is formatted according to [strptime](https://www.geeksforgeeks.org/python-datetime-strptime-function/) conventions with format `%Y%m%d`.\n",
    "\n",
    "Use [datetime.datetime.strptime](https://docs.python.org/3/library/datetime.html#datetime.datetime.strptime) to convert to create object `latest_change` and print it.\n",
    "\n",
    "Next, add 30 days to that date to obtain object `now` (we will assume we are doing this processing 30 days after the latest device change). Use a `datetime.timedelta` object for that.\n",
    "\n",
    "Your output should look like this:\n",
    "\n",
    "```\n",
    "2019-05-01 00:00:00\n",
    "2019-05-31 00:00:00\n",
    "```\n",
    "\n",
    "<font size=\"-1\" color=\"gray\">(Remove this cell when delivering.)</font>"
   ]
  },
  {
   "cell_type": "markdown",
   "metadata": {},
   "source": [
    "<font size=\"+1\" color=\"red\">Replace this cell with code to create and print `latest_change` and `now`.</font>"
   ]
  },
  {
   "cell_type": "markdown",
   "metadata": {},
   "source": [
    "Now, obtain the series corresponding to the last device change, you can do it by using [pandas.to_datetime](https://pandas.pydata.org/pandas-docs/stable/reference/api/pandas.to_datetime.html) as if you were using `strptime`:\n",
    "\n",
    "```\n",
    "series_converted = pd.to_datetime(dataframe[column_name], format='%Y%m%d')\n",
    "```\n",
    "\n",
    "Now compute the difference between the now and the series_converted. \n",
    "\n",
    "Divide that difference by `30 * datetime.timedelta(days=1)` to obtain the difference in periods of 30 days (approximately one month).\n",
    "\n",
    "Replace the `MONTHS_LAST_DEVICE` column with those differences. You may need to [fill the NaN with zeroes](https://pandas.pydata.org/docs/reference/api/pandas.DataFrame.fillna.html), and [convert to type](https://pandas.pydata.org/docs/reference/api/pandas.DataFrame.astype.html) `int`.\n",
    "\n",
    "\n",
    "<font size=\"-1\" color=\"gray\">(Remove this cell when delivering.)</font>"
   ]
  },
  {
   "cell_type": "markdown",
   "metadata": {},
   "source": [
    "<font size=\"+1\" color=\"red\">Replace this cell with code that replaces the **MONTHS_LAST_DEVICE** column to be equal to the difference, in periods of 30 days, between **LAST_DEVICE_CHANGE** and the `now` variable.</font>"
   ]
  },
  {
   "cell_type": "markdown",
   "metadata": {},
   "source": [
    "<font size=\"+1\" color=\"red\">Replace this cell with code to update the **DURATION_LINE** value to be the difference, in days, between **LINE_ACTIVATION_DATE** and the `now` variable.\n",
    "    \n",
    "Indicate the average of **DURATION_LINE** -- what is that in years, approximately?</font>"
   ]
  },
  {
   "cell_type": "markdown",
   "metadata": {},
   "source": [
    "\n",
    "## 2.4. Standarization and scaling of numerical variables"
   ]
  },
  {
   "cell_type": "markdown",
   "metadata": {},
   "source": [
    "Scaling a series involves changing the values. Standardization involves ensuring that the mean is 0 and the standard deviation is 1, while min-max scaling requires that the maximum is 1, the minimum is 0, and all remaining values are linearly interpolated.\n",
    "\n",
    "You can use [StandardScaler()](https://scikit-learn.org/stable/modules/generated/sklearn.preprocessing.StandardScaler.html) to standarize a variable, and [MinMaxScaler()](https://scikit-learn.org/stable/modules/generated/sklearn.preprocessing.MinMaxScaler.html) to perform min-max scaling.\n",
    "\n",
    "The following example shows how to use these:\n",
    "\n",
    "```python\n",
    "test_data = [{'x': -1.0}, {'x': 2.0}, {'x': 3.0}, {'x': 6.0}]\n",
    "test_df = pd.DataFrame(test_data)\n",
    "display(test_df)\n",
    "\n",
    "test_df['x_standardized'] = StandardScaler().fit_transform(test_df[['x']])\n",
    "test_df['x_minmaxscaled'] = MinMaxScaler().fit_transform(test_df[['x']])\n",
    "display(test_df)\n",
    "```\n",
    "\n",
    "<font size=\"-1\" color=\"gray\">(Remove this cell when delivering.)</font>"
   ]
  },
  {
   "cell_type": "markdown",
   "metadata": {},
   "source": [
    "<font size=\"+1\" color=\"red\">Replace this cell with code to standardize and min-max scale the **DATA_TRAFFIC_MONTH_1**, **VOICE_TRAFFIC_MONTH_1**, **BILLING_MONTH_1** and **DEVICE_COST_MONTH_1** columns. Save the results in new colums with the same name followed by **_STANDARD** and **_MINMAX** (e.g., DATA\\_TRAFFIC\\_MONTH\\_1\\_STAND, DATA\\_TRAFFIC\\_MONTH\\_1\\_MINMAX). Plot a histogram for each new variable.</font>\n",
    "\n"
   ]
  },
  {
   "cell_type": "markdown",
   "metadata": {},
   "source": [
    "## 2.5. Convert categorical columns to dummy binary variables"
   ]
  },
  {
   "cell_type": "markdown",
   "metadata": {},
   "source": [
    "Categorical variables usually need to be transformed into numerical values to apply some machine learning methods.\n",
    "\n",
    "Use [LabelEncoder()](https://scikit-learn.org/stable/modules/generated/sklearn.preprocessing.LabelEncoder.html) to transform a categorical variable to integer values. Example:\n",
    "\n",
    "```python\n",
    "colors_data = [{'color': 'Blue'}, {'color': 'Red'}, {'color': 'Orange'},\n",
    "               {'color': 'Blue'}, {'color': 'Orange'}, {'color': 'Blue'}]\n",
    "colors_df = pd.DataFrame(colors_data, columns=['color'])\n",
    "\n",
    "colors_df['colors_int_encoded'] = LabelEncoder().fit_transform(colors_df['color'])\n",
    "display(colors_df)\n",
    "```\n",
    "\n",
    "<font size=\"-1\" color=\"gray\">(Remove this cell when delivering.)</font>"
   ]
  },
  {
   "cell_type": "markdown",
   "metadata": {},
   "source": [
    "<font size=\"+1\" color=\"red\">Create variable **PREVIOUS_DEVICE_BRAND_INT_ENCODED** containing an integer encoding of variable **PREVIOUS_DEVICE_BRAND**.</font>"
   ]
  },
  {
   "cell_type": "markdown",
   "metadata": {},
   "source": [
    "You can use [get_dummies()](https://pandas.pydata.org/pandas-docs/stable/reference/api/pandas.get_dummies.html) to convert a categorical variable to multiple columns using one-hot encoding. Example:\n",
    "\n",
    "```\n",
    "colors_data = [{'color': 'Blue'}, {'color': 'Red'}, {'color': 'Orange'},\n",
    "               {'color': 'Blue'}, {'color': 'Orange'}, {'color': 'Blue'}]\n",
    "colors_df = pd.DataFrame(colors_data, columns=['color'])\n",
    "\n",
    "color_dummies = pd.get_dummies(colors_df['color'], prefix='color_')\n",
    "colors_df_with_dummies = colors_df.join(color_dummies)\n",
    "display(colors_df_with_dummies)\n",
    "```\n",
    "\n",
    "\n",
    "<font size=\"-1\" color=\"gray\">(Remove this cell when delivering.)</font>"
   ]
  },
  {
   "cell_type": "markdown",
   "metadata": {},
   "source": [
    "<font size=\"+1\" color=\"red\">Replace this cell with code to convert **PREVIOUS_DEVICE_MANUF** to dummy binary variables.</font>"
   ]
  },
  {
   "cell_type": "markdown",
   "metadata": {},
   "source": [
    "## 2.6. Feature generation"
   ]
  },
  {
   "cell_type": "markdown",
   "metadata": {},
   "source": [
    "In the current dataset we have a historic of 6 months for data traffic, voice traffic, billing and device cost. Feature generation consists of creating new attributes from the current dataset that can help us to create, e.g., better predictive models.\n",
    "\n",
    "<font size=\"-1\" color=\"gray\">(Remove this cell when delivering.)</font>"
   ]
  },
  {
   "cell_type": "markdown",
   "metadata": {},
   "source": [
    "<font size=\"+1\" color=\"red\">Replace this cell with code to create from the 6 months of **DATA_TRAFFIC\\_MONTH\\_[1-6]**, **VOICE_TRAFFIC\\_MONTH\\_[1-6]**, **BILLING\\_MONTH\\_[1-6]** and **DEVICE_COST\\_MONTH\\_[1-6]**, new columns with the mean, maximum, minimum, range (i.e., difference between maximum and minimum) for each element. For instance, column **DATA_TRAFFIC_MEAN** should contain the average of these six numbers: **DATA_TRAFFIC_MONTH_1**, **DATA_TRAFFIC_MONTH_2**, ..., **DATA_TRAFFIC_MONTH_6**.</font>"
   ]
  },
  {
   "cell_type": "markdown",
   "metadata": {},
   "source": [
    "<font size=\"+1\" color=\"red\">Replace this cell with code create an additional column **DEVICE_COST_TO_BILLING_RATIO** containing the ratio between **DEVICE_COST_MEAN** and **BILLING_MEAN** and plot its distribution.</font>"
   ]
  },
  {
   "cell_type": "markdown",
   "metadata": {},
   "source": [
    "<font size=\"+1\" color=\"red\">Replace this cell with a brief commentary on the distribution of the variable **DEVICE_COST_TO_BILLING_RATIO**. Can you recognize its distribution?</font>"
   ]
  },
  {
   "cell_type": "markdown",
   "metadata": {},
   "source": [
    "## 2.7. Text parsing/processing"
   ]
  },
  {
   "cell_type": "markdown",
   "metadata": {},
   "source": [
    "In machine learning, text processing is a very useful tool that can be used to improve datasets. In some use cases, for instance customer care applications using digital channels as Whatsapp, Facebook, etc..., data scientist teams mainly work with text data.\n",
    "\n",
    "One of the text processing technique is to extract concrete words or tokens from a sentence or documents. Regular expressions are a great tool to extract data trough these patterns.\n",
    "\n",
    "In this dataset, note that **PURCHASED_DEVICE** is a variable that is formed by a \"**device_code**\"+\"**_**\"+\"**manufacture name**\"+\"**  **\"+\"**device model**\". We want to split this variable into its components.\n",
    "\n",
    "Tip: use [str.split](https://pandas.pydata.org/pandas-docs/stable/reference/api/pandas.Series.str.split.html) to separate a string into several parts.\n",
    "\n",
    "<font size=\"-1\" color=\"gray\">(Remove this cell when delivering.)</font>"
   ]
  },
  {
   "cell_type": "markdown",
   "metadata": {},
   "source": [
    "<font size=\"+1\" color=\"red\">Replace this cell with code to use the **PURCHASED_DEVICE** variable to create 3 new columns with the following variables names: **PURCHASED_DEVICE_CODE**, **PURCHASED_DEVICE_MANUFACTURER** and **PURCHASED_DEVICE_MODEL**.</font>"
   ]
  },
  {
   "cell_type": "markdown",
   "metadata": {},
   "source": [
    "<font size=\"+1\" color=\"red\">Replace this cell with code to create two tables: one with the number of devices per manufacturer in **PURCHASED_DEVICE_MANUFACTURER** and one with the number of devices per manufacturer in  **PREVIOUS_DEVICE_MANUF**."
   ]
  },
  {
   "cell_type": "markdown",
   "metadata": {},
   "source": [
    "## 2.8. Splitting and sampling a dataset"
   ]
  },
  {
   "cell_type": "markdown",
   "metadata": {},
   "source": [
    "Splitting and sampling dataset are techniques that distribute the original dataset in n-parts. One of the most interesting application of these tools is to separate the dataset to train and test a machine learning model. Meanwhile sampling guarantees same type of data (i.e. distributions), splitting will separate the dataset with the ratio we need. Usually, 80%-20% or 70%-30% splitting ratios are the most common used.\n",
    "\n",
    "Once again, Sklearn library helps to us to cover this necessity through the function [sklearn.model_selection.train_test_split](https://scikit-learn.org/stable/modules/generated/sklearn.model_selection.train_test_split.html) which splits a dataset into two parts, which usually will be used for training and testing.\n",
    "\n",
    "<font size=\"-1\" color=\"gray\">(Remove this cell when delivering.)</font>"
   ]
  },
  {
   "cell_type": "markdown",
   "metadata": {},
   "source": [
    "<font size=\"+1\" color=\"red\">Replace this cell with code to split the dataset in two separate datasets: one with 70% of the rows and the other with 30% of rows</font>"
   ]
  },
  {
   "cell_type": "markdown",
   "metadata": {},
   "source": [
    "<font size=\"+1\" color=\"red\">Replace this cell with code to compute the main statistics (mean, standard deviation, min, max, 25%, 50%, 75%) for the variables **DATA_TRAFFIC_MONTH_1**, **VOICE_TRAFFIC_MONTH_1** and **BILLING_MONTH_1** in both training and testing parts of the dataset.</font>\n",
    "\n",
    "<font size=\"+1\" color=\"red\">Replace this cell with a brief commentary indicating if you find these statistics match between the two splits, or do not match between them.</font>"
   ]
  },
  {
   "cell_type": "markdown",
   "metadata": {},
   "source": [
    "# 3. Comparing iPhone and Samsung J series users"
   ]
  },
  {
   "cell_type": "markdown",
   "metadata": {},
   "source": [
    "Finally, find some features that are different between users of an Apple iPhone and users of a Samsung J series phone (this includes J410G, J610G, J415G, and all other models by Samsung that start with a *J*).\n",
    "\n",
    "<font size=\"-1\" color=\"gray\">(Remove this cell when delivering.)</font>"
   ]
  },
  {
   "cell_type": "markdown",
   "metadata": {},
   "source": [
    "<font size=\"+1\" color=\"red\">Replace this cell with code to create two dataframes: one with all the attributes of Apple iPhone users and one with all the attributes of Samsung J series users.</font>"
   ]
  },
  {
   "cell_type": "markdown",
   "metadata": {},
   "source": [
    "<font size=\"+1\" color=\"red\">Replace this cell with code to compare some variables between the two datasets. Consider 2 or 3 variables, plot together the histograms of each variable in both datasets (including a legend).</font>"
   ]
  },
  {
   "cell_type": "markdown",
   "metadata": {},
   "source": [
    "<font size=\"+1\" color=\"red\">Replace this cell with a brief commentary on the differences you found between these two groups of users.</font>"
   ]
  },
  {
   "cell_type": "markdown",
   "metadata": {},
   "source": [
    "# DELIVER (individually)\n",
    "\n",
    "Remember to read the section on \"delivering your code\" in the [course evaluation guidelines](https://github.com/chatox/data-mining-course/blob/master/upf/upf-evaluation.md).\n",
    "\n",
    "Deliver a zip file containing:\n",
    "\n",
    "* This notebook\n",
    "\n",
    "## Extra points available\n",
    "\n",
    "For more learning and extra points, remember what you learned in machine learning and create a simple [decision tree model](https://scikit-learn.org/stable/modules/tree.html) having as input variables:\n",
    "\n",
    "1. PREVIOUS\\_DEVICE\\_MODEL\n",
    "1. PREVIOUS\\_DEVICE\\_BRAND\n",
    "1. MONTHS\\_LAST\\_DEVICE\n",
    "\n",
    "And as output variable `PURCHASED_DEVICE_MANUFACTURER`. Measure the accuracy of this 3-variables model. Then, add two more variables, of your own choice, that improve the classification accuracy. Measure the accuracy of this 5-variables model.\n",
    "\n",
    "\n",
    "**Note:** if you go for the extra points, add ``<font size=\"+2\" color=\"blue\">Additional results: model purchased device</font>`` at the top of your notebook.\n",
    "\n",
    "<font size=\"-1\" color=\"gray\">(Remove this cell when delivering.)</font>"
   ]
  },
  {
   "cell_type": "markdown",
   "metadata": {},
   "source": [
    "<font size=\"+2\" color=\"#003300\">I hereby declare that, except for the code provided by the course instructors, all of my code, report, and figures were produced by myself.</font>"
   ]
  }
 ],
 "metadata": {
  "kernelspec": {
   "display_name": "Python 3 (ipykernel)",
   "language": "python",
   "name": "python3"
  },
  "language_info": {
   "codemirror_mode": {
    "name": "ipython",
    "version": 3
   },
   "file_extension": ".py",
   "mimetype": "text/x-python",
   "name": "python",
   "nbconvert_exporter": "python",
   "pygments_lexer": "ipython3",
   "version": "3.9.12"
  }
 },
 "nbformat": 4,
 "nbformat_minor": 2
}
