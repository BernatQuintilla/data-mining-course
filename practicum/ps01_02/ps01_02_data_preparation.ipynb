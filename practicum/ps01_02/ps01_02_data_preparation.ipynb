{
 "cells": [
  {
   "cell_type": "markdown",
   "metadata": {},
   "source": [
    "# Practice Session 01+02: Data preparation"
   ]
  },
  {
   "cell_type": "markdown",
   "metadata": {},
   "source": [
    "Data scientists [spend a big chunk of their time preparing data](https://blog.ldodds.com/2020/01/31/do-data-scientists-spend-80-of-their-time-cleaning-data-turns-out-no/) and this is one of the first steps in any data mining project. This step is normally called **data preparation**.\n",
    "\n",
    "The processes of getting an initial understanding of a dataset and preparing it usually go hand-in-hand, and it is critical to perform them well to obtain valid results later. Plus, you can save time and effort by learning how to do proper data preparation.\n",
    "\n",
    "In this session, we will assume you just received a new dataset and need to do some initial steps with it:\n",
    "\n",
    "1) Exploratory Data Analysis\n",
    "\n",
    "* Calculate basis statistics as mean, median, variance, maximum and minimum\n",
    "* Look at distributions, identify outliers\n",
    "* Calculate correlations between variables\n",
    "\n",
    "2) Feature engineering:\n",
    "\n",
    "* Deal with missing values\n",
    "* Standardize all numerical columns\n",
    "* Convert categorical columns to dummy binary variables\n",
    "* Date and period management\n",
    "* Feature generation\n",
    "\n",
    "*Tip*: This process has several steps. It is tempting to maintain a single variable throughout the entire cleaning process, and do something like `x = x.step1()` then `x = x.step2()`. This will create problems for you because if you go back and re-execute a cell it might fail to operate on already transformed data. A better approach in cases like this where you do not have memory problems, is to do `x1 = x.step1()`, `x2 = x1.step2()` and so on, i.e., create a new variable after each transformation or set of transformations.\n",
    "\n",
    "<font size=\"-1\" color=\"gray\">(Remove this cell when delivering.)</font>"
   ]
  },
  {
   "cell_type": "markdown",
   "metadata": {},
   "source": [
    "Author: <font color=\"blue\">Your name here</font>\n",
    "\n",
    "E-mail: <font color=\"blue\">Your e-mail here</font>\n",
    "\n",
    "Date: <font color=\"blue\">The current date here</font>"
   ]
  },
  {
   "cell_type": "markdown",
   "metadata": {},
   "source": [
    "# 0. The dataset\n",
    "\n",
    "The dataset, contained in `device_db.csv` is a 10000 registers of mobile device purchases around 2019. **Each record in the dataset describes a customer that buys a new mobile telephone**. The attributes are defined as follows:\n",
    " \n",
    "0. PURCHASED_DEVICE: the mobile phone bought by the customer\n",
    "1. DEVICE_VALUE: the cost of the mobile phone bought by the customer\n",
    "2. LAST_DEVICE_DATE: the date of the previous mobile device purchase\n",
    "3. DATA\\_TRAFFIC\\_MONTH_(1..6): The Mbps of data traffic in the month (-1...-6) used by the customer previous to the mobile device purchase\n",
    "4. VOICE\\_TRAFFIC\\_MONTH_(1..6): The minutes of voice traffic in the month (-1...-6) used by the customer previous to the mobile device purchase\n",
    "5. BILLING\\_MONTH\\_(1..6): Billing (USD) in the month (-1...-6) paid by the customer previous to the mobile device purchase\n",
    "6. DEVICE\\_COST\\_MONTH_(1..6): Monthly cost (USD) associated to the mobile device finance in the month (-1...-6) paid by the customer previous to the mobile device purchase: proportion of owner-occupied units built prior to 1940\n",
    "7. LINE\\_ACTIVATION\\_DATE: Date of the activation of the mobile line by the customer\n",
    "8. MONTHS\\_LAST\\_DEVICE: Number of months of the previous mobile device\n",
    "9. DURATION\\_LINE: Number of months since the customer contracted the mobile line\n",
    "10. PREVIOUS\\_DEVICE\\_MODEL: Model of the previous mobile phone\n",
    "11. PREVIOUS\\_DEVICE\\_MANUF: Manufacturer of the previous mobile phone\n",
    "12. PREVIOUS\\_DEVICE\\_BRAND: Brand of the previous mobile phone\n",
    "\n",
    "This dataset will be used in next practices as recommendation engines.\n",
    "\n",
    "<font size=\"-1\" color=\"gray\">(Remove this cell when delivering.)</font>"
   ]
  },
  {
   "cell_type": "markdown",
   "metadata": {},
   "source": [
    "# 1. Exploratory data analysis "
   ]
  },
  {
   "cell_type": "markdown",
   "metadata": {},
   "source": [
    "Exploratory Data Analysis (EDA) allows to us to have an understanding of the dataset from a stadistics perspective, i.e., data distribution and correlation between variables. This is crucial to select the most relevant variables for some purpose.\n",
    "\n",
    "<font size=\"-1\" color=\"gray\">(Remove this cell when delivering.)</font>"
   ]
  },
  {
   "cell_type": "code",
   "execution_count": 1,
   "metadata": {},
   "outputs": [],
   "source": [
    "import pandas as pd\n",
    "import numpy as np\n",
    "import seaborn as sns\n",
    "import matplotlib.pyplot as plt\n",
    "import datetime\n",
    "\n",
    "from matplotlib import pyplot\n",
    "from sklearn.preprocessing import StandardScaler\n",
    "from sklearn.preprocessing import Normalizer\n",
    "from sklearn.preprocessing import MinMaxScaler\n",
    "from numpy import array\n",
    "from numpy import argmax\n",
    "from sklearn.preprocessing import LabelEncoder\n",
    "from sklearn.preprocessing import OneHotEncoder\n",
    "from sklearn.model_selection import train_test_split"
   ]
  },
  {
   "cell_type": "code",
   "execution_count": 2,
   "metadata": {},
   "outputs": [],
   "source": [
    "import sklearn"
   ]
  },
  {
   "cell_type": "markdown",
   "metadata": {},
   "source": [
    "We open the csv file contaning the data using separator \";\" and assign to a dataframe variable (use `read_csv` from the Pandas library).\n",
    "\n",
    "<font size=\"-1\" color=\"gray\">(Remove this cell when delivering.)</font>"
   ]
  },
  {
   "cell_type": "code",
   "execution_count": 3,
   "metadata": {},
   "outputs": [],
   "source": [
    "# LEAVE AS-IS\n",
    "\n",
    "input_dataset = pd.read_csv(\"device_db.csv\", sep=\",\")"
   ]
  },
  {
   "cell_type": "markdown",
   "metadata": {},
   "source": [
    "## 1.1. Data types and simple statistics"
   ]
  },
  {
   "cell_type": "code",
   "execution_count": 4,
   "metadata": {},
   "outputs": [
    {
     "data": {
      "text/html": [
       "<div>\n",
       "<style scoped>\n",
       "    .dataframe tbody tr th:only-of-type {\n",
       "        vertical-align: middle;\n",
       "    }\n",
       "\n",
       "    .dataframe tbody tr th {\n",
       "        vertical-align: top;\n",
       "    }\n",
       "\n",
       "    .dataframe thead th {\n",
       "        text-align: right;\n",
       "    }\n",
       "</style>\n",
       "<table border=\"1\" class=\"dataframe\">\n",
       "  <thead>\n",
       "    <tr style=\"text-align: right;\">\n",
       "      <th></th>\n",
       "      <th>PURCHASED_DEVICE</th>\n",
       "      <th>DEVICE_VALUE</th>\n",
       "      <th>LAST_DEVICE_CHANGE</th>\n",
       "      <th>DATA_TRAFFIC_MONTH_1</th>\n",
       "      <th>DATA_TRAFFIC_MONTH_2</th>\n",
       "      <th>DATA_TRAFFIC_MONTH_3</th>\n",
       "      <th>DATA_TRAFFIC_MONTH_4</th>\n",
       "      <th>DATA_TRAFFIC_MONTH_5</th>\n",
       "      <th>DATA_TRAFFIC_MONTH_6</th>\n",
       "      <th>VOICE_TRAFFIC_MONTH_1</th>\n",
       "      <th>...</th>\n",
       "      <th>DEVICE_COST_MONTH_3</th>\n",
       "      <th>DEVICE_COST_MONTH_4</th>\n",
       "      <th>DEVICE_COST_MONTH_5</th>\n",
       "      <th>DEVICE_COST_MONTH_6</th>\n",
       "      <th>LINE_ACTIVATION_DATE</th>\n",
       "      <th>MONTHS_LAST_DEVICE</th>\n",
       "      <th>DURATION_LINE</th>\n",
       "      <th>PREVIOUS_DEVICE_MODEL</th>\n",
       "      <th>PREVIOUS_DEVICE_MANUF</th>\n",
       "      <th>PREVIOUS_DEVICE_BRAND</th>\n",
       "    </tr>\n",
       "  </thead>\n",
       "  <tbody>\n",
       "    <tr>\n",
       "      <th>0</th>\n",
       "      <td>TGLG29162000_LG X210BMW SMARTPHONE PRETO PPB/P...</td>\n",
       "      <td>393.0</td>\n",
       "      <td>NaN</td>\n",
       "      <td>465.24673</td>\n",
       "      <td>530.80615</td>\n",
       "      <td>530.80615</td>\n",
       "      <td>781.12646</td>\n",
       "      <td>398.99377</td>\n",
       "      <td>1169.39610</td>\n",
       "      <td>47.50000</td>\n",
       "      <td>...</td>\n",
       "      <td>12.0</td>\n",
       "      <td>12.0</td>\n",
       "      <td>12.0</td>\n",
       "      <td>12.0</td>\n",
       "      <td>20041220.0</td>\n",
       "      <td>NaN</td>\n",
       "      <td>172.0</td>\n",
       "      <td>Moto G4 Plus</td>\n",
       "      <td>Motorola Mobility LLC, a Lenovo Company</td>\n",
       "      <td>Motorola</td>\n",
       "    </tr>\n",
       "    <tr>\n",
       "      <th>1</th>\n",
       "      <td>TGLG29162000_LG X210BMW SMARTPHONE PRETO PPB/P...</td>\n",
       "      <td>345.0</td>\n",
       "      <td>20170401.0</td>\n",
       "      <td>232.24121</td>\n",
       "      <td>272.25525</td>\n",
       "      <td>272.25525</td>\n",
       "      <td>704.88519</td>\n",
       "      <td>412.71664</td>\n",
       "      <td>365.14441</td>\n",
       "      <td>3.70000</td>\n",
       "      <td>...</td>\n",
       "      <td>0.0</td>\n",
       "      <td>0.0</td>\n",
       "      <td>0.0</td>\n",
       "      <td>0.0</td>\n",
       "      <td>20170405.0</td>\n",
       "      <td>20.0</td>\n",
       "      <td>20.0</td>\n",
       "      <td>Samsung Galaxy J1 Mini</td>\n",
       "      <td>Samsung Korea</td>\n",
       "      <td>Samsung</td>\n",
       "    </tr>\n",
       "    <tr>\n",
       "      <th>2</th>\n",
       "      <td>TGMO35912000_MOTOROLA XT1922 SMARTPHONE INDIGO</td>\n",
       "      <td>875.0</td>\n",
       "      <td>NaN</td>\n",
       "      <td>484.62036</td>\n",
       "      <td>264.13843</td>\n",
       "      <td>264.13843</td>\n",
       "      <td>348.50073</td>\n",
       "      <td>380.44156</td>\n",
       "      <td>250.73566</td>\n",
       "      <td>26.10000</td>\n",
       "      <td>...</td>\n",
       "      <td>0.0</td>\n",
       "      <td>0.0</td>\n",
       "      <td>0.0</td>\n",
       "      <td>0.0</td>\n",
       "      <td>20040412.0</td>\n",
       "      <td>NaN</td>\n",
       "      <td>176.0</td>\n",
       "      <td>Moto E (2ª Geração)</td>\n",
       "      <td>Motorola Mobility LLC, a Lenovo Company</td>\n",
       "      <td>Motorola</td>\n",
       "    </tr>\n",
       "    <tr>\n",
       "      <th>3</th>\n",
       "      <td>TGLG29162000_LG X210BMW SMARTPHONE PRETO PPB/P...</td>\n",
       "      <td>345.0</td>\n",
       "      <td>20171001.0</td>\n",
       "      <td>4255.46040</td>\n",
       "      <td>836.11707</td>\n",
       "      <td>836.11707</td>\n",
       "      <td>691.55640</td>\n",
       "      <td>146.76660</td>\n",
       "      <td>302.49249</td>\n",
       "      <td>175.70000</td>\n",
       "      <td>...</td>\n",
       "      <td>6.0</td>\n",
       "      <td>6.0</td>\n",
       "      <td>6.0</td>\n",
       "      <td>6.0</td>\n",
       "      <td>20110825.0</td>\n",
       "      <td>14.0</td>\n",
       "      <td>88.0</td>\n",
       "      <td>iPhone 6</td>\n",
       "      <td>Apple Inc</td>\n",
       "      <td>Apple</td>\n",
       "    </tr>\n",
       "    <tr>\n",
       "      <th>4</th>\n",
       "      <td>TGMO35912000_MOTOROLA XT1922 SMARTPHONE INDIGO</td>\n",
       "      <td>609.0</td>\n",
       "      <td>20190101.0</td>\n",
       "      <td>5014.10300</td>\n",
       "      <td>2659.05150</td>\n",
       "      <td>2659.05150</td>\n",
       "      <td>2435.03930</td>\n",
       "      <td>2053.97950</td>\n",
       "      <td>1553.11500</td>\n",
       "      <td>383.89999</td>\n",
       "      <td>...</td>\n",
       "      <td>0.0</td>\n",
       "      <td>0.0</td>\n",
       "      <td>0.0</td>\n",
       "      <td>0.0</td>\n",
       "      <td>20140617.0</td>\n",
       "      <td>-1.0</td>\n",
       "      <td>54.0</td>\n",
       "      <td>K10a40</td>\n",
       "      <td>Motorola Mobility LLC, a Lenovo Company</td>\n",
       "      <td>Outros</td>\n",
       "    </tr>\n",
       "  </tbody>\n",
       "</table>\n",
       "<p>5 rows × 33 columns</p>\n",
       "</div>"
      ],
      "text/plain": [
       "                                    PURCHASED_DEVICE  DEVICE_VALUE  \\\n",
       "0  TGLG29162000_LG X210BMW SMARTPHONE PRETO PPB/P...         393.0   \n",
       "1  TGLG29162000_LG X210BMW SMARTPHONE PRETO PPB/P...         345.0   \n",
       "2     TGMO35912000_MOTOROLA XT1922 SMARTPHONE INDIGO         875.0   \n",
       "3  TGLG29162000_LG X210BMW SMARTPHONE PRETO PPB/P...         345.0   \n",
       "4     TGMO35912000_MOTOROLA XT1922 SMARTPHONE INDIGO         609.0   \n",
       "\n",
       "   LAST_DEVICE_CHANGE  DATA_TRAFFIC_MONTH_1  DATA_TRAFFIC_MONTH_2  \\\n",
       "0                 NaN             465.24673             530.80615   \n",
       "1          20170401.0             232.24121             272.25525   \n",
       "2                 NaN             484.62036             264.13843   \n",
       "3          20171001.0            4255.46040             836.11707   \n",
       "4          20190101.0            5014.10300            2659.05150   \n",
       "\n",
       "   DATA_TRAFFIC_MONTH_3  DATA_TRAFFIC_MONTH_4  DATA_TRAFFIC_MONTH_5  \\\n",
       "0             530.80615             781.12646             398.99377   \n",
       "1             272.25525             704.88519             412.71664   \n",
       "2             264.13843             348.50073             380.44156   \n",
       "3             836.11707             691.55640             146.76660   \n",
       "4            2659.05150            2435.03930            2053.97950   \n",
       "\n",
       "   DATA_TRAFFIC_MONTH_6  VOICE_TRAFFIC_MONTH_1  ...  DEVICE_COST_MONTH_3  \\\n",
       "0            1169.39610               47.50000  ...                 12.0   \n",
       "1             365.14441                3.70000  ...                  0.0   \n",
       "2             250.73566               26.10000  ...                  0.0   \n",
       "3             302.49249              175.70000  ...                  6.0   \n",
       "4            1553.11500              383.89999  ...                  0.0   \n",
       "\n",
       "   DEVICE_COST_MONTH_4  DEVICE_COST_MONTH_5  DEVICE_COST_MONTH_6  \\\n",
       "0                 12.0                 12.0                 12.0   \n",
       "1                  0.0                  0.0                  0.0   \n",
       "2                  0.0                  0.0                  0.0   \n",
       "3                  6.0                  6.0                  6.0   \n",
       "4                  0.0                  0.0                  0.0   \n",
       "\n",
       "   LINE_ACTIVATION_DATE  MONTHS_LAST_DEVICE  DURATION_LINE  \\\n",
       "0            20041220.0                 NaN          172.0   \n",
       "1            20170405.0                20.0           20.0   \n",
       "2            20040412.0                 NaN          176.0   \n",
       "3            20110825.0                14.0           88.0   \n",
       "4            20140617.0                -1.0           54.0   \n",
       "\n",
       "    PREVIOUS_DEVICE_MODEL                    PREVIOUS_DEVICE_MANUF  \\\n",
       "0            Moto G4 Plus  Motorola Mobility LLC, a Lenovo Company   \n",
       "1  Samsung Galaxy J1 Mini                            Samsung Korea   \n",
       "2     Moto E (2ª Geração)  Motorola Mobility LLC, a Lenovo Company   \n",
       "3                iPhone 6                                Apple Inc   \n",
       "4                  K10a40  Motorola Mobility LLC, a Lenovo Company   \n",
       "\n",
       "   PREVIOUS_DEVICE_BRAND  \n",
       "0               Motorola  \n",
       "1                Samsung  \n",
       "2               Motorola  \n",
       "3                  Apple  \n",
       "4                 Outros  \n",
       "\n",
       "[5 rows x 33 columns]"
      ]
     },
     "execution_count": 4,
     "metadata": {},
     "output_type": "execute_result"
    }
   ],
   "source": [
    "input_dataset.head()"
   ]
  },
  {
   "cell_type": "markdown",
   "metadata": {},
   "source": [
    "Data frames also provide a convenient way of printing data. There are many ways of creating a data frame, one possibility is by creating an array of dictionaries:\n",
    "\n",
    "```python\n",
    "countries = []\n",
    "countries.append({'capital': 'Asuncion', 'country': 'Paraguay'})\n",
    "countries.append({'capital': 'La Paz', 'country': 'Bolivia'})\n",
    "countries_df = pd.DataFrame(countries, columns=['country', 'capital'])\n",
    "display(countries_df)\n",
    "```\n",
    "\n",
    "Create a dataframe named `column_type_df` containing the name of each column, its type and the number of distinct elements in that column. To iterate through the columns of dataframe `df`, use `for column in df.columns`; to determine the type of a column, use `df[column].dtype`; to retrieve the number of distinct elements of that column, use `df[column].nunique()`\n",
    "\n",
    "<font size=\"-1\" color=\"gray\">(Remove this cell when delivering.)</font>"
   ]
  },
  {
   "cell_type": "markdown",
   "metadata": {},
   "source": [
    "<font size=\"+1\" color=\"red\">Replace this cell with your code to create and display a dataframe containing one row per column, with the type of each column and number of distinct elements of that column.</font>"
   ]
  },
  {
   "cell_type": "code",
   "execution_count": 18,
   "metadata": {},
   "outputs": [
    {
     "name": "stdout",
     "output_type": "stream",
     "text": [
      "              Column Name Data Type  Distinct Elements\n",
      "0        PURCHASED_DEVICE    object                101\n",
      "1            DEVICE_VALUE   float64                368\n",
      "2      LAST_DEVICE_CHANGE   float64                 76\n",
      "3    DATA_TRAFFIC_MONTH_1   float64               7215\n",
      "4    DATA_TRAFFIC_MONTH_2   float64               7182\n",
      "5    DATA_TRAFFIC_MONTH_3   float64               7176\n",
      "6    DATA_TRAFFIC_MONTH_4   float64               7124\n",
      "7    DATA_TRAFFIC_MONTH_5   float64               7173\n",
      "8    DATA_TRAFFIC_MONTH_6   float64               7074\n",
      "9   VOICE_TRAFFIC_MONTH_1   float64               3550\n",
      "10  VOICE_TRAFFIC_MONTH_2   float64               3346\n",
      "11  VOICE_TRAFFIC_MONTH_3   float64               3332\n",
      "12  VOICE_TRAFFIC_MONTH_4   float64               3370\n",
      "13  VOICE_TRAFFIC_MONTH_5   float64               3530\n",
      "14  VOICE_TRAFFIC_MONTH_6   float64               2513\n",
      "15        BILLING_MONTH_1   float64               3810\n",
      "16        BILLING_MONTH_2   float64               4001\n",
      "17        BILLING_MONTH_3   float64               3958\n",
      "18        BILLING_MONTH_4   float64               3988\n",
      "19        BILLING_MONTH_5   float64               3906\n",
      "20        BILLING_MONTH_6   float64               3897\n",
      "21    DEVICE_COST_MONTH_1   float64                292\n",
      "22    DEVICE_COST_MONTH_2   float64                295\n",
      "23    DEVICE_COST_MONTH_3   float64                303\n",
      "24    DEVICE_COST_MONTH_4   float64                311\n",
      "25    DEVICE_COST_MONTH_5   float64                329\n",
      "26    DEVICE_COST_MONTH_6   float64                336\n",
      "27   LINE_ACTIVATION_DATE   float64               2546\n",
      "28     MONTHS_LAST_DEVICE   float64                 78\n",
      "29          DURATION_LINE   float64                283\n",
      "30  PREVIOUS_DEVICE_MODEL    object                580\n",
      "31  PREVIOUS_DEVICE_MANUF    object                 68\n",
      "32  PREVIOUS_DEVICE_BRAND    object                  5\n"
     ]
    }
   ],
   "source": [
    "cols_df_list = []\n",
    "\n",
    "for column in input_dataset.columns:\n",
    "    column_name = column\n",
    "    data_type = input_dataset[column].dtype\n",
    "    distinct_elem = input_dataset[column].nunique()\n",
    "  \n",
    "    cols_df_list.append([column_name, data_type, distinct_elem])\n",
    "    \n",
    "column_type_df = pd.DataFrame(columns_df_list, columns=['Column Name', 'Data Type', 'Distinct Elements'])\n",
    "print(column_type_df)"
   ]
  },
  {
   "cell_type": "markdown",
   "metadata": {},
   "source": [
    "To obtain a series from a dataframe you can reference an attribute by name, e.g., `input_dataset.DEVICE_VALUE` returns the series of all device values.\n",
    "\n",
    "On a series, you can use functions from [numpy](https://numpy.org/doc/) such as `np.mean`, `np.nanmedian` (median ignoring the NaN), `np.std`, `np.min` and `np.max`.\n",
    "\n",
    "<font size=\"-1\" color=\"gray\">(Remove this cell when delivering.)</font>"
   ]
  },
  {
   "cell_type": "markdown",
   "metadata": {},
   "source": [
    "<font size=\"+1\" color=\"red\">Replace this cell with code to create a dataframe named `stats_df` containing one row per each column of type ``float64`` in the input data, with the name of the column and its mean, median, maximum and minimum.</font>"
   ]
  },
  {
   "cell_type": "code",
   "execution_count": 20,
   "metadata": {},
   "outputs": [
    {
     "name": "stdout",
     "output_type": "stream",
     "text": [
      "              Column Name          Mean        Median          Min  \\\n",
      "0            DEVICE_VALUE  7.504842e+02  3.930000e+02        15.00   \n",
      "1      LAST_DEVICE_CHANGE  2.016698e+07  2.017060e+07  20121001.00   \n",
      "2    DATA_TRAFFIC_MONTH_1  3.481826e+03  1.208728e+03         0.00   \n",
      "3    DATA_TRAFFIC_MONTH_2  3.649958e+03  1.294951e+03         0.00   \n",
      "4    DATA_TRAFFIC_MONTH_3  3.653427e+03  1.310675e+03         0.00   \n",
      "5    DATA_TRAFFIC_MONTH_4  3.269441e+03  1.176539e+03         0.00   \n",
      "6    DATA_TRAFFIC_MONTH_5  3.673368e+03  1.287094e+03         0.00   \n",
      "7    DATA_TRAFFIC_MONTH_6  3.427690e+03  1.277116e+03         0.00   \n",
      "8   VOICE_TRAFFIC_MONTH_1  1.548522e+02  8.405000e+01         0.00   \n",
      "9   VOICE_TRAFFIC_MONTH_2  1.425679e+02  7.490000e+01         0.00   \n",
      "10  VOICE_TRAFFIC_MONTH_3  1.417125e+02  7.440000e+01         0.00   \n",
      "11  VOICE_TRAFFIC_MONTH_4  1.431492e+02  7.510000e+01         0.00   \n",
      "12  VOICE_TRAFFIC_MONTH_5  1.542773e+02  8.285000e+01         0.00   \n",
      "13  VOICE_TRAFFIC_MONTH_6  8.403332e+01  6.200000e+00         0.00   \n",
      "14        BILLING_MONTH_1  1.023446e+02  9.499000e+01      -128.01   \n",
      "15        BILLING_MONTH_2  1.049752e+02  9.643000e+01         0.00   \n",
      "16        BILLING_MONTH_3  1.026768e+02  9.624500e+01         0.00   \n",
      "17        BILLING_MONTH_4  1.019943e+02  9.489000e+01         0.00   \n",
      "18        BILLING_MONTH_5  1.022081e+02  9.529000e+01         0.00   \n",
      "19        BILLING_MONTH_6  1.022684e+02  9.499000e+01         0.00   \n",
      "20    DEVICE_COST_MONTH_1  1.080778e+01  0.000000e+00         0.00   \n",
      "21    DEVICE_COST_MONTH_2  1.058732e+01  0.000000e+00         0.00   \n",
      "22    DEVICE_COST_MONTH_3  1.171326e+01  0.000000e+00         0.00   \n",
      "23    DEVICE_COST_MONTH_4  1.155437e+01  0.000000e+00         0.00   \n",
      "24    DEVICE_COST_MONTH_5  1.251086e+01  0.000000e+00         0.00   \n",
      "25    DEVICE_COST_MONTH_6  1.297901e+01  0.000000e+00         0.00   \n",
      "26   LINE_ACTIVATION_DATE  2.013605e+07  2.015032e+07  19920804.00   \n",
      "27     MONTHS_LAST_DEVICE  2.533832e+01  2.200000e+01        -5.00   \n",
      "28          DURATION_LINE  6.236834e+01  4.800000e+01         0.00   \n",
      "\n",
      "             Max  \n",
      "0   9.057000e+03  \n",
      "1   2.019050e+07  \n",
      "2   1.270176e+05  \n",
      "3   1.119488e+05  \n",
      "4   1.119488e+05  \n",
      "5   8.785641e+04  \n",
      "6   1.218348e+05  \n",
      "7   9.055061e+04  \n",
      "8   4.220100e+03  \n",
      "9   3.132100e+03  \n",
      "10  2.992500e+03  \n",
      "11  3.163300e+03  \n",
      "12  3.429100e+03  \n",
      "13  2.129500e+03  \n",
      "14  1.569100e+03  \n",
      "15  2.032120e+03  \n",
      "16  1.741210e+03  \n",
      "17  1.084820e+03  \n",
      "18  9.117200e+02  \n",
      "19  1.187300e+03  \n",
      "20  6.440000e+03  \n",
      "21  1.360000e+03  \n",
      "22  2.466000e+03  \n",
      "23  4.550000e+02  \n",
      "24  1.258000e+03  \n",
      "25  1.000000e+03  \n",
      "26  2.019042e+07  \n",
      "27  7.800000e+01  \n",
      "28  3.200000e+02  \n"
     ]
    }
   ],
   "source": [
    "float_cols = input_dataset.select_dtypes(include=['float64'])\n",
    "\n",
    "data = []\n",
    "\n",
    "for column in float_cols.columns:\n",
    "    col_name = column\n",
    "    col_mean = np.mean(float_cols[column])\n",
    "    col_median = np.nanmedian(float_cols[column])\n",
    "    col_min = np.min(float_cols[column])\n",
    "    col_max = np.max(float_cols[column])\n",
    "    \n",
    "    data.append([col_name, col_mean, col_median, col_min, col_max])\n",
    "\n",
    "stats_df = pd.DataFrame(data, columns=['Column Name', 'Mean', 'Median', 'Min', 'Max'])\n",
    "\n",
    "print(stats_df)"
   ]
  },
  {
   "cell_type": "markdown",
   "metadata": {},
   "source": [
    "The `describe` function can be used to describe a series. To invoke it simply do `input_dataset.DEVICE_VALUE.describe()`\n",
    "\n",
    "<font size=\"-1\" color=\"gray\">(Remove this cell when delivering.)</font>"
   ]
  },
  {
   "cell_type": "markdown",
   "metadata": {},
   "source": [
    "<font size=\"+1\" color=\"red\">Replace this cell with code to print each column name and then use the `describe` function to print statistics for that column. Include a blank line after each description.</font>"
   ]
  },
  {
   "cell_type": "markdown",
   "metadata": {},
   "source": [
    "<font size=\"+1\" color=\"red\">Replace this cell with a brief commentary comparing the previous results for **DEVICE_COST_MONTH_1** (bill in the first month) with the ones from the **.describe()** function.</font>\n",
    "\n",
    "<font size=\"+1\" color=\"red\">There are at least two differences, indicate them.</font>"
   ]
  },
  {
   "cell_type": "markdown",
   "metadata": {},
   "source": [
    "## 1.2. Inventory of device models"
   ]
  },
  {
   "cell_type": "markdown",
   "metadata": {},
   "source": [
    "In exploratory data analysis, it is very useful to do an **inventory** or **census** of the possible values of a variable. For us, a census will be a frequency table in which you show the possible values of a variable, and their frequency, in decreasing order of frequency.\n",
    "\n",
    "\n",
    "\n",
    "<font size=\"-1\" color=\"gray\">(Remove this cell when delivering.)</font>"
   ]
  },
  {
   "cell_type": "markdown",
   "metadata": {},
   "source": [
    "<font size=\"+1\" color=\"red\">Replace this cell with code to display a census of PREVIOUS_DEVICE_MODEL and PREVIOUS_DEVICE_BRAND. You should create and display a dataframe in each case.</font>"
   ]
  },
  {
   "cell_type": "markdown",
   "metadata": {},
   "source": [
    "<font size=\"+1\" color=\"red\">The most common device model and the most common device brand do not match, why do you think it is so? Replace this cell with an explanation.</font>"
   ]
  },
  {
   "cell_type": "markdown",
   "metadata": {},
   "source": [
    "# 2. Feature engineering"
   ]
  },
  {
   "cell_type": "markdown",
   "metadata": {},
   "source": [
    "Feature engineering is the process of extracting valuable features from the data. This requires pre-processing, combining, normalizing, and performing other operations on the values of some features.\n",
    "\n",
    "<font size=\"-1\" color=\"gray\">(Remove this cell when delivering.)</font>"
   ]
  },
  {
   "cell_type": "markdown",
   "metadata": {},
   "source": [
    "## 2.1. Missing values management"
   ]
  },
  {
   "cell_type": "markdown",
   "metadata": {},
   "source": [
    "**Not A Number** (NaN) is a generic term to refer to *something that should be a number, but is not*. Usually, the value is either missing completely (\"null\") or contains the wrong type of object, such as a string or a concept such as infinity.\n",
    "\n",
    "To find which columns contain NaN values, you can use the [isna()](https://pandas.pydata.org/pandas-docs/stable/reference/api/pandas.DataFrame.isna.html) function, as explained, e.g., [here](https://medium.com/dunder-data/finding-the-percentage-of-missing-values-in-a-pandas-dataframe-a04fa00f84ab). \n",
    "\n",
    "<font size=\"-1\" color=\"gray\">(Remove this cell when delivering.)</font>"
   ]
  },
  {
   "cell_type": "markdown",
   "metadata": {},
   "source": [
    "<font size=\"+1\" color=\"red\">Replace this cell with your code to print which columns contain at least one NaN value, and how many NaN values are in that column, as well as how many non NaN values are in that column. You should create a dataframe `nan_counter` and display it.</font>"
   ]
  },
  {
   "cell_type": "markdown",
   "metadata": {},
   "source": [
    "The way **NaNs** are managed varies according to the meaning of each variable. In some occasions, registers should be removed, filled with other columns or calculated (imputed).\n",
    "\n",
    "* To delete rows containing a null value, we can use [dropna](https://pandas.pydata.org/pandas-docs/stable/reference/api/pandas.DataFrame.dropna.html)\n",
    "* To replace null values, we can use [fillna](https://pandas.pydata.org/pandas-docs/stable/reference/api/pandas.DataFrame.fillna.html)\n",
    "\n",
    "Please note that these steps should be applied sequentially, i.e., the output of one step should be fed into the next step. You can do, for instance: `df02 = df01.operation(...)` followed by `df03 = df02.operation(...)` and so on.\n",
    "\n",
    "<font size=\"-1\" color=\"gray\">(Remove this cell when delivering.)</font>"
   ]
  },
  {
   "cell_type": "markdown",
   "metadata": {},
   "source": [
    "<font size=\"+1\" color=\"red\">If there is no **PURCHASED\\_DEVICE**, **DEVICE\\_VALUE**, or **PREVIOUS\\_DEVICE\\_MODEL**, the row is useless to us. Replace this cell with code to remove those rows.</font>"
   ]
  },
  {
   "cell_type": "markdown",
   "metadata": {},
   "source": [
    "<font size=\"+1\" color=\"red\">Any NaN value in **DATA\\_TRAFFIC\\_MONTH\\_(1..6)**, **VOICE\\_TRAFFIC\\_MONTH_(1..6)**, **BILLING\\_MONTH_(1..6)**, or **DEVICE\\_COST\\_MONTH\\_(1..6)** should be assumed to be 0. Replace this cell with code to do that imputation.</font>"
   ]
  },
  {
   "cell_type": "markdown",
   "metadata": {},
   "source": [
    "<font size=\"+1\" color=\"red\">If there is no **LINE\\_ACTIVATION\\_DATE**, we will assume it is equal to **LAST\\_DEVICE\\_CHANGE**. Replace this cell with code to do that imputation.</font>"
   ]
  },
  {
   "cell_type": "markdown",
   "metadata": {},
   "source": [
    "<font size=\"+1\" color=\"red\">Replace this cell with code to print the header and the first ten rows after this processing</font>"
   ]
  },
  {
   "cell_type": "markdown",
   "metadata": {},
   "source": [
    "If `df` is a dataframe, `df.shape` contains a tuple with the number of rows and the number of columns of the data frame. You should now print something like this:\n",
    "\n",
    "```\n",
    "Rows in the original dataset: M\n",
    "Rows in the new dataset: N ((100*(M-N)/M)% less)\n",
    "```\n",
    "\n",
    "<font size=\"-1\" color=\"gray\">(Remove this cell when delivering.)</font>"
   ]
  },
  {
   "cell_type": "markdown",
   "metadata": {},
   "source": [
    "<font size=\"+1\" color=\"red\">Replace this cell with code to print the number of rows of the original dataset, the number of rows of the new dataset, and the percentage of rows that were dropped, as well as the names of the columns that still contain NaN values, if any.</font>"
   ]
  },
  {
   "cell_type": "markdown",
   "metadata": {},
   "source": [
    "## 2.2. Distributions, outliers, and correlations"
   ]
  },
  {
   "cell_type": "markdown",
   "metadata": {},
   "source": [
    "We will now plot the distributions of some variables and apply some transformations.\n",
    "\n",
    "* You can use [Seaborn library](https://seaborn.pydata.org/) with `kde=False` to create a histogram.\n",
    "* You can use [pandas.DataFrame.plot](https://pandas.pydata.org/pandas-docs/stable/reference/api/pandas.DataFrame.plot.html) with `kind='box'` to create a boxplot.\n",
    "    \n",
    "<font size=\"-1\" color=\"gray\">(Remove this cell when delivering.)</font>"
   ]
  },
  {
   "cell_type": "markdown",
   "metadata": {},
   "source": [
    "<font size=\"+1\" color=\"red\">Replace this cell with a series of cells with code to plot a histogram of **DEVICE\\_VALUE**, **VOICE\\_TRAFFIC\\_MONTH\\_1-3** (include a legend, each month should be a different color),  **BILLING\\_MONTH\\_2**, **DURATION\\_LINE**. Remember to include labels on the x axis and y axis</font>\n",
    "\n",
    "<font size=\"+1\" color=\"red\">Include after each histogram a markdown cell where you indicate if you recognize any specific distribution (normal, exponential, uniform, ...) or any characteristic of the distribution (unimodal, bimodal).</font>"
   ]
  },
  {
   "cell_type": "markdown",
   "metadata": {},
   "source": [
    "Variables having exponential distribution can be processed and visualized better after transforming them, usually by applying the `log(x+1)` function (we want to avoid zeros, hence the +1).\n",
    "    \n",
    "<font size=\"-1\" color=\"gray\">(Remove this cell when delivering.)</font>"
   ]
  },
  {
   "cell_type": "markdown",
   "metadata": {},
   "source": [
    "<font size=\"+1\" color=\"red\">Replace this cell with code to apply **log(x+1)** to **VOICE\\_TRAFFIC\\_MONTH\\_2** and plot its new distribution.</font>"
   ]
  },
  {
   "cell_type": "markdown",
   "metadata": {},
   "source": [
    "<font size=\"+1\" color=\"red\">Replace this cell with code to create a boxplot for variables **DATA\\_TRAFFIC\\_MONTH\\_2**, **VOICE\\_TRAFFIC\\_MONTH\\_2** and **BILLING\\_MONTH\\_2**</font>"
   ]
  },
  {
   "cell_type": "markdown",
   "metadata": {},
   "source": [
    "<font size=\"+1\" color=\"red\">Replace this cell with a brief commentary indicating which extreme values would you use as threshold for **outliers** in these variables, by looking at these box plots</font>"
   ]
  },
  {
   "cell_type": "markdown",
   "metadata": {},
   "source": [
    "In this dataset, there are many dependencies between different attributes, e.g., a large voice traffic will probably be associated with a large data traffic, a more expensive bill, and possibly a more expensive device (`DEVICE_VALUE`).\n",
    "\n",
    "You can use [pandas.DataFrame.corr](https://pandas.pydata.org/pandas-docs/stable/reference/api/pandas.DataFrame.corr.html) to compute a correlation matrix, and [matplotlib.pyplot.matshow](https://matplotlib.org/3.1.1/api/_as_gen/matplotlib.pyplot.matshow.html) to show this graphically.\n",
    "\n",
    "<font size=\"-1\" color=\"gray\">(Remove this cell when delivering.)</font>"
   ]
  },
  {
   "cell_type": "markdown",
   "metadata": {},
   "source": [
    "<font size=\"+1\" color=\"red\">Replace this cell with code to calculate the correlation between all traffic attributes (i.e., voice and data), duration line, billing, device cost and device value. Display the result as a table with rows and columns corresponding to columns, and cells indicating correlations. Display the result as an image using ``matshow``</font>"
   ]
  },
  {
   "cell_type": "markdown",
   "metadata": {},
   "source": [
    "<font size=\"+1\" color=\"red\">Replace this cell with a brief commentary on the results. Is the billing more correlated, in general, with the data traffic or with the voice traffic?</font>"
   ]
  },
  {
   "cell_type": "markdown",
   "metadata": {},
   "source": [
    "## 2.3. Date management and period calculation"
   ]
  },
  {
   "cell_type": "markdown",
   "metadata": {},
   "source": [
    "First, we will determine the date of the `LAST_DEVICE_CHANGE` of the last device that was changed in the entire dataset (i.e., the maximum value of the `LAST_DEVICE_CHANGE` column, plus 30 days). We will refer to that date as `latest_change`.\n",
    "\n",
    "Note that `LAST_DEVICE_CHANGE` is expressed as a floating point number in the format `YYYYMMDD.0`, for instance 3 of July of 2018 would be `20180703.0`. Convert to integer first, then to string.\n",
    "\n",
    "As a string, this is formatted according to [strptime](https://www.geeksforgeeks.org/python-datetime-strptime-function/) conventions with format `%Y%m%d`.\n",
    "\n",
    "Use [datetime.datetime.strptime](https://docs.python.org/3/library/datetime.html#datetime.datetime.strptime) to convert to create object `latest_change` and print it.\n",
    "\n",
    "Next, add 30 days to that date to obtain object `now` (we will assume we are doing this processing 30 days after the latest device change). Use a `datetime.timedelta` object for that.\n",
    "\n",
    "Your output should look like this:\n",
    "\n",
    "```\n",
    "2019-05-01 00:00:00\n",
    "2019-05-31 00:00:00\n",
    "```\n",
    "\n",
    "<font size=\"-1\" color=\"gray\">(Remove this cell when delivering.)</font>"
   ]
  },
  {
   "cell_type": "markdown",
   "metadata": {},
   "source": [
    "<font size=\"+1\" color=\"red\">Replace this cell with code to create and print `latest_change` and `now`.</font>"
   ]
  },
  {
   "cell_type": "markdown",
   "metadata": {},
   "source": [
    "Now, obtain the series corresponding to the last device change, you can do it by using [pandas.to_datetime](https://pandas.pydata.org/pandas-docs/stable/reference/api/pandas.to_datetime.html) as if you were using `strptime`:\n",
    "\n",
    "```\n",
    "series_converted = pd.to_datetime(dataframe[column_name], format='%Y%m%d')\n",
    "```\n",
    "\n",
    "Now compute the difference between the now and the series_converted. \n",
    "\n",
    "Divide that difference by `30 * datetime.timedelta(days=1)` to obtain the difference in periods of 30 days (approximately one month).\n",
    "\n",
    "Replace the `MONTHS_LAST_DEVICE` column with those differences. You may need to [fill the NaN with zeroes](https://pandas.pydata.org/docs/reference/api/pandas.DataFrame.fillna.html), and [convert to type](https://pandas.pydata.org/docs/reference/api/pandas.DataFrame.astype.html) `int`.\n",
    "\n",
    "\n",
    "<font size=\"-1\" color=\"gray\">(Remove this cell when delivering.)</font>"
   ]
  },
  {
   "cell_type": "markdown",
   "metadata": {},
   "source": [
    "<font size=\"+1\" color=\"red\">Replace this cell with code that replaces the **MONTHS_LAST_DEVICE** column to be equal to the difference, in periods of 30 days, between **LAST_DEVICE_CHANGE** and the `now` variable.</font>"
   ]
  },
  {
   "cell_type": "markdown",
   "metadata": {},
   "source": [
    "<font size=\"+1\" color=\"red\">Replace this cell with code to update the **DURATION_LINE** value to be the difference, in days, between **LINE_ACTIVATION_DATE** and the `now` variable.\n",
    "    \n",
    "Indicate the average of **DURATION_LINE** -- what is that in years, approximately?</font>"
   ]
  },
  {
   "cell_type": "markdown",
   "metadata": {},
   "source": [
    "\n",
    "## 2.4. Standarization and scaling of numerical variables"
   ]
  },
  {
   "cell_type": "markdown",
   "metadata": {},
   "source": [
    "Scaling a series involves changing the values. Standardization involves ensuring that the mean is 0 and the standard deviation is 1, while min-max scaling requires that the maximum is 1, the minimum is 0, and all remaining values are linearly interpolated.\n",
    "\n",
    "You can use [StandardScaler()](https://scikit-learn.org/stable/modules/generated/sklearn.preprocessing.StandardScaler.html) to standarize a variable, and [MinMaxScaler()](https://scikit-learn.org/stable/modules/generated/sklearn.preprocessing.MinMaxScaler.html) to perform min-max scaling.\n",
    "\n",
    "The following example shows how to use these:\n",
    "\n",
    "```python\n",
    "test_data = [{'x': -1.0}, {'x': 2.0}, {'x': 3.0}, {'x': 6.0}]\n",
    "test_df = pd.DataFrame(test_data)\n",
    "display(test_df)\n",
    "\n",
    "test_df['x_standardized'] = StandardScaler().fit_transform(test_df[['x']])\n",
    "test_df['x_minmaxscaled'] = MinMaxScaler().fit_transform(test_df[['x']])\n",
    "display(test_df)\n",
    "```\n",
    "\n",
    "<font size=\"-1\" color=\"gray\">(Remove this cell when delivering.)</font>"
   ]
  },
  {
   "cell_type": "markdown",
   "metadata": {},
   "source": [
    "<font size=\"+1\" color=\"red\">Replace this cell with code to standardize and min-max scale the **DATA_TRAFFIC_MONTH_1**, **VOICE_TRAFFIC_MONTH_1**, **BILLING_MONTH_1** and **DEVICE_COST_MONTH_1** columns. Save the results in new colums with the same name followed by **_STANDARD** and **_MINMAX** (e.g., DATA\\_TRAFFIC\\_MONTH\\_1\\_STAND, DATA\\_TRAFFIC\\_MONTH\\_1\\_MINMAX). Plot a histogram for each new variable.</font>\n",
    "\n"
   ]
  },
  {
   "cell_type": "markdown",
   "metadata": {},
   "source": [
    "## 2.5. Convert categorical columns to dummy binary variables"
   ]
  },
  {
   "cell_type": "markdown",
   "metadata": {},
   "source": [
    "Categorical variables usually need to be transformed into numerical values to apply some machine learning methods.\n",
    "\n",
    "Use [LabelEncoder()](https://scikit-learn.org/stable/modules/generated/sklearn.preprocessing.LabelEncoder.html) to transform a categorical variable to integer values. Example:\n",
    "\n",
    "```python\n",
    "colors_data = [{'color': 'Blue'}, {'color': 'Red'}, {'color': 'Orange'},\n",
    "               {'color': 'Blue'}, {'color': 'Orange'}, {'color': 'Blue'}]\n",
    "colors_df = pd.DataFrame(colors_data, columns=['color'])\n",
    "\n",
    "colors_df['colors_int_encoded'] = LabelEncoder().fit_transform(colors_df['color'])\n",
    "display(colors_df)\n",
    "```\n",
    "\n",
    "<font size=\"-1\" color=\"gray\">(Remove this cell when delivering.)</font>"
   ]
  },
  {
   "cell_type": "markdown",
   "metadata": {},
   "source": [
    "<font size=\"+1\" color=\"red\">Create variable **PREVIOUS_DEVICE_BRAND_INT_ENCODED** containing an integer encoding of variable **PREVIOUS_DEVICE_BRAND**.</font>"
   ]
  },
  {
   "cell_type": "markdown",
   "metadata": {},
   "source": [
    "You can use [get_dummies()](https://pandas.pydata.org/pandas-docs/stable/reference/api/pandas.get_dummies.html) to convert a categorical variable to multiple columns using one-hot encoding. Example:\n",
    "\n",
    "```\n",
    "colors_data = [{'color': 'Blue'}, {'color': 'Red'}, {'color': 'Orange'},\n",
    "               {'color': 'Blue'}, {'color': 'Orange'}, {'color': 'Blue'}]\n",
    "colors_df = pd.DataFrame(colors_data, columns=['color'])\n",
    "\n",
    "color_dummies = pd.get_dummies(colors_df['color'], prefix='color_')\n",
    "colors_df_with_dummies = colors_df.join(color_dummies)\n",
    "display(colors_df_with_dummies)\n",
    "```\n",
    "\n",
    "\n",
    "<font size=\"-1\" color=\"gray\">(Remove this cell when delivering.)</font>"
   ]
  },
  {
   "cell_type": "markdown",
   "metadata": {},
   "source": [
    "<font size=\"+1\" color=\"red\">Replace this cell with code to convert **PREVIOUS_DEVICE_MANUF** to dummy binary variables.</font>"
   ]
  },
  {
   "cell_type": "markdown",
   "metadata": {},
   "source": [
    "## 2.6. Feature generation"
   ]
  },
  {
   "cell_type": "markdown",
   "metadata": {},
   "source": [
    "In the current dataset we have a historic of 6 months for data traffic, voice traffic, billing and device cost. Feature generation consists of creating new attributes from the current dataset that can help us to create, e.g., better predictive models.\n",
    "\n",
    "<font size=\"-1\" color=\"gray\">(Remove this cell when delivering.)</font>"
   ]
  },
  {
   "cell_type": "markdown",
   "metadata": {},
   "source": [
    "<font size=\"+1\" color=\"red\">Replace this cell with code to create from the 6 months of **DATA_TRAFFIC\\_MONTH\\_[1-6]**, **VOICE_TRAFFIC\\_MONTH\\_[1-6]**, **BILLING\\_MONTH\\_[1-6]** and **DEVICE_COST\\_MONTH\\_[1-6]**, new columns with the mean, maximum, minimum, range (i.e., difference between maximum and minimum) for each element. For instance, column **DATA_TRAFFIC_MEAN** should contain the average of these six numbers: **DATA_TRAFFIC_MONTH_1**, **DATA_TRAFFIC_MONTH_2**, ..., **DATA_TRAFFIC_MONTH_6**.</font>"
   ]
  },
  {
   "cell_type": "markdown",
   "metadata": {},
   "source": [
    "<font size=\"+1\" color=\"red\">Replace this cell with code create an additional column **DEVICE_COST_TO_BILLING_RATIO** containing the ratio between **DEVICE_COST_MEAN** and **BILLING_MEAN** and plot its distribution.</font>"
   ]
  },
  {
   "cell_type": "markdown",
   "metadata": {},
   "source": [
    "<font size=\"+1\" color=\"red\">Replace this cell with a brief commentary on the distribution of the variable **DEVICE_COST_TO_BILLING_RATIO**. Can you recognize its distribution?</font>"
   ]
  },
  {
   "cell_type": "markdown",
   "metadata": {},
   "source": [
    "## 2.7. Text parsing/processing"
   ]
  },
  {
   "cell_type": "markdown",
   "metadata": {},
   "source": [
    "In machine learning, text processing is a very useful tool that can be used to improve datasets. In some use cases, for instance customer care applications using digital channels as Whatsapp, Facebook, etc..., data scientist teams mainly work with text data.\n",
    "\n",
    "One of the text processing technique is to extract concrete words or tokens from a sentence or documents. Regular expressions are a great tool to extract data trough these patterns.\n",
    "\n",
    "In this dataset, note that **PURCHASED_DEVICE** is a variable that is formed by a \"**device_code**\"+\"**_**\"+\"**manufacture name**\"+\"**  **\"+\"**device model**\". We want to split this variable into its components.\n",
    "\n",
    "Tip: use [str.split](https://pandas.pydata.org/pandas-docs/stable/reference/api/pandas.Series.str.split.html) to separate a string into several parts.\n",
    "\n",
    "<font size=\"-1\" color=\"gray\">(Remove this cell when delivering.)</font>"
   ]
  },
  {
   "cell_type": "markdown",
   "metadata": {},
   "source": [
    "<font size=\"+1\" color=\"red\">Replace this cell with code to use the **PURCHASED_DEVICE** variable to create 3 new columns with the following variables names: **PURCHASED_DEVICE_CODE**, **PURCHASED_DEVICE_MANUFACTURER** and **PURCHASED_DEVICE_MODEL**.</font>"
   ]
  },
  {
   "cell_type": "markdown",
   "metadata": {},
   "source": [
    "<font size=\"+1\" color=\"red\">Replace this cell with code to create two tables: one with the number of devices per manufacturer in **PURCHASED_DEVICE_MANUFACTURER** and one with the number of devices per manufacturer in  **PREVIOUS_DEVICE_MANUF**."
   ]
  },
  {
   "cell_type": "markdown",
   "metadata": {},
   "source": [
    "## 2.8. Splitting and sampling a dataset"
   ]
  },
  {
   "cell_type": "markdown",
   "metadata": {},
   "source": [
    "Splitting and sampling dataset are techniques that distribute the original dataset in n-parts. One of the most interesting application of these tools is to separate the dataset to train and test a machine learning model. Meanwhile sampling guarantees same type of data (i.e. distributions), splitting will separate the dataset with the ratio we need. Usually, 80%-20% or 70%-30% splitting ratios are the most common used.\n",
    "\n",
    "Once again, Sklearn library helps to us to cover this necessity through the function [sklearn.model_selection.train_test_split](https://scikit-learn.org/stable/modules/generated/sklearn.model_selection.train_test_split.html) which splits a dataset into two parts, which usually will be used for training and testing.\n",
    "\n",
    "<font size=\"-1\" color=\"gray\">(Remove this cell when delivering.)</font>"
   ]
  },
  {
   "cell_type": "markdown",
   "metadata": {},
   "source": [
    "<font size=\"+1\" color=\"red\">Replace this cell with code to split the dataset in two separate datasets: one with 70% of the rows and the other with 30% of rows</font>"
   ]
  },
  {
   "cell_type": "markdown",
   "metadata": {},
   "source": [
    "<font size=\"+1\" color=\"red\">Replace this cell with code to compute the main statistics (mean, standard deviation, min, max, 25%, 50%, 75%) for the variables **DATA_TRAFFIC_MONTH_1**, **VOICE_TRAFFIC_MONTH_1** and **BILLING_MONTH_1** in both training and testing parts of the dataset.</font>\n",
    "\n",
    "<font size=\"+1\" color=\"red\">Replace this cell with a brief commentary indicating if you find these statistics match between the two splits, or do not match between them.</font>"
   ]
  },
  {
   "cell_type": "markdown",
   "metadata": {},
   "source": [
    "# 3. Comparing iPhone and Samsung J series users"
   ]
  },
  {
   "cell_type": "markdown",
   "metadata": {},
   "source": [
    "Finally, find some features that are different between users of an Apple iPhone and users of a Samsung J series phone (this includes J410G, J610G, J415G, and all other models by Samsung that start with a *J*).\n",
    "\n",
    "<font size=\"-1\" color=\"gray\">(Remove this cell when delivering.)</font>"
   ]
  },
  {
   "cell_type": "markdown",
   "metadata": {},
   "source": [
    "<font size=\"+1\" color=\"red\">Replace this cell with code to create two dataframes: one with all the attributes of Apple iPhone users and one with all the attributes of Samsung J series users.</font>"
   ]
  },
  {
   "cell_type": "markdown",
   "metadata": {},
   "source": [
    "<font size=\"+1\" color=\"red\">Replace this cell with code to compare some variables between the two datasets. Consider 2 or 3 variables, plot together the histograms of each variable in both datasets (including a legend).</font>"
   ]
  },
  {
   "cell_type": "markdown",
   "metadata": {},
   "source": [
    "<font size=\"+1\" color=\"red\">Replace this cell with a brief commentary on the differences you found between these two groups of users.</font>"
   ]
  },
  {
   "cell_type": "markdown",
   "metadata": {},
   "source": [
    "# DELIVER (individually)\n",
    "\n",
    "Remember to read the section on \"delivering your code\" in the [course evaluation guidelines](https://github.com/chatox/data-mining-course/blob/master/upf/upf-evaluation.md).\n",
    "\n",
    "Deliver a zip file containing:\n",
    "\n",
    "* This notebook\n",
    "\n",
    "## Extra points available\n",
    "\n",
    "For more learning and extra points, remember what you learned in machine learning and create a simple [decision tree model](https://scikit-learn.org/stable/modules/tree.html) having as input variables:\n",
    "\n",
    "1. PREVIOUS\\_DEVICE\\_MODEL\n",
    "1. PREVIOUS\\_DEVICE\\_BRAND\n",
    "1. MONTHS\\_LAST\\_DEVICE\n",
    "\n",
    "And as output variable `PURCHASED_DEVICE_MANUFACTURER`. Measure the accuracy of this 3-variables model. Then, add two more variables, of your own choice, that improve the classification accuracy. Measure the accuracy of this 5-variables model.\n",
    "\n",
    "\n",
    "**Note:** if you go for the extra points, add ``<font size=\"+2\" color=\"blue\">Additional results: model purchased device</font>`` at the top of your notebook.\n",
    "\n",
    "<font size=\"-1\" color=\"gray\">(Remove this cell when delivering.)</font>"
   ]
  },
  {
   "cell_type": "markdown",
   "metadata": {},
   "source": [
    "<font size=\"+2\" color=\"#003300\">I hereby declare that, except for the code provided by the course instructors, all of my code, report, and figures were produced by myself.</font>"
   ]
  }
 ],
 "metadata": {
  "kernelspec": {
   "display_name": "Python 3 (ipykernel)",
   "language": "python",
   "name": "python3"
  },
  "language_info": {
   "codemirror_mode": {
    "name": "ipython",
    "version": 3
   },
   "file_extension": ".py",
   "mimetype": "text/x-python",
   "name": "python",
   "nbconvert_exporter": "python",
   "pygments_lexer": "ipython3",
   "version": "3.9.12"
  }
 },
 "nbformat": 4,
 "nbformat_minor": 2
}
