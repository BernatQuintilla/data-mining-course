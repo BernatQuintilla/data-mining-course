{
 "cells": [
  {
   "cell_type": "markdown",
   "metadata": {},
   "source": [
    "# Practice Session 04: Basket analysis"
   ]
  },
  {
   "cell_type": "markdown",
   "metadata": {},
   "source": [
    "Author: <font color=\"blue\">Bernat Quintilla Castellón</font>\n",
    "\n",
    "E-mail: <font color=\"blue\">bernat.quintilla01@estudiant.upf.edu</font>\n",
    "\n",
    "Date: <font color=\"blue\">20/10/2023</font>"
   ]
  },
  {
   "cell_type": "code",
   "execution_count": 25,
   "metadata": {},
   "outputs": [],
   "source": [
    "import numpy as np  \n",
    "import matplotlib.pyplot as plt  \n",
    "import pandas as pd  \n",
    "import csv\n",
    "import gzip\n",
    "from apyori import apriori"
   ]
  },
  {
   "cell_type": "markdown",
   "metadata": {},
   "source": [
    "# 1. Playing with apyori"
   ]
  },
  {
   "cell_type": "code",
   "execution_count": 26,
   "metadata": {},
   "outputs": [],
   "source": [
    "# LEAVE AS-IS\n",
    "\n",
    "def print_apyori_output (association_results, info=False, info_key=False):\n",
    "    for relation_record in association_results:\n",
    "        itemset = list(relation_record.items)\n",
    "        \n",
    "        # Consider only itemsets of two elements\n",
    "        if len(itemset) > 1: \n",
    "        \n",
    "            print(\"Rules involving itemset %s\" % itemset)\n",
    "            support = relation_record.support\n",
    "\n",
    "            for rules in relation_record.ordered_statistics:\n",
    "                antecedent = list(rules.items_base)\n",
    "                consequent = list(rules.items_add)\n",
    "                \n",
    "                if info_key:\n",
    "                    antecedent = [info.loc[x][info_key] for x in antecedent]\n",
    "                    consequent = [info.loc[x][info_key] for x in consequent]\n",
    "                \n",
    "                confidence = rules.confidence\n",
    "                lift = rules.lift\n",
    "\n",
    "                print(\"%s => %s (support=%.4f, confidence=%.2f, lift=%.2f)\" %\n",
    "                      (antecedent, consequent, support, confidence, lift))\n",
    "            print()"
   ]
  },
  {
   "cell_type": "code",
   "execution_count": 27,
   "metadata": {},
   "outputs": [
    {
     "name": "stdout",
     "output_type": "stream",
     "text": [
      "Rules involving itemset ['cheese', 'bread']\n",
      "['cheese'] => ['bread'] (support=0.1905, confidence=0.50, lift=1.05)\n",
      "\n",
      "Rules involving itemset ['cheese', 'milk']\n",
      "['cheese'] => ['milk'] (support=0.2381, confidence=0.62, lift=1.09)\n",
      "\n",
      "Rules involving itemset ['yogurt', 'milk']\n",
      "['yogurt'] => ['milk'] (support=0.1905, confidence=0.57, lift=1.00)\n",
      "\n"
     ]
    }
   ],
   "source": [
    "#21 different transactions\n",
    "transactions = [\n",
    "    ['milk', 'bread', 'eggs', 'cheese'],\n",
    "    ['bread', 'eggs', 'cheese'],\n",
    "    ['milk', 'eggs', 'cheese'],\n",
    "    ['milk', 'bread', 'cheese'],\n",
    "    ['milk', 'bread', 'eggs'],\n",
    "    ['bread', 'cheese'],\n",
    "    ['milk', 'eggs'],\n",
    "    ['milk', 'bread'],\n",
    "    ['bread', 'eggs'],\n",
    "    ['milk', 'cheese'],\n",
    "    ['eggs'],\n",
    "    ['bread', 'butter'],\n",
    "    ['milk', 'butter'],\n",
    "    ['butter'],\n",
    "    ['milk', 'yogurt'],\n",
    "    ['yogurt', 'eggs'],\n",
    "    ['milk', 'yogurt', 'eggs'],\n",
    "    ['yogurt', 'cheese'],\n",
    "    ['milk', 'yogurt', 'cheese'],\n",
    "    ['yogurt', 'bread'],\n",
    "    ['milk', 'yogurt', 'bread']\n",
    "]\n",
    "\n",
    "results = list(apriori(transactions, min_support=0.1, min_confidence=0.5, min_lift=1.0))\n",
    "\n",
    "print_apyori_output(results)"
   ]
  },
  {
   "cell_type": "markdown",
   "metadata": {},
   "source": [
    "**Rule of itemset ['bread', 'cheese']: ['cheese'] => ['bread']**\n",
    "\n",
    "```Support```:\n",
    "\n",
    "Support['cheese', 'bread'] = Number of transactions with ['cheese', 'bread'] / Total number of transactions\n",
    "\n",
    "Support['cheese', 'bread'] = 4 / 21 = 0.1905\n",
    "\n",
    "```Confidence```:\n",
    "\n",
    "Confidence['cheese'] => ['bread'] = Number of transactions with ['cheese', 'bread'] / Number of transactions with ['cheese']\n",
    "\n",
    "Confidence['cheese'] => ['bread'] = 4 / 8 = 0.50\n",
    "\n",
    "```Lift```:\n",
    "\n",
    "Lift['cheese'] => ['bread'] = Confidence['cheese'] => ['bread'] / Support['bread']\n",
    "\n",
    "Support['bread'] = 10 / 21 = 0.476\n",
    "\n",
    "Lift['cheese'] => ['bread'] = 0.5 / 0.476 = 1.05\n",
    "\n",
    "**Rule of itemset ['cheese', 'milk']: ['cheese'] => ['milk']**\n",
    "\n",
    "```Support```:\n",
    "\n",
    "Support['cheese', 'milk'] = Number of transactions with ['cheese', 'milk'] / Total number of transactions\n",
    "\n",
    "Support['cheese', 'milk'] = 5 / 21 = 0.2381\n",
    "\n",
    "```Confidence```:\n",
    "\n",
    "Confidence['cheese'] => ['milk'] = Number of transactions with ['cheese', 'milk'] / Number of transactions with ['cheese']\n",
    "\n",
    "Confidence['cheese'] => ['milk'] = 5 / 8 = 0.62\n",
    "\n",
    "```Lift```:\n",
    "\n",
    "Lift['cheese'] => ['milk'] = Confidence['cheese'] => ['milk'] / Support['milk']\n",
    "\n",
    "Support['milk'] = 12 / 21 = 0.5714\n",
    "\n",
    "Lift['cheese'] => ['milk'] = 0.62 / 0.5714 = 1.09\n",
    "\n",
    "**Rule of itemset ['yogurt', 'milk']: ['yogurt'] => ['milk']**\n",
    "\n",
    "```Support```:\n",
    "\n",
    "Support['yogurt', 'milk'] = Number of transactions with ['yogurt', 'milk'] / Total number of transactions\n",
    "\n",
    "Support['yogurt', 'milk'] = 4 / 21 = 0.1905\n",
    "\n",
    "```Confidence```:\n",
    "\n",
    "Confidence['yogurt'] => ['milk'] = Number of transactions with ['yogurt', 'milk'] / Number of transactions with ['yogurt']\n",
    "\n",
    "Confidence['yogurt'] => ['milk'] = 4 / 7 = 0.57\n",
    "\n",
    "```Lift```:\n",
    "\n",
    "Lift['yogurt'] => ['milk'] = Confidence['yogurt'] => ['milk'] / Support['milk']\n",
    "\n",
    "Lift['yogurt'] => ['milk'] = 0.57 / 0.5714 = 1.00"
   ]
  },
  {
   "cell_type": "markdown",
   "metadata": {},
   "source": [
    "# 2. Load and prepare the shopping baskets"
   ]
  },
  {
   "cell_type": "code",
   "execution_count": 28,
   "metadata": {},
   "outputs": [
    {
     "data": {
      "text/html": [
       "<div>\n",
       "<style scoped>\n",
       "    .dataframe tbody tr th:only-of-type {\n",
       "        vertical-align: middle;\n",
       "    }\n",
       "\n",
       "    .dataframe tbody tr th {\n",
       "        vertical-align: top;\n",
       "    }\n",
       "\n",
       "    .dataframe thead th {\n",
       "        text-align: right;\n",
       "    }\n",
       "</style>\n",
       "<table border=\"1\" class=\"dataframe\">\n",
       "  <thead>\n",
       "    <tr style=\"text-align: right;\">\n",
       "      <th></th>\n",
       "      <th>product_name</th>\n",
       "      <th>department_id</th>\n",
       "    </tr>\n",
       "    <tr>\n",
       "      <th>product_id</th>\n",
       "      <th></th>\n",
       "      <th></th>\n",
       "    </tr>\n",
       "  </thead>\n",
       "  <tbody>\n",
       "    <tr>\n",
       "      <th>1</th>\n",
       "      <td>Chocolate Sandwich Cookies</td>\n",
       "      <td>19</td>\n",
       "    </tr>\n",
       "    <tr>\n",
       "      <th>2</th>\n",
       "      <td>All-Seasons Salt</td>\n",
       "      <td>13</td>\n",
       "    </tr>\n",
       "    <tr>\n",
       "      <th>3</th>\n",
       "      <td>Robust Golden Unsweetened Oolong Tea</td>\n",
       "      <td>7</td>\n",
       "    </tr>\n",
       "    <tr>\n",
       "      <th>4</th>\n",
       "      <td>Smart Ones Classic Favorites Mini Rigatoni Wit...</td>\n",
       "      <td>1</td>\n",
       "    </tr>\n",
       "    <tr>\n",
       "      <th>5</th>\n",
       "      <td>Green Chile Anytime Sauce</td>\n",
       "      <td>13</td>\n",
       "    </tr>\n",
       "    <tr>\n",
       "      <th>...</th>\n",
       "      <td>...</td>\n",
       "      <td>...</td>\n",
       "    </tr>\n",
       "    <tr>\n",
       "      <th>96</th>\n",
       "      <td>Sprinklez Confetti Fun Organic Toppings</td>\n",
       "      <td>13</td>\n",
       "    </tr>\n",
       "    <tr>\n",
       "      <th>97</th>\n",
       "      <td>Organic Chamomile Lemon Tea</td>\n",
       "      <td>7</td>\n",
       "    </tr>\n",
       "    <tr>\n",
       "      <th>98</th>\n",
       "      <td>2% Yellow American Cheese</td>\n",
       "      <td>16</td>\n",
       "    </tr>\n",
       "    <tr>\n",
       "      <th>99</th>\n",
       "      <td>Local Living Butter Lettuce</td>\n",
       "      <td>4</td>\n",
       "    </tr>\n",
       "    <tr>\n",
       "      <th>100</th>\n",
       "      <td>Peanut Butter &amp; Strawberry Jam Sandwich</td>\n",
       "      <td>1</td>\n",
       "    </tr>\n",
       "  </tbody>\n",
       "</table>\n",
       "<p>100 rows × 2 columns</p>\n",
       "</div>"
      ],
      "text/plain": [
       "                                                 product_name  department_id\n",
       "product_id                                                                  \n",
       "1                                  Chocolate Sandwich Cookies             19\n",
       "2                                            All-Seasons Salt             13\n",
       "3                        Robust Golden Unsweetened Oolong Tea              7\n",
       "4           Smart Ones Classic Favorites Mini Rigatoni Wit...              1\n",
       "5                                   Green Chile Anytime Sauce             13\n",
       "...                                                       ...            ...\n",
       "96                    Sprinklez Confetti Fun Organic Toppings             13\n",
       "97                                Organic Chamomile Lemon Tea              7\n",
       "98                                  2% Yellow American Cheese             16\n",
       "99                                Local Living Butter Lettuce              4\n",
       "100                   Peanut Butter & Strawberry Jam Sandwich              1\n",
       "\n",
       "[100 rows x 2 columns]"
      ]
     },
     "execution_count": 28,
     "metadata": {},
     "output_type": "execute_result"
    }
   ],
   "source": [
    "# LEAVE AS-IS\n",
    "\n",
    "# File names\n",
    "INPUT_PRODUCTS = \"instacart-products.csv\"\n",
    "INPUT_TRANSACTIONS = \"instacart-transactions.csv.gz\"\n",
    "\n",
    "# Read into a dataframe\n",
    "products = pd.read_csv(INPUT_PRODUCTS, delimiter=\",\")\n",
    "\n",
    "# Set product_id as index, and drop column aisle_id\n",
    "products = products.set_index('product_id').drop(columns=['aisle_id'])\n",
    "\n",
    "products.head(100)"
   ]
  },
  {
   "cell_type": "markdown",
   "metadata": {},
   "source": [
    "## 2.1. Select by department"
   ]
  },
  {
   "cell_type": "code",
   "execution_count": 29,
   "metadata": {},
   "outputs": [],
   "source": [
    "# LEAVE AS-IS\n",
    "\n",
    "DEPT_BAKERY = 3\n",
    "DEPT_VEGGIES = 4\n",
    "DEPT_ALCOHOL = 5\n",
    "DEPT_WORLD = 6\n",
    "DEPT_DRINKS = 7\n",
    "DEPT_PETS = 8\n",
    "DEPT_PHARMACY = 11\n",
    "DEPT_CLEANING = 17\n",
    "DEPT_BABIES = 18"
   ]
  },
  {
   "cell_type": "code",
   "execution_count": 30,
   "metadata": {},
   "outputs": [
    {
     "name": "stdout",
     "output_type": "stream",
     "text": [
      "[21, 26, 47]\n"
     ]
    }
   ],
   "source": [
    "ids_product = list(range(50)) #Select product_id from 0 to 49\n",
    "\n",
    "def select_from_departments(products, product_ids, department_ids):\n",
    "    selected_products = []\n",
    "\n",
    "    for product_id in product_ids:\n",
    "        if product_id in products.index: #Check if id in products dataset\n",
    "            department_id = products.loc[product_id].department_id\n",
    "            if department_id in department_ids:\n",
    "                selected_products.append(product_id) #We append the product_id if is in selected dept\n",
    "\n",
    "    return selected_products\n",
    "\n",
    "selected_products = select_from_departments(products, ids_product, [DEPT_WORLD, DEPT_PETS])\n",
    "print(selected_products)"
   ]
  },
  {
   "cell_type": "code",
   "execution_count": 31,
   "metadata": {},
   "outputs": [
    {
     "name": "stdout",
     "output_type": "stream",
     "text": [
      "Input products:\n",
      "22   Fresh Breath Oral Rinse Mild Mint  (dept  11 )\n",
      "26   Fancy Feast Trout Feast Flaked Wet Cat Food  (dept  8 )\n",
      "45   European Cucumber  (dept  4 )\n",
      "54   24/7 Performance Cat Litter  (dept  8 )\n",
      "57   Flat Toothpicks  (dept  17 )\n",
      "71   Ultra 7 Inch Polypropylene Traditional Plates  (dept  17 )\n",
      "111   Fabric Softener, Geranium Scent  (dept  17 )\n",
      "112   Hot Tomatillo Salsa  (dept  13 )\n",
      "\n",
      "Selected products:\n",
      "57   Flat Toothpicks  (dept  17 )\n",
      "71   Ultra 7 Inch Polypropylene Traditional Plates  (dept  17 )\n",
      "111   Fabric Softener, Geranium Scent  (dept  17 )\n",
      "\n",
      "\n",
      "Input products:\n",
      "12   Chocolate Fudge Layer Cake  (dept  1 )\n",
      "32   Nacho Cheese White Bean Chips  (dept  19 )\n",
      "45   European Cucumber  (dept  4 )\n",
      "63   Banana & Sweet Potato Organic Teething Wafers  (dept  18 )\n",
      "71   Ultra 7 Inch Polypropylene Traditional Plates  (dept  17 )\n",
      "77   Coconut Chocolate Chip Energy Bar  (dept  19 )\n",
      "85   Soppressata Piccante  (dept  20 )\n",
      "90   Smorz Cereal  (dept  14 )\n",
      "110   Uncured Turkey Bologna  (dept  21 )\n",
      "\n",
      "Selected products:\n",
      "45   European Cucumber  (dept  4 )\n",
      "\n",
      "\n",
      "Input products:\n",
      "8   Cut Russet Potatoes Steam N' Mash  (dept  1 )\n",
      "14   Fresh Scent Dishwasher Cleaner  (dept  17 )\n",
      "23   Organic Turkey Burgers  (dept  12 )\n",
      "26   Fancy Feast Trout Feast Flaked Wet Cat Food  (dept  8 )\n",
      "33   Organic Spaghetti Style Pasta  (dept  9 )\n",
      "38   Ultra Antibacterial Dish Liquid  (dept  21 )\n",
      "46   Raisin Cinnamon Bagels 5 count  (dept  1 )\n",
      "50   Pumpkin Muffin Mix  (dept  13 )\n",
      "55   Lasting Color Shampoo  (dept  11 )\n",
      "63   Banana & Sweet Potato Organic Teething Wafers  (dept  18 )\n",
      "73   Jasmine Tea Unfiltered Ginger Ale  (dept  7 )\n",
      "87   Classics Earl Grey Tea  (dept  7 )\n",
      "92   Meat In The Middle Large Rawhide Chews  (dept  8 )\n",
      "104   High Fiber Tomato Basil Soup  (dept  15 )\n",
      "\n",
      "Selected products:\n",
      "55   Lasting Color Shampoo  (dept  11 )\n",
      "63   Banana & Sweet Potato Organic Teething Wafers  (dept  18 )\n",
      "\n",
      "\n"
     ]
    }
   ],
   "source": [
    "#Id products test\n",
    "id_products_test1 = [22, 26, 45, 54, 57, 71, 111, 112]\n",
    "id_products_test2 = [12, 32, 45, 63, 71, 77, 85, 90, 110]\n",
    "id_products_test3 = [8, 14, 23, 26, 33, 38, 46, 50, 55, 63, 73, 87, 92, 104]\n",
    "#list of depts test\n",
    "list_dept_test1 = [DEPT_BAKERY, DEPT_CLEANING]\n",
    "list_dept_test2 = [DEPT_VEGGIES, DEPT_ALCOHOL, DEPT_DRINKS]\n",
    "list_dept_test3 = [DEPT_PHARMACY, DEPT_BABIES, DEPT_WORLD]\n",
    "\n",
    "def print_test_selected_products(products, id_products, list_dept):\n",
    "    selected_products = select_from_departments(products, id_products, list_dept) #Use of the funtion and get selected products\n",
    "    print(\"Input products:\")\n",
    "    for id_prod in id_products: #Loop for printing input products\n",
    "        department_id = products.loc[id_prod].department_id #We access the dept_id and product name with the product_id\n",
    "        product_name = products.loc[id_prod].product_name\n",
    "        print(id_prod,\" \",product_name,\" (dept \",department_id,\")\")\n",
    "    print(\"\\nSelected products:\")\n",
    "    for prod in selected_products: #Loop for printig selected products similar as before\n",
    "        dept_id = products.loc[prod].department_id\n",
    "        prod_name = products.loc[prod].product_name\n",
    "        print(prod,\" \",prod_name,\" (dept \",dept_id,\")\")\n",
    "    print(\"\\n\")\n",
    "    \n",
    "print_test_selected_products(products, id_products_test1, list_dept_test1)\n",
    "print_test_selected_products(products, id_products_test2, list_dept_test2)\n",
    "print_test_selected_products(products, id_products_test3, list_dept_test3)"
   ]
  },
  {
   "cell_type": "markdown",
   "metadata": {},
   "source": [
    "## 2.2. Read and filter transactions"
   ]
  },
  {
   "cell_type": "code",
   "execution_count": 32,
   "metadata": {
    "scrolled": true
   },
   "outputs": [
    {
     "name": "stdout",
     "output_type": "stream",
     "text": [
      "Transactions Read: 1000, Transactions Stored: 158\n",
      "Transactions Read: 2000, Transactions Stored: 311\n",
      "Transactions Read: 3000, Transactions Stored: 460\n",
      "Transactions Read: 4000, Transactions Stored: 598\n",
      "Transactions Read: 5000, Transactions Stored: 745\n",
      "Transactions Read: 6000, Transactions Stored: 902\n",
      "Transactions Read: 7000, Transactions Stored: 1067\n",
      "Transactions Read: 8000, Transactions Stored: 1206\n",
      "Transactions Read: 9000, Transactions Stored: 1373\n",
      "Transactions Read: 10000, Transactions Stored: 1515\n",
      "Transactions Read: 11000, Transactions Stored: 1670\n",
      "Transactions Read: 12000, Transactions Stored: 1807\n",
      "Transactions Read: 13000, Transactions Stored: 1951\n",
      "Transactions Read: 14000, Transactions Stored: 2102\n",
      "Transactions Read: 15000, Transactions Stored: 2245\n",
      "Transactions Read: 16000, Transactions Stored: 2384\n",
      "Transactions Read: 17000, Transactions Stored: 2543\n",
      "Transactions Read: 18000, Transactions Stored: 2692\n",
      "Transactions Read: 19000, Transactions Stored: 2840\n",
      "Transactions Read: 20000, Transactions Stored: 2974\n",
      "Transactions Read: 21000, Transactions Stored: 3125\n",
      "Transactions Read: 22000, Transactions Stored: 3267\n",
      "Transactions Read: 23000, Transactions Stored: 3407\n",
      "Transactions Read: 24000, Transactions Stored: 3578\n",
      "Transactions Read: 25000, Transactions Stored: 3748\n",
      "Transactions Read: 26000, Transactions Stored: 3891\n",
      "Transactions Read: 27000, Transactions Stored: 4028\n",
      "Transactions Read: 28000, Transactions Stored: 4164\n",
      "Transactions Read: 29000, Transactions Stored: 4304\n",
      "Transactions Read: 30000, Transactions Stored: 4421\n",
      "Transactions Read: 31000, Transactions Stored: 4560\n",
      "Transactions Read: 32000, Transactions Stored: 4700\n",
      "Transactions Read: 33000, Transactions Stored: 4837\n",
      "Transactions Read: 34000, Transactions Stored: 4974\n",
      "Finished reading and storing transactions.\n"
     ]
    }
   ],
   "source": [
    "#Form a function for usage in section 2.4.\n",
    "def read_transactions(transactions_read, transactions_stored, transactions, products, INPUT_TRANSACTIONS, depts):\n",
    "    # Open a compressed file\n",
    "    with gzip.open(INPUT_TRANSACTIONS, \"rt\") as inputfile:\n",
    "\n",
    "        # Create a CSV reader\n",
    "        reader = csv.reader(inputfile, delimiter=\",\")\n",
    "\n",
    "        # Iterate through the CSV file\n",
    "        for row in reader:\n",
    "\n",
    "            # Convert to integers\n",
    "            items = [int(x) for x in row]\n",
    "            selected_items = select_from_departments(products, items, depts) #Select products_id in items that are in DEPT_CLEANING\n",
    "            if selected_items: #if it is not empty\n",
    "                transactions.append(items)\n",
    "                transactions_stored += 1\n",
    "\n",
    "            transactions_read += 1\n",
    "\n",
    "            if transactions_stored >= 5000:#Check if we've stored 5000 transactions\n",
    "                break\n",
    "\n",
    "            if transactions_read % 1000 == 0:#Print progress every 1000 transactions\n",
    "                print(f\"Transactions Read: {transactions_read}, Transactions Stored: {transactions_stored}\")\n",
    "\n",
    "    print(\"Finished reading and storing transactions.\")\n",
    "    \n",
    "transactions_read = 0\n",
    "transactions_stored = 0\n",
    "transactions = []\n",
    "read_transactions(transactions_read, transactions_stored, transactions, products, INPUT_TRANSACTIONS, [DEPT_CLEANING])    "
   ]
  },
  {
   "cell_type": "markdown",
   "metadata": {},
   "source": [
    "## 2.3. Extract association rules and comment on them (DEPT_CLEANING)"
   ]
  },
  {
   "cell_type": "code",
   "execution_count": 12,
   "metadata": {},
   "outputs": [
    {
     "name": "stdout",
     "output_type": "stream",
     "text": [
      "Rules involving itemset [19604, 16797]\n",
      "['Medium Scarlet Raspberries'] => ['Strawberries'] (support=0.0030, confidence=0.56, lift=12.35)\n",
      "\n",
      "Rules involving itemset [13176, 5876, 27966]\n",
      "['Organic Lemon', 'Organic Raspberries'] => ['Bag of Organic Bananas'] (support=0.0030, confidence=0.71, lift=6.24)\n",
      "\n",
      "Rules involving itemset [13176, 47209, 8021]\n",
      "['Organic Hass Avocado', '100% Recycled Paper Towels'] => ['Bag of Organic Bananas'] (support=0.0042, confidence=0.52, lift=4.59)\n",
      "\n",
      "Rules involving itemset [13176, 21137, 27966]\n",
      "['Organic Strawberries', 'Organic Raspberries'] => ['Bag of Organic Bananas'] (support=0.0058, confidence=0.60, lift=5.28)\n",
      "\n",
      "Rules involving itemset [13176, 21137, 39275]\n",
      "['Organic Strawberries', 'Organic Blueberries'] => ['Bag of Organic Bananas'] (support=0.0030, confidence=0.50, lift=4.37)\n",
      "\n",
      "Rules involving itemset [13176, 39275, 27966]\n",
      "['Organic Blueberries', 'Organic Raspberries'] => ['Bag of Organic Bananas'] (support=0.0030, confidence=0.63, lift=5.46)\n",
      "\n",
      "Rules involving itemset [13176, 47209, 27966]\n",
      "['Organic Hass Avocado', 'Organic Raspberries'] => ['Bag of Organic Bananas'] (support=0.0064, confidence=0.60, lift=5.28)\n",
      "\n",
      "Rules involving itemset [13176, 47209, 30391]\n",
      "['Organic Hass Avocado', 'Organic Cucumber'] => ['Bag of Organic Bananas'] (support=0.0036, confidence=0.58, lift=5.08)\n",
      "\n"
     ]
    }
   ],
   "source": [
    "results = list(apriori(transactions, min_support=0.003, min_confidence=0.5, min_lift=1.0)) #I put min_support=0.003 to have a reasonable number of rules\n",
    "print_apyori_output(results, products, 'product_name')"
   ]
  },
  {
   "cell_type": "markdown",
   "metadata": {},
   "source": [
    "I would recommend to the shopping app to offer bundle deals or discounts for items that appear together in these association rules. For instance, the rule ['Organic Lemon', 'Organic Raspberries'] => ['Bag of Organic Bananas'] suggests that customers who buy Organic Lemon and Organic Raspberries often also purchase Bag of Organic Bananas. The app can offer a discount when these three items are bought together for example.\n",
    "\n",
    "Another recomendation would be that because of the fact that certain items are frequently bought together, the app should promote the related categories as well. For example, if 'Organic Strawberries,' 'Organic Raspberries,' and 'Bag of Organic Bananas' are frequently bought together, the app should suggest to the customer the \"Organic Fruits\" category."
   ]
  },
  {
   "cell_type": "markdown",
   "metadata": {},
   "source": [
    "## 2.4. Extract association rules and comment on them (other departments)"
   ]
  },
  {
   "cell_type": "code",
   "execution_count": 13,
   "metadata": {},
   "outputs": [
    {
     "name": "stdout",
     "output_type": "stream",
     "text": [
      "Transactions Read: 1000, Transactions Stored: 163\n",
      "Transactions Read: 2000, Transactions Stored: 339\n",
      "Transactions Read: 3000, Transactions Stored: 507\n",
      "Transactions Read: 4000, Transactions Stored: 668\n",
      "Transactions Read: 5000, Transactions Stored: 837\n",
      "Transactions Read: 6000, Transactions Stored: 994\n",
      "Transactions Read: 7000, Transactions Stored: 1161\n",
      "Transactions Read: 8000, Transactions Stored: 1306\n",
      "Transactions Read: 9000, Transactions Stored: 1480\n",
      "Transactions Read: 10000, Transactions Stored: 1678\n",
      "Transactions Read: 11000, Transactions Stored: 1855\n",
      "Transactions Read: 12000, Transactions Stored: 2003\n",
      "Transactions Read: 13000, Transactions Stored: 2176\n",
      "Transactions Read: 14000, Transactions Stored: 2353\n",
      "Transactions Read: 15000, Transactions Stored: 2524\n",
      "Transactions Read: 16000, Transactions Stored: 2693\n",
      "Transactions Read: 17000, Transactions Stored: 2837\n",
      "Transactions Read: 18000, Transactions Stored: 2999\n",
      "Transactions Read: 19000, Transactions Stored: 3137\n",
      "Transactions Read: 20000, Transactions Stored: 3325\n",
      "Transactions Read: 21000, Transactions Stored: 3508\n",
      "Transactions Read: 22000, Transactions Stored: 3659\n",
      "Transactions Read: 23000, Transactions Stored: 3823\n",
      "Transactions Read: 24000, Transactions Stored: 3996\n",
      "Transactions Read: 25000, Transactions Stored: 4165\n",
      "Transactions Read: 26000, Transactions Stored: 4349\n",
      "Transactions Read: 27000, Transactions Stored: 4508\n",
      "Transactions Read: 28000, Transactions Stored: 4676\n",
      "Transactions Read: 29000, Transactions Stored: 4846\n",
      "Finished reading and storing transactions.\n"
     ]
    }
   ],
   "source": [
    "#In this cell we generate transactions with set of departments DEPT_PETS, DEPT_PHARMACY, DEPT_BABIES using function read_transactions\n",
    "transactions24_read = 0\n",
    "transactions24_stored = 0\n",
    "transactions24 = []\n",
    "departments = [DEPT_PETS, DEPT_PHARMACY, DEPT_BABIES]\n",
    "read_transactions(transactions24_read, transactions24_stored, transactions24, products, INPUT_TRANSACTIONS, departments)    "
   ]
  },
  {
   "cell_type": "code",
   "execution_count": 14,
   "metadata": {},
   "outputs": [
    {
     "name": "stdout",
     "output_type": "stream",
     "text": [
      "Rules involving itemset [19604, 16797]\n",
      "['Medium Scarlet Raspberries'] => ['Strawberries'] (support=0.0032, confidence=0.50, lift=10.55)\n",
      "\n",
      "Rules involving itemset [32018, 38141]\n",
      "['Fiber & Protein Organic Pears, Raspberries, Butternut Squash & Carrots Snack'] => ['Organic Fiber & Protein Pear Blueberry & Spinach Baby Food'] (support=0.0032, confidence=0.76, lift=108.84)\n",
      "\n",
      "Rules involving itemset [32018, 45495]\n",
      "['Pear Kiwi & Kale Baby Food'] => ['Organic Fiber & Protein Pear Blueberry & Spinach Baby Food'] (support=0.0032, confidence=0.70, lift=99.38)\n",
      "\n",
      "Rules involving itemset [13176, 27966, 21903]\n",
      "['Organic Raspberries', 'Organic Baby Spinach'] => ['Bag of Organic Bananas'] (support=0.0046, confidence=0.55, lift=3.78)\n",
      "\n",
      "Rules involving itemset [13176, 22825, 47209]\n",
      "[\"Organic D'Anjou Pears\", 'Organic Hass Avocado'] => ['Bag of Organic Bananas'] (support=0.0032, confidence=0.50, lift=3.45)\n",
      "\n",
      "Rules involving itemset [13176, 27966, 30391]\n",
      "['Organic Raspberries', 'Organic Cucumber'] => ['Bag of Organic Bananas'] (support=0.0032, confidence=0.73, lift=5.02)\n",
      "\n",
      "Rules involving itemset [13176, 47209, 27966]\n",
      "['Organic Hass Avocado', 'Organic Raspberries'] => ['Bag of Organic Bananas'] (support=0.0082, confidence=0.59, lift=4.10)\n",
      "\n",
      "Rules involving itemset [24852, 16797, 47766]\n",
      "['Strawberries', 'Organic Avocado'] => ['Banana'] (support=0.0034, confidence=0.55, lift=3.37)\n",
      "\n"
     ]
    }
   ],
   "source": [
    "#Now we obtain the assoctiation rules from the read transactions\n",
    "results24 = list(apriori(transactions24, min_support=0.0032, min_confidence=0.5, min_lift=1.0))\n",
    "print_apyori_output(results24, products, 'product_name')"
   ]
  },
  {
   "cell_type": "markdown",
   "metadata": {},
   "source": [
    "Several rules exhibit high confidence and lift values, indicating strong associations between items. For example, Rule 2 has a confidence of 76% and a lift of 108.84, suggesting a robust relationship between the mentioned snack and baby food.\n",
    "\n",
    "The rules highlight associations between specific products in different departments. For instance, Rule 1 suggests that customers purchasing 'Medium Scarlet Raspberries' might also buy 'Strawberries' with a lift of 10.55.\n",
    "\n",
    "Some rules involve items from different departments, indicating potential cross-department purchasing behavior. This can be valuable information for marketing and product placement strategies."
   ]
  },
  {
   "cell_type": "markdown",
   "metadata": {},
   "source": [
    "<font size=\"+2\" color=\"#003300\">I hereby declare that, except for the code provided by the course instructors, all of my code, report, and figures were produced by myself.</font>"
   ]
  }
 ],
 "metadata": {
  "kernelspec": {
   "display_name": "Python 3 (ipykernel)",
   "language": "python",
   "name": "python3"
  },
  "language_info": {
   "codemirror_mode": {
    "name": "ipython",
    "version": 3
   },
   "file_extension": ".py",
   "mimetype": "text/x-python",
   "name": "python",
   "nbconvert_exporter": "python",
   "pygments_lexer": "ipython3",
   "version": "3.9.12"
  }
 },
 "nbformat": 4,
 "nbformat_minor": 2
}
