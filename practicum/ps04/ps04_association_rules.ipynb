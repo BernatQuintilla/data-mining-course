{
 "cells": [
  {
   "cell_type": "markdown",
   "metadata": {},
   "source": [
    "# Practice Session 04: Basket analysis"
   ]
  },
  {
   "cell_type": "markdown",
   "metadata": {},
   "source": [
    "Association rule mining techniques are useful to analyze datasets consisting of transactions, in which each transaction is a collection of items.\n",
    "\n",
    "We will use a well-known dataset named [Instacart](https://www.kaggle.com/c/instacart-market-basket-analysis) containing more than 3 million orders of products through a grocery shopping app. You can find it in the `instacart/` directory of the practicum data files.\n",
    "\n",
    "<font size=\"-1\" color=\"gray\">(Remove this cell when delivering.)</font>"
   ]
  },
  {
   "cell_type": "markdown",
   "metadata": {},
   "source": [
    "Author: <font color=\"blue\">Bernat Quintilla Castellón</font>\n",
    "\n",
    "E-mail: <font color=\"blue\">bernat.quintilla01@estudiant.upf.edu</font>\n",
    "\n",
    "Date: <font color=\"blue\">The current date here</font>"
   ]
  },
  {
   "cell_type": "code",
   "execution_count": 1,
   "metadata": {},
   "outputs": [],
   "source": [
    "import numpy as np  \n",
    "import matplotlib.pyplot as plt  \n",
    "import pandas as pd  \n",
    "import csv\n",
    "import gzip\n",
    "from apyori import apriori"
   ]
  },
  {
   "cell_type": "markdown",
   "metadata": {},
   "source": [
    "If the apyori library is not already installed in your laptop, you can install it with: `pip install apyori`\n",
    "\n",
    "<font size=\"-1\" color=\"gray\">(Remove this cell when delivering.)</font>"
   ]
  },
  {
   "cell_type": "markdown",
   "metadata": {},
   "source": [
    "## 0. The Apriori Algorithm in a nutshell\n",
    "\n",
    "There are three major components of Apriori algorithm, which we describe below using as an example the case where transactions are purchase histories.\n",
    "\n",
    "**Support**: the number of transactions containing a particular item divided by total number of transactions:\n",
    "\n",
    "   *Support(A) = (Transactions containing (A))/(Total Transactions)*\n",
    "\n",
    "**Confidence**: normally indicates the likelihood that an item B is also bought if item A is bought. It can be calculated by finding the number of transactions where A and B are bought together, divided by total number of transactions where A is bought:\n",
    "\n",
    "   *Confidence(A→B) = (Transactions containing both (A and B))/(Transactions containing A)*\n",
    "\n",
    "**Lift**: the increase in the ratio of sale of B when A is sold. Lift(A –> B) can be calculated by dividing Confidence(A -> B) by Support(B):\n",
    "\n",
    "   *Lift(A→B) = (Confidence (A→B))/(Support (B))*\n",
    "   \n",
    "A Lift of 1 means there is no association between products A and B. Lift greater than 1.0 means products A and B are more likely to be bought together. Lift less than 1.0 indicates two products are unlikely to be bought together.\n",
    "\n",
    "The Apriori algorithm first finds itemsets having the desired level of support, and then within those itemsets tries to derive rules having the desired confidence and lift.\n",
    "\n",
    "<font size=\"-1\" color=\"gray\">(Remove this cell when delivering.)</font>"
   ]
  },
  {
   "cell_type": "markdown",
   "metadata": {},
   "source": [
    "# 1. Playing with apyori"
   ]
  },
  {
   "cell_type": "markdown",
   "metadata": {},
   "source": [
    "The [apyori library](https://pypi.org/project/apyori/) is an implementation of the Apriori algorithm. Its typical usage is to receive a list of transactions and then print the association rules it found.\n",
    "\n",
    "To use this library, we pass a list in which each element represents a transaction, for instance:\n",
    "\n",
    "```python\n",
    "transactions = [\n",
    "    ['beer', 'chips', 'nuts', 'olives'],\n",
    "    ['beer', 'chips', 'olives'],\n",
    "    ['chips', 'nuts' ],\n",
    "    ['chips', 'olives'],\n",
    "    ['beer', 'nuts' ],\n",
    "    ['chips'],\n",
    "    ['nuts', 'olives'],\n",
    "    ['beer', 'nuts'],\n",
    "    ['beer', 'chips', 'olives'], \n",
    "    ['beer', 'nuts', 'olives'], \n",
    "\n",
    "]\n",
    "results = list(apriori(transactions, min_support=0.3, min_confidence=0.75, min_lift=1.0))\n",
    "\n",
    "```\n",
    "\n",
    "The function below, which you can leave as-is, prints the output of the apyori library in a readable format. Use it to print the results of your association rules mining:\n",
    "\n",
    "```python\n",
    "print_apyori_output(results)\n",
    "```\n",
    "\n",
    "<font size=\"-1\" color=\"gray\">(Remove this cell when delivering.)</font>"
   ]
  },
  {
   "cell_type": "code",
   "execution_count": 2,
   "metadata": {},
   "outputs": [],
   "source": [
    "# LEAVE AS-IS\n",
    "\n",
    "def print_apyori_output (association_results, info=False, info_key=False):\n",
    "    for relation_record in association_results:\n",
    "        itemset = list(relation_record.items)\n",
    "        \n",
    "        # Consider only itemsets of two elements\n",
    "        if len(itemset) > 1: \n",
    "        \n",
    "            print(\"Rules involving itemset %s\" % itemset)\n",
    "            support = relation_record.support\n",
    "\n",
    "            for rules in relation_record.ordered_statistics:\n",
    "                antecedent = list(rules.items_base)\n",
    "                consequent = list(rules.items_add)\n",
    "                \n",
    "                if info_key:\n",
    "                    antecedent = [info.loc[x][info_key] for x in antecedent]\n",
    "                    consequent = [info.loc[x][info_key] for x in consequent]\n",
    "                \n",
    "                confidence = rules.confidence\n",
    "                lift = rules.lift\n",
    "\n",
    "                print(\"%s => %s (support=%.4f, confidence=%.2f, lift=%.2f)\" %\n",
    "                      (antecedent, consequent, support, confidence, lift))\n",
    "            print()"
   ]
  },
  {
   "cell_type": "markdown",
   "metadata": {},
   "source": [
    "<font size=\"+1\" color=\"red\">Replace this cell with your own example of transactions (at least 20 transactions) and execution of the apriori algorithm, in which you should obtain at least ONE and at most THREE rules.</font>"
   ]
  },
  {
   "cell_type": "code",
   "execution_count": 3,
   "metadata": {},
   "outputs": [
    {
     "name": "stdout",
     "output_type": "stream",
     "text": [
      "Rules involving itemset ['bread', 'cheese']\n",
      "['cheese'] => ['bread'] (support=0.1905, confidence=0.50, lift=1.05)\n",
      "\n",
      "Rules involving itemset ['cheese', 'milk']\n",
      "['cheese'] => ['milk'] (support=0.2381, confidence=0.62, lift=1.09)\n",
      "\n",
      "Rules involving itemset ['yogurt', 'milk']\n",
      "['yogurt'] => ['milk'] (support=0.1905, confidence=0.57, lift=1.00)\n",
      "\n"
     ]
    }
   ],
   "source": [
    "#21 different transactions\n",
    "transactions = [\n",
    "    ['milk', 'bread', 'eggs', 'cheese'],\n",
    "    ['bread', 'eggs', 'cheese'],\n",
    "    ['milk', 'eggs', 'cheese'],\n",
    "    ['milk', 'bread', 'cheese'],\n",
    "    ['milk', 'bread', 'eggs'],\n",
    "    ['bread', 'cheese'],\n",
    "    ['milk', 'eggs'],\n",
    "    ['milk', 'bread'],\n",
    "    ['bread', 'eggs'],\n",
    "    ['milk', 'cheese'],\n",
    "    ['eggs'],\n",
    "    ['bread', 'butter'],\n",
    "    ['milk', 'butter'],\n",
    "    ['butter'],\n",
    "    ['milk', 'yogurt'],\n",
    "    ['yogurt', 'eggs'],\n",
    "    ['milk', 'yogurt', 'eggs'],\n",
    "    ['yogurt', 'cheese'],\n",
    "    ['milk', 'yogurt', 'cheese'],\n",
    "    ['yogurt', 'bread'],\n",
    "    ['milk', 'yogurt', 'bread']\n",
    "]\n",
    "\n",
    "results = list(apriori(transactions, min_support=0.1, min_confidence=0.5, min_lift=1.0))\n",
    "\n",
    "print_apyori_output(results)"
   ]
  },
  {
   "cell_type": "markdown",
   "metadata": {},
   "source": [
    "<font size=\"+1\" color=\"red\">Replace this cell with (1) a printout of the rules you have obtained, and (2) for each of those rules, indicate clearly how the support, confidence, and lift is calculated. Do not merely repeat the formula: indicate how each number is computed based on the transactions you provided, as if you were trying to verify that the numbers are correct.</font>"
   ]
  },
  {
   "cell_type": "markdown",
   "metadata": {},
   "source": [
    "**Rule of itemset ['bread', 'cheese']: ['cheese'] => ['bread']**\n",
    "\n",
    "```Support```:\n",
    "\n",
    "Support = Number of transactions with ['cheese', 'bread'] / Total number of transactions\n",
    "\n",
    "Support = 4 / 20 = 0.1905\n",
    "\n",
    "```Confidence```:\n",
    "\n",
    "Confidence = Number of transactions with ['cheese', 'bread'] / Number of transactions with ['cheese']\n",
    "\n",
    "Confidence = 4 / 8 = 0.50\n",
    "\n",
    "```Lift```:\n",
    "\n",
    "Lift = Support / (Support of 'cheese' * Support of 'bread')\n",
    "\n",
    "Lift = 0.1905 / (0.4286 * 0.4762) = 1.05\n",
    "\n",
    "\n",
    "**Rule of itemset ['cheese', 'milk']: ['cheese'] => ['milk']**\n",
    "\n",
    "```Support```:\n",
    "\n",
    "Support = Number of transactions with ['cheese', 'milk'] / Total number of transactions\n",
    "\n",
    "Support = 5 / 20 = 0.2381\n",
    "\n",
    "```Confidence```:\n",
    "\n",
    "Confidence = Number of transactions with ['cheese', 'milk'] / Number of transactions with ['cheese']\n",
    "\n",
    "Confidence = 5 / 8 = 0.62\n",
    "\n",
    "```Lift```:\n",
    "\n",
    "Lift = Support / (Support of 'cheese' * Support of 'milk')\n",
    "\n",
    "Lift = 0.2381 / (0.4286 * 0.5238) = 1.09\n",
    "\n",
    "**Rule of itemset ['yogurt', 'milk']: ['yogurt'] => ['milk']**\n",
    "\n",
    "```Support```:\n",
    "\n",
    "Support = Number of transactions with ['yogurt', 'milk'] / Total number of transactions\n",
    "\n",
    "Support = 4 / 20 = 0.1905\n",
    "\n",
    "```Confidence```:\n",
    "\n",
    "Confidence = Number of transactions with ['yogurt', 'milk'] / Number of transactions with ['yogurt']\n",
    "\n",
    "Confidence = 4 / 7 = 0.57\n",
    "\n",
    "```Lift```:\n",
    "\n",
    "Lift = Support / (Support of 'yogurt' * Support of 'milk')\n",
    "\n",
    "Lift = 0.1905 / (0.3333 * 0.5714) = 1.00"
   ]
  },
  {
   "cell_type": "markdown",
   "metadata": {},
   "source": [
    "# 2. Load and prepare the shopping baskets"
   ]
  },
  {
   "cell_type": "markdown",
   "metadata": {},
   "source": [
    "The following code, which you should leave as-is, loads the information about products into a dataframe indexed by product id.\n",
    "\n",
    "<font size=\"-1\" color=\"gray\">(Remove this cell when delivering.)</font>"
   ]
  },
  {
   "cell_type": "code",
   "execution_count": 4,
   "metadata": {},
   "outputs": [
    {
     "data": {
      "text/html": [
       "<div>\n",
       "<style scoped>\n",
       "    .dataframe tbody tr th:only-of-type {\n",
       "        vertical-align: middle;\n",
       "    }\n",
       "\n",
       "    .dataframe tbody tr th {\n",
       "        vertical-align: top;\n",
       "    }\n",
       "\n",
       "    .dataframe thead th {\n",
       "        text-align: right;\n",
       "    }\n",
       "</style>\n",
       "<table border=\"1\" class=\"dataframe\">\n",
       "  <thead>\n",
       "    <tr style=\"text-align: right;\">\n",
       "      <th></th>\n",
       "      <th>product_name</th>\n",
       "      <th>department_id</th>\n",
       "    </tr>\n",
       "    <tr>\n",
       "      <th>product_id</th>\n",
       "      <th></th>\n",
       "      <th></th>\n",
       "    </tr>\n",
       "  </thead>\n",
       "  <tbody>\n",
       "    <tr>\n",
       "      <th>1</th>\n",
       "      <td>Chocolate Sandwich Cookies</td>\n",
       "      <td>19</td>\n",
       "    </tr>\n",
       "    <tr>\n",
       "      <th>2</th>\n",
       "      <td>All-Seasons Salt</td>\n",
       "      <td>13</td>\n",
       "    </tr>\n",
       "    <tr>\n",
       "      <th>3</th>\n",
       "      <td>Robust Golden Unsweetened Oolong Tea</td>\n",
       "      <td>7</td>\n",
       "    </tr>\n",
       "    <tr>\n",
       "      <th>4</th>\n",
       "      <td>Smart Ones Classic Favorites Mini Rigatoni Wit...</td>\n",
       "      <td>1</td>\n",
       "    </tr>\n",
       "    <tr>\n",
       "      <th>5</th>\n",
       "      <td>Green Chile Anytime Sauce</td>\n",
       "      <td>13</td>\n",
       "    </tr>\n",
       "    <tr>\n",
       "      <th>...</th>\n",
       "      <td>...</td>\n",
       "      <td>...</td>\n",
       "    </tr>\n",
       "    <tr>\n",
       "      <th>96</th>\n",
       "      <td>Sprinklez Confetti Fun Organic Toppings</td>\n",
       "      <td>13</td>\n",
       "    </tr>\n",
       "    <tr>\n",
       "      <th>97</th>\n",
       "      <td>Organic Chamomile Lemon Tea</td>\n",
       "      <td>7</td>\n",
       "    </tr>\n",
       "    <tr>\n",
       "      <th>98</th>\n",
       "      <td>2% Yellow American Cheese</td>\n",
       "      <td>16</td>\n",
       "    </tr>\n",
       "    <tr>\n",
       "      <th>99</th>\n",
       "      <td>Local Living Butter Lettuce</td>\n",
       "      <td>4</td>\n",
       "    </tr>\n",
       "    <tr>\n",
       "      <th>100</th>\n",
       "      <td>Peanut Butter &amp; Strawberry Jam Sandwich</td>\n",
       "      <td>1</td>\n",
       "    </tr>\n",
       "  </tbody>\n",
       "</table>\n",
       "<p>100 rows × 2 columns</p>\n",
       "</div>"
      ],
      "text/plain": [
       "                                                 product_name  department_id\n",
       "product_id                                                                  \n",
       "1                                  Chocolate Sandwich Cookies             19\n",
       "2                                            All-Seasons Salt             13\n",
       "3                        Robust Golden Unsweetened Oolong Tea              7\n",
       "4           Smart Ones Classic Favorites Mini Rigatoni Wit...              1\n",
       "5                                   Green Chile Anytime Sauce             13\n",
       "...                                                       ...            ...\n",
       "96                    Sprinklez Confetti Fun Organic Toppings             13\n",
       "97                                Organic Chamomile Lemon Tea              7\n",
       "98                                  2% Yellow American Cheese             16\n",
       "99                                Local Living Butter Lettuce              4\n",
       "100                   Peanut Butter & Strawberry Jam Sandwich              1\n",
       "\n",
       "[100 rows x 2 columns]"
      ]
     },
     "execution_count": 4,
     "metadata": {},
     "output_type": "execute_result"
    }
   ],
   "source": [
    "# LEAVE AS-IS\n",
    "\n",
    "# File names\n",
    "INPUT_PRODUCTS = \"instacart-products.csv\"\n",
    "INPUT_TRANSACTIONS = \"instacart-transactions.csv.gz\"\n",
    "\n",
    "# Read into a dataframe\n",
    "products = pd.read_csv(INPUT_PRODUCTS, delimiter=\",\")\n",
    "\n",
    "# Set product_id as index, and drop column aisle_id\n",
    "products = products.set_index('product_id').drop(columns=['aisle_id'])\n",
    "\n",
    "products.head(100)"
   ]
  },
  {
   "cell_type": "markdown",
   "metadata": {},
   "source": [
    "## 2.1. Select by department"
   ]
  },
  {
   "cell_type": "markdown",
   "metadata": {},
   "source": [
    "As this file is large and complex, we will focus on one or two departments and try to get some conclusions about the products in those departments. The following cell, which you should leave as-is, list some department names.\n",
    "\n",
    "<font size=\"-1\" color=\"gray\">(Remove this cell when delivering.)</font>"
   ]
  },
  {
   "cell_type": "code",
   "execution_count": 5,
   "metadata": {},
   "outputs": [],
   "source": [
    "# LEAVE AS-IS\n",
    "\n",
    "DEPT_BAKERY = 3\n",
    "DEPT_VEGGIES = 4\n",
    "DEPT_ALCOHOL = 5\n",
    "DEPT_WORLD = 6\n",
    "DEPT_DRINKS = 7\n",
    "DEPT_PETS = 8\n",
    "DEPT_PHARMACY = 11\n",
    "DEPT_CLEANING = 17\n",
    "DEPT_BABIES = 18"
   ]
  },
  {
   "cell_type": "markdown",
   "metadata": {},
   "source": [
    "Write code that can select a list of products from a set of departments. Do this with a function named `select_from_departments` that takes as input:\n",
    "\n",
    "* A dataframe containing product information, which will be the `products` dataframe we just loaded.\n",
    "* A list of product ids\n",
    "* A list of department ids\n",
    "\n",
    "It should return a list containing only the product ids that belong to one of the listed departments. This may return an empty list if no product belongs to any of the specified departments.\n",
    "\n",
    "Given that the products dataframe is indexed by *product_id*, if you want to obtain the *department_id* of product *product_id*, use:\n",
    "\n",
    "```python\n",
    "products.loc[product_id].department_id\n",
    "```\n",
    "\n",
    "Note that *product_id* must be an integer.\n",
    "\n",
    "<font size=\"-1\" color=\"gray\">(Remove this cell when delivering.)</font>"
   ]
  },
  {
   "cell_type": "markdown",
   "metadata": {},
   "source": [
    "<font size=\"+1\" color=\"red\">Replace this cell with your code for *select_from_departments*.</font>"
   ]
  },
  {
   "cell_type": "code",
   "execution_count": 6,
   "metadata": {},
   "outputs": [
    {
     "name": "stdout",
     "output_type": "stream",
     "text": [
      "[21, 26, 47]\n"
     ]
    }
   ],
   "source": [
    "ids_product = list(range(50))\n",
    "\n",
    "def select_from_departments(products, product_ids, department_ids):\n",
    "    selected_products = []\n",
    "\n",
    "    for product_id in product_ids:\n",
    "        if product_id in products.index:\n",
    "            department_id = products.loc[product_id].department_id\n",
    "            if department_id in department_ids:\n",
    "                selected_products.append(product_id)\n",
    "\n",
    "    return selected_products\n",
    "\n",
    "selected_products = select_from_departments(products, ids_product, [DEPT_WORLD, DEPT_PETS])\n",
    "print(selected_products)"
   ]
  },
  {
   "cell_type": "markdown",
   "metadata": {},
   "source": [
    "Test your function by passing it a list of products and ensuring it selects only the products in the 1-2 departments you have selected. To obtain test cases you can open the products file with a spreadsheet program.\n",
    "\n",
    "Each test case should print:\n",
    "\n",
    "* The product name and department id of each item in the input list\n",
    "* The product name and department id of each item in the output list\n",
    "\n",
    "For instance, suppose a test case is `[22, 26, 45, 54, 57, 71, 111, 112]` and we select products from DEPT_BAKERY and DEPT_CLEANING, a test case run should print something similar to this:\n",
    "\n",
    "```\n",
    "Test case:\n",
    "[22, 26, 45, 54, 57, 71, 111, 112]\n",
    "\n",
    "Input products:\n",
    "22 Fresh Breath Oral Rinse Mild Mint (dept 11)\n",
    "26 Fancy Feast Trout Feast Flaked Wet Cat Food (dept 8)\n",
    "45 European Cucumber (dept 4)\n",
    "54 24/7 Performance Cat Litter (dept 8)\n",
    "57 Flat Toothpicks (dept 17)\n",
    "71 Ultra 7 Inch Polypropylene Traditional Plates (dept 17)\n",
    "111 Fabric Softener, Geranium Scent (dept 17)\n",
    "112 Hot Tomatillo Salsa (dept 13)\n",
    "\n",
    "Selected products:\n",
    "57 Flat Toothpicks (dept 17)\n",
    "71 Ultra 7 Inch Polypropylene Traditional Plates (dept 17)\n",
    "111 Fabric Softener, Geranium Scent (dept 17)\n",
    "```\n",
    "\n",
    "Do not replicate code that can be easily factored in a function in your answer.\n",
    "\n",
    "<font size=\"-1\" color=\"gray\">(Remove this cell when delivering.)</font>"
   ]
  },
  {
   "cell_type": "markdown",
   "metadata": {},
   "source": [
    "<font size=\"+1\" color=\"red\">Replace this cell with code to test your function with three different test cases. Each test case is a list of items and a list of 1, 2, or 3 departments.</font>"
   ]
  },
  {
   "cell_type": "code",
   "execution_count": 7,
   "metadata": {},
   "outputs": [
    {
     "name": "stdout",
     "output_type": "stream",
     "text": [
      "Test case with product ids:  [22, 26, 45, 54, 57, 71, 111, 112]  and departments:  [3, 17] \n",
      " [57, 71, 111] \n",
      "\n",
      "Test case with product ids:  [12, 32, 45, 63, 71, 77, 85, 90, 110]  and departments:  [4, 5, 7] \n",
      " [45] \n",
      "\n",
      "Test case with product ids:  [8, 14, 23, 26, 33, 38, 46, 50, 55, 63, 73, 87, 92, 104]  and departments:  [11, 18, 6] \n",
      " [55, 63] \n",
      "\n"
     ]
    }
   ],
   "source": [
    "id_products_test1 = [22, 26, 45, 54, 57, 71, 111, 112]\n",
    "id_products_test2 = [12, 32, 45, 63, 71, 77, 85, 90, 110]\n",
    "id_products_test3 = [8, 14, 23, 26, 33, 38, 46, 50, 55, 63, 73, 87, 92, 104]\n",
    "\n",
    "list_dept_test1 = [DEPT_BAKERY, DEPT_CLEANING]\n",
    "list_dept_test2 = [DEPT_VEGGIES, DEPT_ALCOHOL, DEPT_DRINKS]\n",
    "list_dept_test3 = [DEPT_PHARMACY, DEPT_BABIES, DEPT_WORLD]\n",
    "\n",
    "def print_test_selected_products(products, id_products, list_dept):\n",
    "    product_df = pd.DataFrame(products, index = id_products)\n",
    "    selected_products = select_from_departments(product_df, id_products, list_dept)\n",
    "    print(\"Test case with product ids: \",id_products,\" and departments: \",list_dept,\"\\n\",selected_products,\"\\n\")\n",
    "\n",
    "print_test_selected_products(products, id_products_test1, list_dept_test1)\n",
    "print_test_selected_products(products, id_products_test2, list_dept_test2)\n",
    "print_test_selected_products(products, id_products_test3, list_dept_test3)"
   ]
  },
  {
   "cell_type": "markdown",
   "metadata": {},
   "source": [
    "## 2.2. Read and filter transactions"
   ]
  },
  {
   "cell_type": "markdown",
   "metadata": {},
   "source": [
    "The transactions file is a compressed file containing one row per transaction. Each transaction is a comma-separated list of *product_id*. The following skeleton iterates through this file:\n",
    "\n",
    "```python\n",
    "# Open a compressed file\n",
    "with gzip.open(INPUT_TRANSACTIONS, \"rt\") as inputfile:\n",
    "    \n",
    "    # Create a CSV reader\n",
    "    reader = csv.reader(inputfile, delimiter=\",\")\n",
    "    \n",
    "    # Iterate through the CSV file\n",
    "    for row in reader:\n",
    "        \n",
    "        # Convert to integers\n",
    "        items = [int(x) for x in row]\n",
    "```\n",
    "\n",
    "Read the transactions, filtering the items so they belong to the DEPT_CLEANING department. Stop reading (`break`) after you have stored 5000 transactions into an array named `transactions`. Every 1000 transactions read, print the number of transactions read and the number of transactions stored.\n",
    "\n",
    "<font size=\"-1\" color=\"gray\">(Remove this cell when delivering.)</font>"
   ]
  },
  {
   "cell_type": "markdown",
   "metadata": {},
   "source": [
    "<font size=\"+1\" color=\"red\">Replace this cell with your code to read transactions, keeping only items in DEPT_CLEANING. Remember to stop after keeping 5000 transactions.</font>"
   ]
  },
  {
   "cell_type": "code",
   "execution_count": 15,
   "metadata": {
    "scrolled": true
   },
   "outputs": [
    {
     "name": "stdout",
     "output_type": "stream",
     "text": [
      "Transactions Read: 1000, Transactions Stored: 158\n",
      "Transactions Read: 2000, Transactions Stored: 311\n",
      "Transactions Read: 3000, Transactions Stored: 460\n",
      "Transactions Read: 4000, Transactions Stored: 598\n",
      "Transactions Read: 5000, Transactions Stored: 745\n",
      "Transactions Read: 6000, Transactions Stored: 902\n",
      "Transactions Read: 7000, Transactions Stored: 1067\n",
      "Transactions Read: 8000, Transactions Stored: 1206\n",
      "Transactions Read: 9000, Transactions Stored: 1373\n",
      "Transactions Read: 10000, Transactions Stored: 1515\n",
      "Transactions Read: 11000, Transactions Stored: 1670\n",
      "Transactions Read: 12000, Transactions Stored: 1807\n",
      "Transactions Read: 13000, Transactions Stored: 1951\n",
      "Transactions Read: 14000, Transactions Stored: 2102\n",
      "Transactions Read: 15000, Transactions Stored: 2245\n",
      "Transactions Read: 16000, Transactions Stored: 2384\n",
      "Transactions Read: 17000, Transactions Stored: 2543\n",
      "Transactions Read: 18000, Transactions Stored: 2692\n",
      "Transactions Read: 19000, Transactions Stored: 2840\n",
      "Transactions Read: 20000, Transactions Stored: 2974\n",
      "Transactions Read: 21000, Transactions Stored: 3125\n",
      "Transactions Read: 22000, Transactions Stored: 3267\n",
      "Transactions Read: 23000, Transactions Stored: 3407\n",
      "Transactions Read: 24000, Transactions Stored: 3578\n",
      "Transactions Read: 25000, Transactions Stored: 3748\n",
      "Transactions Read: 26000, Transactions Stored: 3891\n",
      "Transactions Read: 27000, Transactions Stored: 4028\n",
      "Transactions Read: 28000, Transactions Stored: 4164\n",
      "Transactions Read: 29000, Transactions Stored: 4304\n",
      "Transactions Read: 30000, Transactions Stored: 4421\n",
      "Transactions Read: 31000, Transactions Stored: 4560\n",
      "Transactions Read: 32000, Transactions Stored: 4700\n",
      "Transactions Read: 33000, Transactions Stored: 4837\n",
      "Transactions Read: 34000, Transactions Stored: 4974\n",
      "Finished reading and storing transactions.\n"
     ]
    }
   ],
   "source": [
    "transactions_read = 0\n",
    "transactions_stored = 0\n",
    "transactions=[]\n",
    "# Open a compressed file\n",
    "with gzip.open(INPUT_TRANSACTIONS, \"rt\") as inputfile:\n",
    "\n",
    "    # Create a CSV reader\n",
    "    reader = csv.reader(inputfile, delimiter=\",\")\n",
    "\n",
    "    # Iterate through the CSV file\n",
    "    for row in reader:\n",
    "\n",
    "        # Convert to integers\n",
    "        items = [int(x) for x in row]\n",
    "        selected_items = select_from_departments(products, items, [DEPT_CLEANING]) #Select products_id in items that are in DEPT_CLEANING\n",
    "        if selected_items: #if it is not empty\n",
    "            transactions.append(items)\n",
    "            transactions_stored += 1\n",
    "\n",
    "        transactions_read += 1\n",
    "\n",
    "        if transactions_stored >= 5000:#Check if we've stored 5000 transactions\n",
    "            break\n",
    "\n",
    "        if transactions_read % 1000 == 0:#Print progress every 1000 transactions\n",
    "            print(f\"Transactions Read: {transactions_read}, Transactions Stored: {transactions_stored}\")\n",
    "\n",
    "print(\"Finished reading and storing transactions.\")"
   ]
  },
  {
   "cell_type": "markdown",
   "metadata": {},
   "source": [
    "## 2.3. Extract association rules and comment on them (DEPT_CLEANING)"
   ]
  },
  {
   "cell_type": "markdown",
   "metadata": {},
   "source": [
    "You are now ready to run the association rules mining algorithm over the selected transactions:\n",
    "\n",
    "```python\n",
    "results = list(apriori(transactions, min_support=..., min_confidence=..., min_lift=...))\n",
    "print_apyori_output(results, products, 'product_name')\n",
    "```\n",
    "\n",
    "*Tip:* if you set `min_support` to a very small value, your notebook will probably hang.\n",
    "\n",
    "<font size=\"-1\" color=\"gray\">(Remove this cell when delivering.)</font>"
   ]
  },
  {
   "cell_type": "markdown",
   "metadata": {},
   "source": [
    "<font size=\"+1\" color=\"red\">Replace this cell with your code to extract association rules from the read transactions (DEPT_CLEANING).</font>"
   ]
  },
  {
   "cell_type": "code",
   "execution_count": 30,
   "metadata": {},
   "outputs": [
    {
     "name": "stdout",
     "output_type": "stream",
     "text": [
      "Rules involving itemset [19604, 16797]\n",
      "['Medium Scarlet Raspberries'] => ['Strawberries'] (support=0.0030, confidence=0.56, lift=12.35)\n",
      "\n",
      "Rules involving itemset [13176, 5876, 27966]\n",
      "['Organic Lemon', 'Organic Raspberries'] => ['Bag of Organic Bananas'] (support=0.0030, confidence=0.71, lift=6.24)\n",
      "\n",
      "Rules involving itemset [13176, 47209, 8021]\n",
      "['Organic Hass Avocado', '100% Recycled Paper Towels'] => ['Bag of Organic Bananas'] (support=0.0042, confidence=0.52, lift=4.59)\n",
      "\n",
      "Rules involving itemset [13176, 21137, 27966]\n",
      "['Organic Strawberries', 'Organic Raspberries'] => ['Bag of Organic Bananas'] (support=0.0058, confidence=0.60, lift=5.28)\n",
      "\n",
      "Rules involving itemset [13176, 21137, 39275]\n",
      "['Organic Strawberries', 'Organic Blueberries'] => ['Bag of Organic Bananas'] (support=0.0030, confidence=0.50, lift=4.37)\n",
      "\n",
      "Rules involving itemset [13176, 39275, 27966]\n",
      "['Organic Blueberries', 'Organic Raspberries'] => ['Bag of Organic Bananas'] (support=0.0030, confidence=0.63, lift=5.46)\n",
      "\n",
      "Rules involving itemset [13176, 47209, 27966]\n",
      "['Organic Hass Avocado', 'Organic Raspberries'] => ['Bag of Organic Bananas'] (support=0.0064, confidence=0.60, lift=5.28)\n",
      "\n",
      "Rules involving itemset [13176, 47209, 30391]\n",
      "['Organic Hass Avocado', 'Organic Cucumber'] => ['Bag of Organic Bananas'] (support=0.0036, confidence=0.58, lift=5.08)\n",
      "\n"
     ]
    }
   ],
   "source": [
    "results = list(apriori(transactions, min_support=0.003, min_confidence=0.5, min_lift=1.0))\n",
    "print_apyori_output(results, products, 'product_name')"
   ]
  },
  {
   "cell_type": "markdown",
   "metadata": {},
   "source": [
    "<font size=\"+1\" color=\"red\">Replace this cell with a brief commentary on what you would recommend to the shopping app considering the extracted association rules.</font>"
   ]
  },
  {
   "cell_type": "markdown",
   "metadata": {},
   "source": [
    "I would recommend to the shopping app to offer bundle deals or discounts for items that appear together in these association rules. For instance, the rule ['Organic Lemon', 'Organic Raspberries'] => ['Bag of Organic Bananas'] suggests that customers who buy Organic Lemon and Organic Raspberries often also purchase Bag of Organic Bananas. The app can offer a discount when these three items are bought together for example.\n",
    "\n",
    "Another recomendation would be that because of the fact that certain items are frequently bought together, the app should promote the related categories as well. For example, if 'Organic Strawberries,' 'Organic Raspberries,' and 'Bag of Organic Bananas' are frequently bought together, the app should suggest to the customer the \"Organic Fruits\" category."
   ]
  },
  {
   "cell_type": "markdown",
   "metadata": {},
   "source": [
    "## 2.4. Extract association rules and comment on them (other departments)"
   ]
  },
  {
   "cell_type": "markdown",
   "metadata": {},
   "source": [
    "<font size=\"+1\" color=\"red\">Replace this cell with code to select a different set of departments (at least two, not DEPT_CLEANING) and extract transactions again. Avoid replicating code when possible.</font>"
   ]
  },
  {
   "cell_type": "markdown",
   "metadata": {},
   "source": [
    "<font size=\"+1\" color=\"red\">Replace this cell with your commentary on the obtained rules.</font>"
   ]
  },
  {
   "cell_type": "markdown",
   "metadata": {},
   "source": [
    "# DELIVER (individually)\n",
    "\n",
    "Remember to read the section on \"delivering your code\" in the [course evaluation guidelines](https://github.com/chatox/data-mining-course/blob/master/upf/upf-evaluation.md).\n",
    "\n",
    "Deliver a zip file containing:\n",
    "\n",
    "* This notebook\n",
    "\n",
    "## Extra points available\n",
    "\n",
    "For more learning and extra points, write code to filter the obtained association rules so that you print only the ones involving products in different departments. To be precise, this means rules in which there is at least a product in the *consequence* that belongs to a department that none of the products in the *antecedent* belongs to. Experiment with different combinations of departments, and try to discover interesting groups of products in different departments that are related to each other.\n",
    "\n",
    "**Note:** if you go for the extra points, add ``<font size=\"+2\" color=\"blue\">Additional results: experiments on cross-department association rules</font>`` at the top of your notebook.\n",
    "\n",
    "<font size=\"-1\" color=\"gray\">(Remove this cell when delivering.)</font>"
   ]
  },
  {
   "cell_type": "markdown",
   "metadata": {},
   "source": [
    "<font size=\"+2\" color=\"#003300\">I hereby declare that, except for the code provided by the course instructors, all of my code, report, and figures were produced by myself.</font>"
   ]
  }
 ],
 "metadata": {
  "kernelspec": {
   "display_name": "Python 3 (ipykernel)",
   "language": "python",
   "name": "python3"
  },
  "language_info": {
   "codemirror_mode": {
    "name": "ipython",
    "version": 3
   },
   "file_extension": ".py",
   "mimetype": "text/x-python",
   "name": "python",
   "nbconvert_exporter": "python",
   "pygments_lexer": "ipython3",
   "version": "3.9.12"
  }
 },
 "nbformat": 4,
 "nbformat_minor": 2
}
