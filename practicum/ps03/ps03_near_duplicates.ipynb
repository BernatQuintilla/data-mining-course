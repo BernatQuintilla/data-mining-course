{
 "cells": [
  {
   "cell_type": "markdown",
   "metadata": {},
   "source": [
    "# Practice Session 03: Find near-duplicates using shingling"
   ]
  },
  {
   "cell_type": "markdown",
   "metadata": {},
   "source": [
    "In this session we will take a large corpus of tweets and detect near-duplicates on this corpus using a technique known as *shingling*.\n",
    "\n",
    "Two documents are considered near-duplicates if they share a large amount of ngrams. The *ngrams* of a phrase are overlapping sequences of words of length *n*. For instance, the phrase '*Never let them guess your next move.*' has the following 3-grams:\n",
    "\n",
    "* 'never let them'\n",
    "* 'let them guess'\n",
    "* 'them guess your'\n",
    "* 'guess your next'\n",
    "* 'your next move'\n",
    "\n",
    "To measure the similarity between two sets, we will use the [Jaccard index](https://en.wikipedia.org/wiki/Jaccard_index), which is the size of the intersection of the two sets divided by their union. This values goes between 0.0 (meaning the documents have no ngrams in common) to 1.0 (meaning the documents have the same ngrams).\n",
    "\n",
    "To speed up things, instead of comparing the set of shingles of two documents which can be large, we will derive a fixed-length *signature* or *sketch* for each document. This will be obtained by (1) applying a random permutation to the list of possible ngrams, and (2) pick the ngram that appears first in the permuted list. The Jaccard index between these signatures will be a good approximation of the Jaccard index between the original sets of ngrams. \n",
    "\n",
    "<font size=\"-1\" color=\"gray\">(Remove this cell when delivering.)</font>"
   ]
  },
  {
   "cell_type": "markdown",
   "metadata": {},
   "source": [
    "Author: <font color=\"blue\">Bernat Quintilla Castellón</font>\n",
    "\n",
    "E-mail: <font color=\"blue\">bernat.quintilla01@estudiant.upf.edu</font>\n",
    "\n",
    "Date: <font color=\"blue\">The current date here</font>"
   ]
  },
  {
   "cell_type": "markdown",
   "metadata": {},
   "source": [
    "# 0. Dataset\n",
    "\n",
    "The corpus you will use contains about 35,500 messages (\"tweets\") posted between March 13th, 2020, and March 14th, 2020, containing a hashtag or keyword related to COVID-19, and posted by a user declaring a location in Catalonia.\n",
    "\n",
    "The tweets are in a format known as [JSON](https://en.wikipedia.org/wiki/JSON#Example). Python's JSON library takes care of translating it into a dictionary.\n",
    "\n",
    "Then, the file is compressed using `gzip`, and can be compressed with the `gunzip` command, although we will read it in compressed form. The file is named `CovidLockdownCatalonia.json.gz`.\n",
    "\n",
    "<font size=\"-1\" color=\"gray\">(Remove this cell when delivering.)</font>"
   ]
  },
  {
   "cell_type": "code",
   "execution_count": 2,
   "metadata": {},
   "outputs": [],
   "source": [
    "import io\n",
    "import json\n",
    "import gzip\n",
    "import re\n",
    "import random\n",
    "import numpy as np\n",
    "import matplotlib.pyplot as plt\n",
    "from timeit import default_timer as timer\n",
    "import datetime"
   ]
  },
  {
   "cell_type": "code",
   "execution_count": 3,
   "metadata": {
    "scrolled": true
   },
   "outputs": [
    {
     "name": "stdout",
     "output_type": "stream",
     "text": [
      "Read 10000 documents\n"
     ]
    }
   ],
   "source": [
    "# Input file\n",
    "INPUT_FILENAME = \"CovidLockdownCatalonia.json.gz\"\n",
    "\n",
    "# Array for storing messages\n",
    "messages = []\n",
    "MAX_MESSAGES = 10000\n",
    "\n",
    "with gzip.open(INPUT_FILENAME, \"rt\", encoding=\"utf-8\") as input_file:\n",
    "    \n",
    "    messages_read = 0\n",
    "    for line in input_file:\n",
    "            \n",
    "        # Read message\n",
    "        tweet = json.loads(line)\n",
    "\n",
    "        # Keep only messages in Catalan\n",
    "        if tweet[\"lang\"] == \"ca\":\n",
    "            \n",
    "            messages_read += 1\n",
    "            \n",
    "            if messages_read <= MAX_MESSAGES:\n",
    "                author = tweet[\"user\"][\"screen_name\"]\n",
    "                message = tweet[\"full_text\"]\n",
    "                messages.append(message)\n",
    "\n",
    "print(\"Read %d documents\" % len(messages))"
   ]
  },
  {
   "cell_type": "markdown",
   "metadata": {},
   "source": [
    "# 1. Auxiliary functions"
   ]
  },
  {
   "cell_type": "markdown",
   "metadata": {},
   "source": [
    "Implement the Jaccard similarity between two lists: the size of the intersection of two sets, divided by the size of their union.\n",
    "\n",
    "You can use set operations: `set(l)` to convert a list `l` to a set, then `set1.union(set2)` and `set1.intersection(set2)` to compute union and intersection of sets `set1`, `set2`. Learn more in this [tutorial on set operations](https://learnpython.com/blog/python-set-operations/)\n",
    "\n",
    "<font size=\"-1\" color=\"gray\">(Remove this cell when delivering.)</font>"
   ]
  },
  {
   "cell_type": "markdown",
   "metadata": {},
   "source": [
    "<font size=\"+1\" color=\"red\">Replace this cell with your code for function \"jaccard_similarity\"</font>"
   ]
  },
  {
   "cell_type": "code",
   "execution_count": 4,
   "metadata": {},
   "outputs": [],
   "source": [
    "def jaccard_similarity(l1, l2):\n",
    "    set1 = set(l1)\n",
    "    set2 = set(l2)\n",
    "\n",
    "    size_intersec = len(set1.intersection(set2))\n",
    "    size_union = len(set1.union(set2))\n",
    "\n",
    "    if size_union == 0:\n",
    "        return 0.0  #creo el condicional per evitar divisió amb denominador=0\n",
    "    else:\n",
    "        return size_intersec/size_union"
   ]
  },
  {
   "cell_type": "markdown",
   "metadata": {},
   "source": [
    "Write code to test your function. Your tests cases should be:\n",
    "\n",
    "1. Two arrays for which the jaccard similarity is 0.6666...\n",
    "1. Two arrays for which the jaccard similarity is 0.75\n",
    "1. Two arrays for which the jaccard similarity is 1.0\n",
    "1. Two empty arrays should have jaccard similarity 0.0\n",
    "\n",
    "<font size=\"-1\" color=\"gray\">(Remove this cell when delivering.)</font>"
   ]
  },
  {
   "cell_type": "markdown",
   "metadata": {},
   "source": [
    "<font size=\"+1\" color=\"red\">Replace this cell with your code testing \"jaccard_similarity\"</font>"
   ]
  },
  {
   "cell_type": "code",
   "execution_count": 5,
   "metadata": {},
   "outputs": [
    {
     "name": "stdout",
     "output_type": "stream",
     "text": [
      "1st case Jaccard Similarity:  0.6666666666666666\n",
      "2nd case Jaccard Similarity:  0.75\n",
      "3rd case Jaccard Similarity:  1.0\n",
      "4th case Jaccard Similarity:  0.0\n"
     ]
    }
   ],
   "source": [
    "#1. \n",
    "case11 = [1, 2, 3, 4, 5]\n",
    "case12 = [1, 2, 3, 4, 6]\n",
    "case1_res = jaccard_similarity(case11, case12)\n",
    "print(\"1st case Jaccard Similarity: \",case1_res)\n",
    "\n",
    "#2. \n",
    "case21 = [1, 2, 3, 4]\n",
    "case22 = [1, 2, 3]\n",
    "case2_res = jaccard_similarity(case21, case22)\n",
    "print(\"2nd case Jaccard Similarity: \",case2_res)\n",
    "\n",
    "#3. \n",
    "case31 = [1, 2, 3]\n",
    "case32 = [1, 2, 3]\n",
    "case3_res = jaccard_similarity(case31, case32)\n",
    "print(\"3rd case Jaccard Similarity: \",case3_res)\n",
    "\n",
    "#4. \n",
    "case41 = []\n",
    "case42 = []\n",
    "case4_res = jaccard_similarity(case41, case42)\n",
    "print(\"4th case Jaccard Similarity: \",case4_res)"
   ]
  },
  {
   "cell_type": "markdown",
   "metadata": {},
   "source": [
    "Implement a function `clean` that cleans-up text according to this specification:\n",
    "\n",
    "1. Removing \"RT \" prefixes\n",
    "1. Converting to lowercase\n",
    "1. [Romanizing](https://en.wikipedia.org/wiki/Romanization) text, replacing \"Ñ\" by \"n\", \"ñ\" by \"n\", \"ó\" by \"o\", \"à\" by \"a\", \"l·l\" by \"ll\", and so on.\n",
    "1. Removing URLs, both \"http\" and \"https\" ones.\n",
    "1. Removing spaces at the beginning and spaces at the end with the `strip()` function.\n",
    "1. Removing anything that remains that is not a letter or digit\n",
    "1. Changing double spaces to single spaces.\n",
    "\n",
    "You can use `text.lower()` to convert to lowercase, and then `re.sub(...)` to replace parts of the text. See [Python regexps](https://docs.python.org/3/library/re.html).\n",
    "\n",
    "<font size=\"-1\" color=\"gray\">(Remove this cell when delivering.)</font>"
   ]
  },
  {
   "cell_type": "markdown",
   "metadata": {},
   "source": [
    "<font size=\"+1\" color=\"red\">Replace this cell with your code for function \"clean\"</font>"
   ]
  },
  {
   "cell_type": "code",
   "execution_count": 6,
   "metadata": {},
   "outputs": [],
   "source": [
    "def clean(text):\n",
    "    text = re.sub(\"RT \", \"\",text)\n",
    "\n",
    "    text = text.lower()\n",
    "\n",
    "    text = re.sub('ñ', 'n',text)\n",
    "    text = re.sub('à', 'a',text)\n",
    "    text = re.sub('á', 'a',text)\n",
    "    text = re.sub('è', 'e',text)\n",
    "    text = re.sub('é', 'e',text)\n",
    "    text = re.sub('í', 'i',text)\n",
    "    text = re.sub('ó', 'o',text)\n",
    "    text = re.sub('ò', 'o',text)\n",
    "    text = re.sub('ú', 'u',text)\n",
    "    text = re.sub('ü', 'u',text)\n",
    "    text = re.sub('l·l','ll',text)\n",
    "    \n",
    "    text = re.sub(r'http\\S+', '', text)\n",
    "    text = re.sub(r'https\\S+', '', text)\n",
    "\n",
    "    text = text.strip()\n",
    "    \n",
    "    text = re.sub(r'[^a-zA-Z0-9]', ' ', text)\n",
    "    \n",
    "    text = re.sub(r\"\\s+\",\" \", text)\n",
    "    return text"
   ]
  },
  {
   "cell_type": "markdown",
   "metadata": {},
   "source": [
    "Test your function by passing it five different texts including punctuation, non-Roman characters, URLs, etc. Make sure your test cases cover all the required aspects of the specification.\n",
    "\n",
    "<font size=\"-1\" color=\"gray\">(Remove this cell when delivering.)</font>"
   ]
  },
  {
   "cell_type": "markdown",
   "metadata": {},
   "source": [
    "<font size=\"+1\" color=\"red\">Replace this cell with your code testing function \"clean\"</font>"
   ]
  },
  {
   "cell_type": "code",
   "execution_count": 7,
   "metadata": {},
   "outputs": [
    {
     "name": "stdout",
     "output_type": "stream",
     "text": [
      "hello world  \n",
      "\n",
      "sally planned an annual celebration \n",
      "\n",
      "i like this websites  \n",
      "\n",
      "this text does not have special symbols  \n",
      "\n",
      "remove spaces test \n",
      "\n"
     ]
    }
   ],
   "source": [
    "test_texts = [\"RT Hello World!\"#RT Test\n",
    "             ,\"Sal·ly plàÑñed àn ànnuàl celebràtión\"#Romanizing Test\n",
    "             ,\"I like this websites: http://url1, https://url2\"#URL Test\n",
    "             ,\"This !@#$text does not have special (symbols¿¡?\"#Special Symbols Test\n",
    "             ,\" Remove  spaces  test \"]#Removing spaces at the beginning and end, and double spaces Test\n",
    "for test_text in test_texts:\n",
    "    clean_text = clean(test_text)\n",
    "    print(clean_text,\"\\n\")"
   ]
  },
  {
   "cell_type": "markdown",
   "metadata": {},
   "source": [
    "# 2. Implement an n-gram extractor"
   ]
  },
  {
   "cell_type": "markdown",
   "metadata": {},
   "source": [
    "Implement the function `ngrams(text,size)`, which should produce all sub-sequences of `size` words present in the text. Use the following skeleton:\n",
    "\n",
    "```python\n",
    "MIN_TOKEN_LENGTH = 3\n",
    "\n",
    "def ngrams(text, size):\n",
    "    tokens = clean(text).split()\n",
    "    ngrams = []\n",
    "    # your code here\n",
    "    return ngrams\n",
    "```\n",
    "\n",
    "Note that `ngrams` is a list, and each element of a list is a *string*.\n",
    "\n",
    "The only words you must consider in a ngram are words having at least `MIN_TOKEN_LENGTH` characters.\n",
    "\n",
    "You can use the [split](https://docs.python.org/2/library/string.html#string.split) and [join](https://docs.python.org/2/library/string.html#string.join) function of the split library. Remember that to extract elements *i* to *j* of array *a* you use `a[i:j]`.\n",
    "\n",
    "<font size=\"-1\" color=\"gray\">(Remove this cell when delivering.)</font>"
   ]
  },
  {
   "cell_type": "markdown",
   "metadata": {},
   "source": [
    "<font size=\"+1\" color=\"red\">Replace this cell with your code implementing function \"ngrams(text,size)\"</font>"
   ]
  },
  {
   "cell_type": "code",
   "execution_count": 8,
   "metadata": {},
   "outputs": [],
   "source": [
    "MIN_TOKEN_LENGTH = 3\n",
    "def ngrams(text, size, replacement=\"replacement_word\"):\n",
    "    tokens = clean(text).split()\n",
    "    filt_tokens = []\n",
    "    for token in tokens:\n",
    "        if len(token) >= MIN_TOKEN_LENGTH:\n",
    "            filt_tokens.append(token)\n",
    "    ngrams = []\n",
    "    for i in range(len(filt_tokens) - size+1):\n",
    "        ngrams.append(' '.join(filt_tokens[i:i+size]))\n",
    "        \n",
    "    return ngrams"
   ]
  },
  {
   "cell_type": "markdown",
   "metadata": {},
   "source": [
    "Test your function:\n",
    "\n",
    "```python\n",
    "print(messages[9780])\n",
    "print(ngrams(messages[9780], 3))\n",
    "```\n",
    "\n",
    "Should print:\n",
    "\n",
    "```\n",
    "RT @diariARA: Comerciants xinesos donen mascaretes i gel antisèptic a Badalona per lluitar contra el coronavirus https://t.co/ybYXFxphIu\n",
    "['diariara comerciants xinesos', 'comerciants xinesos donen', 'xinesos donen mascaretes', 'donen mascaretes gel', 'mascaretes gel antiseptic', 'gel antiseptic badalona', 'antiseptic badalona per', 'badalona per lluitar', 'per lluitar contra', 'lluitar contra coronavirus']\n",
    "```\n",
    "\n",
    "Remember that `ngrams` should return a list of string, not a list of lists, so carefully check that you are returning a list of strings and not a list of lists.\n",
    "\n",
    "<font size=\"-1\" color=\"gray\">(Remove this cell when delivering.)</font>"
   ]
  },
  {
   "cell_type": "markdown",
   "metadata": {},
   "source": [
    "<font size=\"+1\" color=\"red\">Replace this cell with your code testing function \"ngrams\"</font>"
   ]
  },
  {
   "cell_type": "code",
   "execution_count": 9,
   "metadata": {},
   "outputs": [
    {
     "name": "stdout",
     "output_type": "stream",
     "text": [
      "RT @diariARA: Comerciants xinesos donen mascaretes i gel antisèptic a Badalona per lluitar contra el coronavirus https://t.co/ybYXFxphIu\n",
      "['diariara comerciants xinesos', 'comerciants xinesos donen', 'xinesos donen mascaretes', 'donen mascaretes gel', 'mascaretes gel antiseptic', 'gel antiseptic badalona', 'antiseptic badalona per', 'badalona per lluitar', 'per lluitar contra', 'lluitar contra coronavirus']\n"
     ]
    }
   ],
   "source": [
    "print(messages[9780])\n",
    "print(ngrams(messages[9780], 3))"
   ]
  },
  {
   "cell_type": "markdown",
   "metadata": {},
   "source": [
    "# 3. Estimation for brute force method"
   ]
  },
  {
   "cell_type": "markdown",
   "metadata": {},
   "source": [
    "The following code, which you should leave as-is, computes the time it takes to compare all first *limit* messages against all first *limit* messages in the array.\n",
    "\n",
    "<font size=\"-1\" color=\"gray\">(Remove this cell when delivering.)</font>"
   ]
  },
  {
   "cell_type": "code",
   "execution_count": 10,
   "metadata": {},
   "outputs": [],
   "source": [
    "# LEAVE AS-IS\n",
    "\n",
    "def time_brute_force_similarities(messages, limit, ngram_size):\n",
    "    if limit > len(messages):\n",
    "        raise ValueError(\"Limit should be less than or equal than the number of messages\")\n",
    "        \n",
    "    # Start a timer\n",
    "    start = timer()\n",
    "\n",
    "    # Iterate through document identifiers\n",
    "    for docid1 in range(np.min([len(messages), limit])):\n",
    "\n",
    "        # Clean document 1 and extract ngrams\n",
    "        doc1 = clean(messages[docid1])\n",
    "        ngrams1 = ngrams(doc1, ngram_size)\n",
    "\n",
    "        # Iterate through document identifiers larger than doc2\n",
    "        for docid2 in range(docid1+1, np.min([len(messages), limit])):\n",
    "                         \n",
    "            # Clean document 2 and extract ngrams\n",
    "            doc2 = clean(messages[docid2])\n",
    "            ngrams2 = ngrams(doc2, ngram_size)\n",
    "\n",
    "            # Compute similarity\n",
    "            similarity = jaccard_similarity(ngrams1, ngrams2)\n",
    "\n",
    "    end = timer()\n",
    "    return(end - start)"
   ]
  },
  {
   "cell_type": "markdown",
   "metadata": {},
   "source": [
    "Use the function above to create a plot in which you have in the x axis the number of messages to check, and in the y axis the time it takes to check that many messages if we use ngrams of size 4. Try with x from *1* to *2001* in increments of *150* (use the [range](https://docs.python.org/3/library/functions.html#func-range) function).\n",
    "\n",
    "In this plot, remember to include labels in both axes.\n",
    "\n",
    "<font size=\"-1\" color=\"gray\">(Remove this cell when delivering.)</font>"
   ]
  },
  {
   "cell_type": "markdown",
   "metadata": {},
   "source": [
    "<font size=\"+1\" color=\"red\">Replace this cell with your code for generating the requested plot. Remember to label the x and y axis.</font>"
   ]
  },
  {
   "cell_type": "code",
   "execution_count": 92,
   "metadata": {},
   "outputs": [
    {
     "data": {
      "image/png": "[encoded data removed]",
      "text/plain": [
       "<Figure size 432x288 with 1 Axes>"
      ]
     },
     "metadata": {
      "needs_background": "light"
     },
     "output_type": "display_data"
    }
   ],
   "source": [
    "limits = list(range(1, 2001, 150))\n",
    "list_time = []\n",
    "\n",
    "for limit in limits:\n",
    "    time_takes = time_brute_force_similarities(messages, limit, 4)\n",
    "    list_time.append(time_takes)\n",
    "\n",
    "plt.plot(limits, list_time, marker='o')\n",
    "plt.title('Time vs Limit')\n",
    "plt.xlabel('Limit')\n",
    "plt.ylabel('Time')\n",
    "plt.show()"
   ]
  },
  {
   "cell_type": "markdown",
   "metadata": {},
   "source": [
    "<font size=\"+1\" color=\"red\">Replace this cell with (1) a brief commmentary about what you see in this plot, and (2) your estimate for how long it would take to run the brute force similarity computations for the entire input matrix. Express your estimation in hours, minutes, and seconds. Justify precisely your calculations.</font>"
   ]
  },
  {
   "cell_type": "markdown",
   "metadata": {},
   "source": [
    "!!!!!"
   ]
  },
  {
   "cell_type": "markdown",
   "metadata": {},
   "source": [
    "# 4. Computing the doc-ngram matrix"
   ]
  },
  {
   "cell_type": "markdown",
   "metadata": {},
   "source": [
    "Now we will compute a matrix in which every row is an ngram, and every column is a document.\n",
    "\n",
    "In real-world implementations, this is done by hashing the ngrams and then every row is an ngram *hash*; in this practice we will skip that step and work directly with one ngram per row, which is conceptually the same and easier to code.\n",
    "\n",
    "<font size=\"-1\" color=\"gray\">(Remove this cell when delivering.)</font>"
   ]
  },
  {
   "cell_type": "markdown",
   "metadata": {},
   "source": [
    "## 4.1 Create list of all ngrams"
   ]
  },
  {
   "cell_type": "markdown",
   "metadata": {},
   "source": [
    "Implement code to create:\n",
    "\n",
    "* the dictionary `ngram_to_index`, which should convert an ngram to an index (a row number),\n",
    "* the dictionary `index_to_ngram`, which should convert an index to an ngram, and\n",
    "* the variable `num_distinct_ngrams` which should contain the number of distinct ngrams.\n",
    "\n",
    "You can use the following template:\n",
    "\n",
    "```python\n",
    "NGRAM_SIZE = 4\n",
    "\n",
    "ngram_to_index = {}\n",
    "index_to_ngram = {}\n",
    "next_index = 0\n",
    "\n",
    "for message in messages:\n",
    "    all_ngrams = ngrams(message, NGRAM_SIZE)\n",
    "    for ngram in all_ngrams:\n",
    "        # YOUR CODE HERE\n",
    "            \n",
    "num_distinct_ngrams = next_index\n",
    "\n",
    "print(\"There are %d distinct ngrams in the %d documents\" % (num_distinct_ngrams, len(messages)))\n",
    "```\n",
    "\n",
    "Note that the total number of n-grams may vary depending on ho you `clean()` text. In this dataset it should be about 10 times the number of documents.\n",
    "\n",
    "<font size=\"-1\" color=\"gray\">(Remove this cell when delivering.)</font>"
   ]
  },
  {
   "cell_type": "markdown",
   "metadata": {},
   "source": [
    "<font size=\"+1\" color=\"red\">Replace this cell with your code for creating the ngram_to_index dictionary.</font>"
   ]
  },
  {
   "cell_type": "code",
   "execution_count": 11,
   "metadata": {},
   "outputs": [
    {
     "name": "stdout",
     "output_type": "stream",
     "text": [
      "There are 68836 distinct ngrams in the 10000 documents\n"
     ]
    }
   ],
   "source": [
    "NGRAM_SIZE = 3\n",
    "MIN_TOKEN_LENGTH=2\n",
    "\n",
    "ngram_to_index = {}\n",
    "index_to_ngram = {}\n",
    "next_index = 0\n",
    "\n",
    "for message in messages:\n",
    "    all_ngrams = ngrams(message, NGRAM_SIZE)\n",
    "    for ngram in all_ngrams:\n",
    "        if ngram not in ngram_to_index:\n",
    "            ngram_to_index[ngram] = next_index\n",
    "            index_to_ngram[next_index] = ngram\n",
    "            next_index += 1\n",
    "\n",
    "num_distinct_ngrams = next_index\n",
    "\n",
    "print(\"There are %d distinct ngrams in the %d documents\" % (num_distinct_ngrams, len(messages)))"
   ]
  },
  {
   "cell_type": "markdown",
   "metadata": {},
   "source": [
    "Test your function by printing the `ngram_to_index` of the strings `\"tancat escoles fins\"` and `\"garantir la seguretat\"`. The exact index varies,  depending on how you `clean()` text. Then, print the `index_to_ngram` of the returned index, and should give you the same string.\n",
    "\n",
    "<font size=\"-1\" color=\"gray\">(Remove this cell when delivering.)</font>"
   ]
  },
  {
   "cell_type": "markdown",
   "metadata": {},
   "source": [
    "<font size=\"+1\" color=\"red\">Replace this cell with your code for testing the ngram_to_index structure.</font>"
   ]
  },
  {
   "cell_type": "code",
   "execution_count": 13,
   "metadata": {},
   "outputs": [
    {
     "name": "stdout",
     "output_type": "stream",
     "text": [
      "ngram_to_index for 'tancat escoles fins': 977\n",
      "ngram_to_index for 'garantir la seguretat': 34\n",
      "index_to_ngram for '977': tancat escoles fins\n",
      "index_to_ngram for '34': garantir la seguretat\n"
     ]
    }
   ],
   "source": [
    "test_string1 = \"tancat escoles fins\"\n",
    "test_string2 = \"garantir la seguretat\"\n",
    "\n",
    "index1 = ngram_to_index[test_string1]\n",
    "index2 = ngram_to_index[test_string2]\n",
    "\n",
    "print(f\"ngram_to_index for '{test_string1}': {index1}\")\n",
    "print(f\"ngram_to_index for '{test_string2}': {index2}\")\n",
    "\n",
    "ngram1 = index_to_ngram[index1]\n",
    "ngram2 = index_to_ngram[index2]\n",
    "\n",
    "print(f\"index_to_ngram for '{index1}': {ngram1}\")\n",
    "print(f\"index_to_ngram for '{index2}': {ngram2}\")"
   ]
  },
  {
   "cell_type": "markdown",
   "metadata": {},
   "source": [
    "## 2.2 Create table ngrams x documents"
   ]
  },
  {
   "cell_type": "markdown",
   "metadata": {},
   "source": [
    "Now we will create a boolean matrix named `M_ngram_doc`, where each row should be an n-gram, and each column should be a document.\n",
    "\n",
    "There might be documents having less than *NGRAM_SIZE* words and thus containing no shingles. You can skip those documents above (when reading the file), or handle them here.\n",
    "\n",
    "The next code creates an empty matrix. Leave as-is. If you run out of memory, limit the number of documents you read at the beginning of this file, for instance, read only the first 10,000 or the first 7,000 documents, and then try again.\n",
    "\n",
    "<font size=\"-1\" color=\"gray\">(Remove this cell when delivering.)</font>"
   ]
  },
  {
   "cell_type": "code",
   "execution_count": 14,
   "metadata": {},
   "outputs": [
    {
     "name": "stdout",
     "output_type": "stream",
     "text": [
      "Matrix dimensions: 68836 rows (distinct shingles) x 10000 columns (distinct documents)\n"
     ]
    }
   ],
   "source": [
    "# LEAVE AS-IS\n",
    "\n",
    "# Create dense matrix in which every cell contains the value \"False\"\n",
    "M_ngram_doc = np.full((num_distinct_ngrams, len(messages)), False)\n",
    "\n",
    "# Print the number of rows and columns of this matrix\n",
    "# numpy.matrix.shape is a tuple, shape[0] is the number of rows, shape[1] the number of columns\n",
    "print(\"Matrix dimensions: %d rows (distinct shingles) x %d columns (distinct documents)\" % M_ngram_doc.shape)"
   ]
  },
  {
   "cell_type": "markdown",
   "metadata": {},
   "source": [
    "Complete the matrix `M_ngram_doc` so that position i, j (row, column) holds a `True` if document j contains ngram i, otherwise holds `False`.\n",
    "\n",
    "You can use the following template:\n",
    "\n",
    "```python\n",
    "for docid in range(len(messages)):\n",
    "    message = messages[docid]\n",
    "    all_ngrams = ngrams(message, ngram_size)\n",
    "    for ngram in all_ngrams:\n",
    "        # replace this comment with your code\n",
    "```\n",
    "\n",
    "<font size=\"-1\" color=\"gray\">(Remove this cell when delivering.)</font>"
   ]
  },
  {
   "cell_type": "markdown",
   "metadata": {},
   "source": [
    "<font size=\"+1\" color=\"red\">Replace this cell with your code for filling the M_ngram_doc matrix.</font>"
   ]
  },
  {
   "cell_type": "code",
   "execution_count": 16,
   "metadata": {},
   "outputs": [],
   "source": [
    "for docid in range(len(messages)):\n",
    "    message = messages[docid]\n",
    "    ngrams_message = ngrams(message, NGRAM_SIZE)\n",
    "    for ngram in ngrams_message:\n",
    "        ngram_index = ngram_to_index[ngram] \n",
    "        M_ngram_doc[ngram_id, docid] = True"
   ]
  },
  {
   "cell_type": "markdown",
   "metadata": {},
   "source": [
    "Measure the density of this matrix, as a percentage. This is the number of non-zeroes in the matrix as a percentage of the number of cells of the matrix.\n",
    "\n",
    "<font size=\"-1\" color=\"gray\">(Remove this cell when delivering.)</font>"
   ]
  },
  {
   "cell_type": "markdown",
   "metadata": {},
   "source": [
    "<font size=\"+1\" color=\"red\">Replace this cell with your code for printing the density of the M_ngram_doc matrix as a percentage.</font>"
   ]
  },
  {
   "cell_type": "code",
   "execution_count": 18,
   "metadata": {},
   "outputs": [
    {
     "name": "stdout",
     "output_type": "stream",
     "text": [
      "Matrix density:  0.023568626881283052\n"
     ]
    }
   ],
   "source": [
    "num_non_zeroes_mat = np.count_nonzero(M_ngram_doc)\n",
    "num_cells_mat = M_ngram_doc.size\n",
    "density_mat = (num_non_zeroes_mat / num_cells_mat) * 100\n",
    "\n",
    "print(\"Matrix density: \",density_mat)"
   ]
  },
  {
   "cell_type": "markdown",
   "metadata": {},
   "source": [
    "Print a couple of documents (columns). All columns should be very sparse, i.e., mostly zeroes. For instance, for docid 9602 you should print something like this:\n",
    "\n",
    "```\n",
    "Positions of non-zeros in column of docid 9602 of M_ngram_doc\n",
    "\n",
    "Clean message:\n",
    " emergenciescat que puc fer i que no faqs del coronavirus a 14 de mar si us plau demanem difusio\n",
    "\n",
    "Non-zeros in corresponding row:\n",
    " ['860 (emergenciescat que puc fer)', '861 (que puc fer que)', '31071 (puc fer que faqs)', '31072 (fer que faqs del)', '31073 (que faqs del coronavirus)', '31074 (faqs del coronavirus mar)', '31075 (del coronavirus mar plau)', '31076 (coronavirus mar plau demanem)', '31077 (mar plau demanem difusio)']\n",
    " ```\n",
    "\n",
    "Note that the specific ngram ids you will get depend on your cleanup process, and that the output is in ascending order of ngram number, not in the same ordering in which the ngrams appear in the message.\n",
    "\n",
    "<font size=\"-1\" color=\"gray\">(Remove this cell when delivering.)</font>"
   ]
  },
  {
   "cell_type": "markdown",
   "metadata": {},
   "source": [
    "<font size=\"+1\" color=\"red\">Replace this cell with your code for printing rows 9602 and 941 of the M_ngram_doc matrix.</font>"
   ]
  },
  {
   "cell_type": "code",
   "execution_count": 44,
   "metadata": {},
   "outputs": [
    {
     "name": "stdout",
     "output_type": "stream",
     "text": [
      "\u001b[4mPositions of non-zeros in column of docid  9602  of M_ngram_doc\u001b[0m\n",
      "\n",
      "Clean message for docid 9602 :\n",
      " emergenciescat que puc fer i que no faqs del coronavirus a 14 de mar si us plau demanem difusio \n",
      "\n",
      "Non-zeros in row  9602 :\n",
      "['948 (si us plau)', '1267 (emergenciescat que puc)', '1268 (que puc fer)', '1269 (puc fer que)', '1270 (fer que no)', '2658 (14 de mar)', '40222 (que no faqs)', '40223 (no faqs del)', '40224 (faqs del coronavirus)', '40225 (del coronavirus 14)', '40226 (coronavirus 14 de)', '40227 (de mar si)', '40228 (mar si us)', '40229 (us plau demanem)', '40230 (plau demanem difusio)']\n",
      "\n",
      "\u001b[4mPositions of non-zeros in column of docid  941  of M_ngram_doc\u001b[0m\n",
      "\n",
      "Clean message for docid 941 :\n",
      " hospiolot usem de forma responsable els recursos sanitaris 061 urgencies per coronavirus i sanitaries 012 consultes general \n",
      "\n",
      "Non-zeros in row  941 :\n",
      "['1530 (usem de forma)', '1531 (de forma responsable)', '1532 (forma responsable els)', '1533 (responsable els recursos)', '1534 (els recursos sanitaris)', '1535 (recursos sanitaris 061)', '1536 (sanitaris 061 urgencies)', '1537 (061 urgencies per)', '1538 (urgencies per coronavirus)', '1539 (per coronavirus sanitaries)', '1540 (coronavirus sanitaries 012)', '1541 (sanitaries 012 consultes)', '10570 (hospiolot usem de)', '10571 (012 consultes general)']\n"
     ]
    }
   ],
   "source": [
    "#9602\n",
    "docid1 = 9602\n",
    "print(\"\\033[4mPositions of non-zeros in column of docid \",docid1,\" of M_ngram_doc\\033[0m\\n\") #How to underline searched in the internet\n",
    "print(\"Clean message for docid\", docid1,\":\")\n",
    "print(clean(messages[docid1]))\n",
    "print(\"\\nNon-zeros in row \",docid1,\":\")\n",
    "non_zero_docid1_row = np.nonzero(M_ngram_doc[:, docid1])[0]\n",
    "print([f\"{pos} ({index_to_ngram[pos]})\" for pos in non_zero_docid1_row])\n",
    "\n",
    "#941\n",
    "docid2 = 941\n",
    "print(\"\\n\\033[4mPositions of non-zeros in column of docid \",docid2,\" of M_ngram_doc\\033[0m\\n\")\n",
    "print(\"Clean message for docid\", docid2,\":\")\n",
    "print(clean(messages[docid2]))\n",
    "print(\"\\nNon-zeros in row \",docid2,\":\")\n",
    "non_zero_docid2_row = np.nonzero(M_ngram_doc[:, docid2])[0]\n",
    "print([f\"{pos} ({index_to_ngram[pos]})\" for pos in non_zero_docid2_row])"
   ]
  },
  {
   "cell_type": "markdown",
   "metadata": {},
   "source": [
    "# 3. Implement a permutation generator"
   ]
  },
  {
   "cell_type": "markdown",
   "metadata": {},
   "source": [
    "Implement the function `random_permutation(k)`, which should generate a random permutation of the array `[0, 2, 3, ..., k-1]`. Tip: the function [random.shuffle](https://docs.python.org/3/library/random.html#random.shuffle) might be useful. If you want to use `range(...)`, which returns an iterator, you will need to convert the iterator to a list by using `list(range(...))`.\n",
    "\n",
    "Remember to test your code. For instance, a permutation of 20 elements should look like this:\n",
    "\n",
    "```\n",
    "[14, 10, 0, 8, 4, 12, 5, 19, 6, 9, 15, 13, 16, 2, 17, 11, 7, 3, 18, 1]\n",
    "```\n",
    "\n",
    "Every number appears only once, and all numbers from 0 to 19 appear in the permutation.\n",
    "\n",
    "<font size=\"-1\" color=\"gray\">(Remove this cell when delivering.)</font>"
   ]
  },
  {
   "cell_type": "markdown",
   "metadata": {},
   "source": [
    "<font size=\"+1\" color=\"red\">Replace this cell with your code for \"random_permutation\"</font>"
   ]
  },
  {
   "cell_type": "code",
   "execution_count": 45,
   "metadata": {},
   "outputs": [],
   "source": [
    "def random_permutation(k):\n",
    "    list_to_shuffle = list(range(k))\n",
    "    random.shuffle(list_to_shuffle)\n",
    "    return list_to_shuffle"
   ]
  },
  {
   "cell_type": "markdown",
   "metadata": {},
   "source": [
    "Further test this by applying the same permutation on two lists. The code below, which you must leave as-is,  should print both lists in the same ordering, so that *alpha* is in the same position of *a*, *beta* in the same position as *b*, and so on.\n",
    "\n",
    "<font size=\"-1\" color=\"gray\">(Remove this cell when delivering.)</font>"
   ]
  },
  {
   "cell_type": "code",
   "execution_count": 47,
   "metadata": {},
   "outputs": [
    {
     "name": "stdout",
     "output_type": "stream",
     "text": [
      "Test one permutation:\n",
      "['3 (test3)', '2 (test2)', '1 (test1)', '5 (test5)', '4 (test4)']\n",
      "['3 (beta)', '2 (gamma)', '1 (alpha)', '5 (epsilon)', '4 (delta)']\n",
      "\n",
      "Test another permutation\n",
      "['1 (test1)', '2 (test2)', '3 (test3)', '4 (test4)', '5 (test5)']\n",
      "['1 (alpha)', '2 (gamma)', '3 (beta)', '4 (delta)', '5 (epsilon)']\n"
     ]
    }
   ],
   "source": [
    "# LEAVE AS-IS\n",
    "\n",
    "# Permute a list according to a permutation\n",
    "def permuter(original_list, permutation):\n",
    "    permuted_list = []\n",
    "    for index in permutation:\n",
    "        permuted_list.append(original_list[index])\n",
    "    return permuted_list\n",
    "\n",
    "# Code for testing permutations\n",
    "original_list_1 = [\"1 (test1)\", \"2 (test2)\", \"3 (test3)\", \"4 (test4)\", \"5 (test5)\"]\n",
    "original_list_2 = [\"1 (alpha)\", \"2 (gamma)\", \"3 (beta)\", \"4 (delta)\", \"5 (epsilon)\"]\n",
    "\n",
    "print(\"Test one permutation:\")\n",
    "permutation_1 = random_permutation(5)\n",
    "print(permuter(original_list_1, permutation_1))\n",
    "print(permuter(original_list_2, permutation_1))\n",
    "\n",
    "print()\n",
    "\n",
    "print(\"Test another permutation\")\n",
    "permutation_2 = random_permutation(5)\n",
    "print(permuter(original_list_1, permutation_2))\n",
    "print(permuter(original_list_2, permutation_2))"
   ]
  },
  {
   "cell_type": "markdown",
   "metadata": {},
   "source": [
    "# 4. Compute the signature of each document"
   ]
  },
  {
   "cell_type": "markdown",
   "metadata": {},
   "source": [
    "Now comes the core of the algorithm. We will create a new matrix `M_signature_doc` having a small number of rows (the *signature size*), which will be equivalent to the number of permutations we use. The number of columns will continue being the number of documents.\n",
    "\n",
    "First, we create the permutations and store them in an array of arrays named `permutations`, with the following code, which you should leave as-is.\n",
    "\n",
    "<font size=\"-1\" color=\"gray\">(Remove this cell when delivering.)</font>"
   ]
  },
  {
   "cell_type": "code",
   "execution_count": 50,
   "metadata": {},
   "outputs": [
    {
     "name": "stdout",
     "output_type": "stream",
     "text": [
      "Permutation 0: 7519, 46799, 11497, ...\n",
      "Permutation 1: 66473, 38107, 42781, ...\n",
      "Permutation 2: 6099, 3302, 56262, ...\n",
      "Permutation 3: 22137, 32930, 46607, ...\n",
      "Permutation 4: 33751, 51002, 2454, ...\n"
     ]
    }
   ],
   "source": [
    "# Leave this code as-is\n",
    "\n",
    "NUM_PERMUTATIONS = 5\n",
    "\n",
    "permutations = []\n",
    "\n",
    "# Create the permutations\n",
    "for i in range(NUM_PERMUTATIONS):\n",
    "    permutation = random_permutation(num_distinct_ngrams)\n",
    "    permutations.append(random_permutation(num_distinct_ngrams))\n",
    "    \n",
    "# Visualize the permutations by printing their first 3 elements\n",
    "for i in range(len(permutations)):\n",
    "    permutation = permutations[i]\n",
    "    print(\"Permutation %d: %d, %d, %d, ...\" % (i, permutation[0], permutation[1], permutation[2] ))"
   ]
  },
  {
   "cell_type": "markdown",
   "metadata": {},
   "source": [
    "Now, you implement the signature construction. The matrix `M_signature_doc` should contain in row *i*, column *j*, the first ngram (the \"minimum\" one) that is present in a column (document), according to the order given by a permutation.\n",
    "\n",
    "This process may take a few minutes to be completed. You can use the following template:\n",
    "\n",
    "```python\n",
    "M_signature_doc = np.full((NUM_PERMUTATIONS, len(messages)), np.nan)\n",
    "\n",
    "# Find the first ngram in a document, according to a permutation\n",
    "def find_first_one(docid, permutation):\n",
    "    for shingle_id in permutation:\n",
    "        if M_ngram_doc[shingle_id, docid] == True:\n",
    "            return shingle_id\n",
    "    return -1\n",
    "\n",
    "# Create permutations\n",
    "for permutation_num in range(NUM_PERMUTATIONS):\n",
    "    print(\"Creating signatures for permutation %d/%d\" % (permutation_num+1, NUM_PERMUTATIONS))\n",
    "    permutation = permutations[permutation_num]\n",
    "    for docid in range(len(messages)):\n",
    "        if docid % 1000 == 0:\n",
    "            print(\"- Scanning document %d of %d\" % (docid, len(messages)))\n",
    "        # replace this comment with your code\n",
    "```\n",
    "\n",
    "<font size=\"-1\" color=\"gray\">(Remove this cell when delivering.)</font>"
   ]
  },
  {
   "cell_type": "markdown",
   "metadata": {},
   "source": [
    "<font size=\"+1\" color=\"red\">Replace this cell with your code for creating M_signature_doc</font>"
   ]
  },
  {
   "cell_type": "code",
   "execution_count": 52,
   "metadata": {},
   "outputs": [
    {
     "name": "stdout",
     "output_type": "stream",
     "text": [
      "Creating signatures for permutation 1/5\n",
      "- Scanning document 0 of 10000\n",
      "- Scanning document 1000 of 10000\n",
      "- Scanning document 2000 of 10000\n",
      "- Scanning document 3000 of 10000\n",
      "- Scanning document 4000 of 10000\n",
      "- Scanning document 5000 of 10000\n",
      "- Scanning document 6000 of 10000\n",
      "- Scanning document 7000 of 10000\n",
      "- Scanning document 8000 of 10000\n",
      "- Scanning document 9000 of 10000\n",
      "Creating signatures for permutation 2/5\n",
      "- Scanning document 0 of 10000\n",
      "- Scanning document 1000 of 10000\n",
      "- Scanning document 2000 of 10000\n",
      "- Scanning document 3000 of 10000\n",
      "- Scanning document 4000 of 10000\n",
      "- Scanning document 5000 of 10000\n",
      "- Scanning document 6000 of 10000\n",
      "- Scanning document 7000 of 10000\n",
      "- Scanning document 8000 of 10000\n",
      "- Scanning document 9000 of 10000\n",
      "Creating signatures for permutation 3/5\n",
      "- Scanning document 0 of 10000\n",
      "- Scanning document 1000 of 10000\n",
      "- Scanning document 2000 of 10000\n",
      "- Scanning document 3000 of 10000\n",
      "- Scanning document 4000 of 10000\n",
      "- Scanning document 5000 of 10000\n",
      "- Scanning document 6000 of 10000\n",
      "- Scanning document 7000 of 10000\n",
      "- Scanning document 8000 of 10000\n",
      "- Scanning document 9000 of 10000\n",
      "Creating signatures for permutation 4/5\n",
      "- Scanning document 0 of 10000\n",
      "- Scanning document 1000 of 10000\n",
      "- Scanning document 2000 of 10000\n",
      "- Scanning document 3000 of 10000\n",
      "- Scanning document 4000 of 10000\n",
      "- Scanning document 5000 of 10000\n",
      "- Scanning document 6000 of 10000\n",
      "- Scanning document 7000 of 10000\n",
      "- Scanning document 8000 of 10000\n",
      "- Scanning document 9000 of 10000\n",
      "Creating signatures for permutation 5/5\n",
      "- Scanning document 0 of 10000\n",
      "- Scanning document 1000 of 10000\n",
      "- Scanning document 2000 of 10000\n",
      "- Scanning document 3000 of 10000\n",
      "- Scanning document 4000 of 10000\n",
      "- Scanning document 5000 of 10000\n",
      "- Scanning document 6000 of 10000\n",
      "- Scanning document 7000 of 10000\n",
      "- Scanning document 8000 of 10000\n",
      "- Scanning document 9000 of 10000\n"
     ]
    }
   ],
   "source": [
    "M_signature_doc = np.full((NUM_PERMUTATIONS, len(messages)), np.nan)\n",
    "\n",
    "def find_first_one(docid, permutation):\n",
    "    for shingle_id in permutation:\n",
    "        if M_ngram_doc[shingle_id, docid] == True:\n",
    "            return shingle_id\n",
    "    return -1\n",
    "\n",
    "# Create permutations\n",
    "for permutation_num in range(NUM_PERMUTATIONS):\n",
    "    print(\"Creating signatures for permutation %d/%d\" % (permutation_num+1, NUM_PERMUTATIONS))\n",
    "    permutation = permutations[permutation_num]\n",
    "    for docid in range(len(messages)):\n",
    "        if docid % 1000 == 0:\n",
    "            print(\"- Scanning document %d of %d\" % (docid, len(messages)))\n",
    "        \n",
    "        first_ngram = find_first_one(docid, permutation)\n",
    "        \n",
    "        M_signature_doc[permutation_num, docid] = first_ngram"
   ]
  },
  {
   "cell_type": "markdown",
   "metadata": {},
   "source": [
    "Test your code by checking the signatures of two documents that are near-duplicates,using the next code, which you should leave as-is. Being near-duplicates, we expect these should have many ngrams in common, and hence, with high probability they will have many elements in common in their signatures.\n",
    "\n",
    "Note that your ngrams and signatures vectors might be different than what we show here, given the differences in cleaning procedures and the randomness of the permutations.\n",
    "\n",
    "<font size=\"-1\" color=\"gray\">(Remove this cell when delivering.)</font>"
   ]
  },
  {
   "cell_type": "code",
   "execution_count": 53,
   "metadata": {
    "scrolled": true
   },
   "outputs": [
    {
     "name": "stdout",
     "output_type": "stream",
     "text": [
      "Document #385\n",
      "Message       : RT @gencat: 🔴 El @govern de la @gencat anuncia el #confinament de tot Catalunya.\n",
      "\n",
      "Davant l’emergència de la #COVID19, el missatge és clau:…\n",
      "Clean message :  gencat el govern de la gencat anuncia el confinament de tot catalunya davant l emergencia de la covid19 el missatge es clau \n",
      "Ngrams        : [62, 3437, 3564, 4227, 5043, 5044, 5045, 5046, 5047, 5048, 5049, 5050, 5051, 5052, 5053, 5054, 5055, 5056, 5057]\n",
      "Signature     : [5055.0, 5056.0, 3437.0, 5052.0, 5053.0]\n",
      "\n",
      "Document #627\n",
      "Message       : PROCICAT_CORONAVIRUS. El @govern de la @gencat anuncia el #confinament de tot Catalunya. Davant l’emergència de la #COVID19, el missatge és clau: limitar la mobilitat ajudarà a evitar la propagació del #coronavirus. Evitem desplaçaments i reduïm la vida social #JoEmQuedoACasa\n",
      "Clean message : procicat coronavirus el govern de la gencat anuncia el confinament de tot catalunya davant l emergencia de la covid19 el missatge es clau limitar la mobilitat ajudara a evitar la propagacio del coronavirus evitem despla aments i redu m la vida social joemquedoacasa\n",
      "Ngrams        : [62, 245, 246, 333, 1605, 1606, 1607, 1608, 3437, 3564, 4227, 5044, 5045, 5046, 5047, 5048, 5049, 5050, 5051, 5052, 5053, 5054, 5055, 5056, 5057, 7452, 7453, 7454, 7455, 7456, 7457, 7458, 7459, 7460, 7461, 7462, 7463]\n",
      "Signature     : [5055.0, 245.0, 3437.0, 1607.0, 5053.0]\n"
     ]
    }
   ],
   "source": [
    "# Leave this code as-is\n",
    "\n",
    "def extract_ngrams(docid):\n",
    "    return [x for x in range(num_distinct_ngrams) if M_ngram_doc[x, docid] == True]\n",
    "\n",
    "def extract_signature(docid):\n",
    "    return [M_signature_doc[x, docid] for x in range(NUM_PERMUTATIONS)]\n",
    "\n",
    "def print_sig(messages, M_ngram_doc, M_signature_doc, i):\n",
    "    print(\"Document #%d\" % i)\n",
    "    print(\"Message       : %s\" % messages[i])\n",
    "    print(\"Clean message : %s\" % clean(messages[i]))\n",
    "    print(\"Ngrams        : %s\" % extract_ngrams(i))\n",
    "    print(\"Signature     : %s\" % extract_signature(i))\n",
    "\n",
    "        \n",
    "i = 385\n",
    "j = 627\n",
    "\n",
    "print_sig(messages, M_ngram_doc, M_signature_doc, i )\n",
    "\n",
    "print()\n",
    "\n",
    "print_sig(messages, M_ngram_doc, M_signature_doc, j )"
   ]
  },
  {
   "cell_type": "markdown",
   "metadata": {},
   "source": [
    "# 5. Compare all pairs of signatures"
   ]
  },
  {
   "cell_type": "markdown",
   "metadata": {},
   "source": [
    "Now we are ready to compare all documents by their signatures, instead of by their content.\n",
    "\n",
    "We will consider that if two documents have *similarity == 1.0* they are a *full signature match*, and if two documents have *0.2 < similarity < 1.0* they are a *partial signature match*. In both cases, this may mean the documents are duplicates or near duplicates.\n",
    "\n",
    "Write code to compare all pairs of documents. Use the following template:\n",
    "\n",
    "```python\n",
    "is_possible_duplicate = {}\n",
    "\n",
    "# Iterate through all documents\n",
    "for docid1 in range(len(messages)):\n",
    "\n",
    "     # Do not examine again a document that is a possible duplicate\n",
    "    if docid not in is_possible_duplicate:\n",
    "\n",
    "        # Counters for full and partial signature matches\n",
    "        count_sig_full_matches = 0\n",
    "        count_sig_partial_matches = 0\n",
    "\n",
    "        # Extract the signature of the doc1\n",
    "        signature1 = extract_signature(docid1)\n",
    "        if docid1 % 500 == 0:\n",
    "            print(\"%d/%d documents scanned\" % (docid1, len(messages)))\n",
    "\n",
    "        # Iterate through documents with docid larger than doc1\n",
    "        for docid2 in range(docid1+1, len(messages)):\n",
    "\n",
    "            # If this has not already been marked as duplicate of another document\n",
    "            if docid2 not in is_possible_duplicate:\n",
    "\n",
    "                # Extract signature of doc2\n",
    "                signature2 = extract_signature(docid2)\n",
    "\n",
    "                # REPLACE THIS COMMENT WITH YOUR CODE:\n",
    "                # - Increase count_sig_full_matches and count_sig_partial_matches as needed\n",
    "                # - Include docid2 in is_possible_duplicate if needed\n",
    "\n",
    "        # REPLACE THIS COMMENT WITH YOUR CODE\n",
    "        # - If the number of partial matches plus full matches exceeds a threshold\n",
    "        #   print the document doc1 and indicate how many matches of each type it has\n",
    "```\n",
    "\n",
    "<font size=\"-1\" color=\"gray\">(Remove this cell when delivering.)</font>"
   ]
  },
  {
   "cell_type": "markdown",
   "metadata": {},
   "source": [
    "<font size=\"+1\" color=\"red\">Replace this cell with your code for comparing all signatures; print all documents that have at least 50 signature matches, considering both full matches and partial matches.</font>"
   ]
  },
  {
   "cell_type": "code",
   "execution_count": 61,
   "metadata": {},
   "outputs": [
    {
     "name": "stdout",
     "output_type": "stream",
     "text": [
      "0/10000 documents scanned\n",
      "\n",
      "Document 13 has 2 full matches and 112 partial matches.\n",
      "Las matemáticas ayudan mucho.\n",
      "Por favor, hagámosles  caso.\n",
      "\n",
      "Quin és el pitjor escenari de la propagació del coronavirus a Catalunya i a Espanya, segons els models matemàtics? https://t.co/rdlIY1sroj\n",
      "\n",
      "Document 16 has 57 full matches and 9 partial matches.\n",
      "RT @emergenciescat: ⚠️ Es demana a la ciutadania limitar al màxim i, si es pot, EVITAR DESPLAÇAMENTS de cap de setmana. Tot el que sigui ma…\n",
      "\n",
      "Document 20 has 7 full matches and 47 partial matches.\n",
      "RT @salutcat: Quines mesures de prevenció cal seguir per evitar la propagació del 🦠 #coronavirus SARS-CoV-2 👇\n",
      "\n",
      "🔗 https://t.co/NS41dWDi9O ht…\n",
      "500/10000 documents scanned\n",
      "1000/10000 documents scanned\n",
      "1500/10000 documents scanned\n",
      "2000/10000 documents scanned\n",
      "2500/10000 documents scanned\n"
     ]
    }
   ],
   "source": [
    "is_possible_duplicate = {}\n",
    "\n",
    "MATCH_THRESHOLD = 50\n",
    "\n",
    "# Iterate through all documents\n",
    "for docid1 in range(len(messages)):\n",
    "\n",
    "    # Do not examine again a document that is a possible duplicate\n",
    "    if docid1 not in is_possible_duplicate:\n",
    "\n",
    "        # Counters for full and partial signature matches\n",
    "        count_sig_full_matches = 0\n",
    "        count_sig_partial_matches = 0\n",
    "\n",
    "        # Extract the signature of the doc1\n",
    "        signature1 = extract_signature(docid1)\n",
    "        if docid1 % 500 == 0:\n",
    "            print(\"%d/%d documents scanned\" % (docid1, len(messages)))\n",
    "        # Iterate through documents with docid larger than doc1\n",
    "        for docid2 in range(docid1+1, len(messages)):\n",
    "\n",
    "            # If this has not already been marked as duplicate of another document\n",
    "            if docid2 not in is_possible_duplicate:\n",
    "\n",
    "                # Extract signature of doc2\n",
    "                signature2 = extract_signature(docid2)\n",
    "\n",
    "                # - Increase count_sig_full_matches and count_sig_partial_matches as needed\n",
    "                full_match = (signature1 == signature2)\n",
    "                partial_match = any(x == y for x, y in zip(signature1, signature2))\n",
    "\n",
    "                if full_match:\n",
    "                    count_sig_full_matches += 1\n",
    "                elif partial_match:\n",
    "                    count_sig_partial_matches += 1\n",
    "\n",
    "                # - Include docid2 in is_possible_duplicate if needed\n",
    "                if count_sig_full_matches + count_sig_partial_matches >= MATCH_THRESHOLD:\n",
    "                    is_possible_duplicate[docid1] = True\n",
    "                    is_possible_duplicate[docid2] = True\n",
    "\n",
    "        # - If the number of partial matches plus full matches exceeds a threshold\n",
    "        if count_sig_full_matches + count_sig_partial_matches >= MATCH_THRESHOLD:\n",
    "            #   print the document doc1 and indicate how many matches of each type it has\n",
    "            print(f\"\\nDocument {docid1} has {count_sig_full_matches} full matches and {count_sig_partial_matches} partial matches.\")\n",
    "            print(messages[docid1])"
   ]
  },
  {
   "cell_type": "markdown",
   "metadata": {},
   "source": [
    "<font size=\"+1\" color=\"red\">Replace this cell with a brief commentary, based on the results above, about one tweet that has a substantial number of complete matches, but few partial matches. Include the full text of the original tweet. Comment on why you believe this tweet is not being changed much when copied or re-tweeted.</font>"
   ]
  },
  {
   "cell_type": "markdown",
   "metadata": {},
   "source": [
    "<font size=\"+1\" color=\"red\">Replace this cell with a brief commentary, based on the results above, about one tweet that has a substantial number of partial matches, but fewer complete matches. Include the full text of the original tweet and one near duplicate (that cannot be identical to the original tweet).</font>"
   ]
  },
  {
   "cell_type": "markdown",
   "metadata": {},
   "source": [
    "# DELIVER (individually)\n",
    "\n",
    "Remember to read the section on \"delivering your code\" in the [course evaluation guidelines](https://github.com/chatox/data-mining-course/blob/master/upf/upf-evaluation.md).\n",
    "\n",
    "Deliver a zip file containing:\n",
    "\n",
    "* This notebook\n",
    "\n",
    "## Extra points available\n",
    "\n",
    "For more learning and extra points, compare what happens with 3 different ngram sizes (2-grams, 3-grams, 4-grams) in terms of the efficiency (speed) and effectiveness (accuracy). You can include plots for efficiency, and examples for effectiveness.\n",
    "\n",
    "**Note:** if you go for the extra points, add ``<font size=\"+2\" color=\"blue\">Additional results: various ngram sizes</font>`` at the top of your notebook.\n",
    "\n",
    "<font size=\"-1\" color=\"gray\">(Remove this cell when delivering.)</font>"
   ]
  },
  {
   "cell_type": "markdown",
   "metadata": {},
   "source": [
    "<font size=\"+2\" color=\"#003300\">I hereby declare that, except for the code provided by the course instructors, all of my code, report, and figures were produced by myself.</font>"
   ]
  }
 ],
 "metadata": {
  "kernelspec": {
   "display_name": "Python 3 (ipykernel)",
   "language": "python",
   "name": "python3"
  },
  "language_info": {
   "codemirror_mode": {
    "name": "ipython",
    "version": 3
   },
   "file_extension": ".py",
   "mimetype": "text/x-python",
   "name": "python",
   "nbconvert_exporter": "python",
   "pygments_lexer": "ipython3",
   "version": "3.9.12"
  }
 },
 "nbformat": 4,
 "nbformat_minor": 2
}
