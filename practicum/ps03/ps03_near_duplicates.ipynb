{
 "cells": [
  {
   "cell_type": "markdown",
   "metadata": {},
   "source": [
    "# Practice Session 03: Find near-duplicates using shingling"
   ]
  },
  {
   "cell_type": "markdown",
   "metadata": {},
   "source": [
    "Author: <font color=\"blue\">Bernat Quintilla Castellón</font>\n",
    "\n",
    "E-mail: <font color=\"blue\">bernat.quintilla01@estudiant.upf.edu</font>\n",
    "\n",
    "Date: <font color=\"blue\">20/10/2023</font>"
   ]
  },
  {
   "cell_type": "code",
   "execution_count": 1,
   "metadata": {},
   "outputs": [],
   "source": [
    "import io\n",
    "import json\n",
    "import gzip\n",
    "import re\n",
    "import random\n",
    "import numpy as np\n",
    "import matplotlib.pyplot as plt\n",
    "from timeit import default_timer as timer\n",
    "import datetime"
   ]
  },
  {
   "cell_type": "code",
   "execution_count": 2,
   "metadata": {
    "scrolled": true
   },
   "outputs": [
    {
     "name": "stdout",
     "output_type": "stream",
     "text": [
      "Read 10000 documents\n"
     ]
    }
   ],
   "source": [
    "# Input file\n",
    "INPUT_FILENAME = \"CovidLockdownCatalonia.json.gz\"\n",
    "\n",
    "# Array for storing messages\n",
    "messages = []\n",
    "MAX_MESSAGES = 10000\n",
    "\n",
    "with gzip.open(INPUT_FILENAME, \"rt\", encoding=\"utf-8\") as input_file:\n",
    "    \n",
    "    messages_read = 0\n",
    "    for line in input_file:\n",
    "            \n",
    "        # Read message\n",
    "        tweet = json.loads(line)\n",
    "\n",
    "        # Keep only messages in Catalan\n",
    "        if tweet[\"lang\"] == \"ca\":\n",
    "            \n",
    "            messages_read += 1\n",
    "            \n",
    "            if messages_read <= MAX_MESSAGES:\n",
    "                author = tweet[\"user\"][\"screen_name\"]\n",
    "                message = tweet[\"full_text\"]\n",
    "                messages.append(message)\n",
    "\n",
    "print(\"Read %d documents\" % len(messages))"
   ]
  },
  {
   "cell_type": "markdown",
   "metadata": {},
   "source": [
    "# 1. Auxiliary functions"
   ]
  },
  {
   "cell_type": "code",
   "execution_count": 3,
   "metadata": {},
   "outputs": [],
   "source": [
    "def jaccard_similarity(l1, l2):\n",
    "    set1 = set(l1)\n",
    "    set2 = set(l2)\n",
    "\n",
    "    size_intersec = len(set1.intersection(set2))\n",
    "    size_union = len(set1.union(set2))\n",
    "\n",
    "    if size_union == 0:\n",
    "        return 0.0  #creo el condicional per evitar divisió amb denominador=0\n",
    "    else:\n",
    "        return size_intersec/size_union"
   ]
  },
  {
   "cell_type": "code",
   "execution_count": 4,
   "metadata": {},
   "outputs": [
    {
     "name": "stdout",
     "output_type": "stream",
     "text": [
      "1st case Jaccard Similarity:  0.6666666666666666\n",
      "2nd case Jaccard Similarity:  0.75\n",
      "3rd case Jaccard Similarity:  1.0\n",
      "4th case Jaccard Similarity:  0.0\n"
     ]
    }
   ],
   "source": [
    "#1. similarity 0.6666...\n",
    "case11 = [1, 2, 3, 4, 5]\n",
    "case12 = [1, 2, 3, 4, 6]\n",
    "case1_res = jaccard_similarity(case11, case12)\n",
    "print(\"1st case Jaccard Similarity: \",case1_res)\n",
    "\n",
    "#2. similarity 0.75\n",
    "case21 = [1, 2, 3, 4]\n",
    "case22 = [1, 2, 3]\n",
    "case2_res = jaccard_similarity(case21, case22)\n",
    "print(\"2nd case Jaccard Similarity: \",case2_res)\n",
    "\n",
    "#3. similarity 1.0\n",
    "case31 = [1, 2, 3]\n",
    "case32 = [1, 2, 3]\n",
    "case3_res = jaccard_similarity(case31, case32)\n",
    "print(\"3rd case Jaccard Similarity: \",case3_res)\n",
    "\n",
    "#4. similarity 0.0\n",
    "case41 = []\n",
    "case42 = []\n",
    "case4_res = jaccard_similarity(case41, case42)\n",
    "print(\"4th case Jaccard Similarity: \",case4_res)"
   ]
  },
  {
   "cell_type": "code",
   "execution_count": 5,
   "metadata": {},
   "outputs": [],
   "source": [
    "def clean(text):\n",
    "    text = re.sub(\"RT \", \"\",text) #Removing \"RT \" prefixes\n",
    "\n",
    "    text = text.lower() #Converting to lowercase\n",
    "\n",
    "    text = re.sub('ñ', 'n',text) #Romanizing text (tenint en compte que els idiomes a romanitzar són català, castellà o anglès)\n",
    "    text = re.sub('à', 'a',text)\n",
    "    text = re.sub('á', 'a',text)\n",
    "    text = re.sub('è', 'e',text)\n",
    "    text = re.sub('é', 'e',text)\n",
    "    text = re.sub('í', 'i',text)\n",
    "    text = re.sub('ó', 'o',text)\n",
    "    text = re.sub('ò', 'o',text)\n",
    "    text = re.sub('ú', 'u',text)\n",
    "    text = re.sub('ü', 'u',text)\n",
    "    text = re.sub('l·l','ll',text)\n",
    "    \n",
    "    text = re.sub(r'http\\S+', '', text) #Removing URLs, both \"http\" and \"https\" ones\n",
    "    text = re.sub(r'https\\S+', '', text) #Removes \"http\" and \"https\" followed by \\S+ (a string of non-whitespace characters)\n",
    "\n",
    "    text = text.strip() #Removing spaces at the beginning and spaces at the end with the strip() function.\n",
    "    \n",
    "    text = re.sub(r'[^a-zA-Z0-9]', ' ', text) #Removing anything that remains that is not a letter or digit\n",
    "    \n",
    "    text = re.sub(r\"\\s+\",\" \", text) #Changing multiple spaces to single spaces, using \\s+ (a string of whitespace characters)\n",
    "    \n",
    "    return text"
   ]
  },
  {
   "cell_type": "code",
   "execution_count": 6,
   "metadata": {},
   "outputs": [
    {
     "name": "stdout",
     "output_type": "stream",
     "text": [
      "hello world  \n",
      "\n",
      "sally planned an annual celebration \n",
      "\n",
      "i like this websites  \n",
      "\n",
      "this text does not have special symbols  \n",
      "\n",
      "remove spaces test \n",
      "\n"
     ]
    }
   ],
   "source": [
    "test_texts = [\"RT Hello World!\"#RT Test\n",
    "             ,\"Sal·ly plàÑñed àn ànnuàl celebràtión\"#Romanizing Test\n",
    "             ,\"I like this websites: http://url1, https://url2\"#URL Test\n",
    "             ,\"This !@#$text does not have special (symbols¿¡?\"#Special Symbols Test\n",
    "             ,\" Remove  spaces  test \"]#Removing spaces at the beginning and end, and double spaces Test\n",
    "for test_text in test_texts:\n",
    "    clean_text = clean(test_text)\n",
    "    print(clean_text,\"\\n\")"
   ]
  },
  {
   "cell_type": "markdown",
   "metadata": {},
   "source": [
    "# 2. Implement an n-gram extractor"
   ]
  },
  {
   "cell_type": "code",
   "execution_count": 7,
   "metadata": {},
   "outputs": [],
   "source": [
    "MIN_TOKEN_LENGTH = 3\n",
    "def ngrams(text, size):\n",
    "    tokens = clean(text).split() #Separem paraules text una vegada clean i guardem a tokens\n",
    "    filt_tokens = [] #Creem llista auxiliar per guardar els tokens els quals len(token)>=MIN_TOKEN_LENGTH\n",
    "    for token in tokens:\n",
    "        if len(token) >= MIN_TOKEN_LENGTH:\n",
    "            filt_tokens.append(token)\n",
    "    ngrams = [] #Llista de ngrams guardem combinacions de tamany size\n",
    "    for i in range(len(filt_tokens) - size+1):\n",
    "        ngrams.append(' '.join(filt_tokens[i:i+size]))\n",
    "        \n",
    "    return ngrams"
   ]
  },
  {
   "cell_type": "code",
   "execution_count": 8,
   "metadata": {},
   "outputs": [
    {
     "name": "stdout",
     "output_type": "stream",
     "text": [
      "RT @diariARA: Comerciants xinesos donen mascaretes i gel antisèptic a Badalona per lluitar contra el coronavirus https://t.co/ybYXFxphIu\n",
      "['diariara comerciants xinesos', 'comerciants xinesos donen', 'xinesos donen mascaretes', 'donen mascaretes gel', 'mascaretes gel antiseptic', 'gel antiseptic badalona', 'antiseptic badalona per', 'badalona per lluitar', 'per lluitar contra', 'lluitar contra coronavirus']\n"
     ]
    }
   ],
   "source": [
    "#Function Test\n",
    "print(messages[9780])\n",
    "print(ngrams(messages[9780], 3))"
   ]
  },
  {
   "cell_type": "markdown",
   "metadata": {},
   "source": [
    "# 3. Estimation for brute force method"
   ]
  },
  {
   "cell_type": "code",
   "execution_count": 9,
   "metadata": {},
   "outputs": [],
   "source": [
    "# LEAVE AS-IS\n",
    "\n",
    "def time_brute_force_similarities(messages, limit, ngram_size):\n",
    "    if limit > len(messages):\n",
    "        raise ValueError(\"Limit should be less than or equal than the number of messages\")\n",
    "        \n",
    "    # Start a timer\n",
    "    start = timer()\n",
    "\n",
    "    # Iterate through document identifiers\n",
    "    for docid1 in range(np.min([len(messages), limit])):\n",
    "\n",
    "        # Clean document 1 and extract ngrams\n",
    "        doc1 = clean(messages[docid1])\n",
    "        ngrams1 = ngrams(doc1, ngram_size)\n",
    "\n",
    "        # Iterate through document identifiers larger than doc2\n",
    "        for docid2 in range(docid1+1, np.min([len(messages), limit])):\n",
    "                         \n",
    "            # Clean document 2 and extract ngrams\n",
    "            doc2 = clean(messages[docid2])\n",
    "            ngrams2 = ngrams(doc2, ngram_size)\n",
    "\n",
    "            # Compute similarity\n",
    "            similarity = jaccard_similarity(ngrams1, ngrams2)\n",
    "\n",
    "    end = timer()\n",
    "    return(end - start)"
   ]
  },
  {
   "cell_type": "code",
   "execution_count": 10,
   "metadata": {},
   "outputs": [
    {
     "data": {
      "image/png": "[encoded data removed]",
      "text/plain": [
       "<Figure size 432x288 with 1 Axes>"
      ]
     },
     "metadata": {
      "needs_background": "light"
     },
     "output_type": "display_data"
    }
   ],
   "source": [
    "limits = list(range(1, 2001, 150)) #set x from 1 to 2001 in increments of 150\n",
    "list_time = [] #for each limit use time_brute_force_similarities and save the time it takes in list_time\n",
    "\n",
    "for limit in limits:\n",
    "    time_takes = time_brute_force_similarities(messages, limit, 4)\n",
    "    list_time.append(time_takes)\n",
    "\n",
    "plt.plot(limits, list_time, marker='o') #generate the plot (use of marker='o' to see the points clearly as painted circles)\n",
    "plt.title('Time vs Limit')\n",
    "plt.xlabel('Limit')\n",
    "plt.ylabel('Time')\n",
    "plt.show()"
   ]
  },
  {
   "cell_type": "markdown",
   "metadata": {},
   "source": [
    "```(1)``` This plot shows how the increase of the limit, increases exponentially the time that it takes the use of the function time_brute_force_similarities. \n",
    "\n",
    "\n",
    "```(2)``` For the entire input matrix the limit we should pass to the function is 10000. As said before seing the plot we can guess that it is followed a quadratic function, so: y = ax<sup>2</sup> + bx + c. If we get 2 different points from the plot we can compute the approximate values of a,b and c, and then substitute the value of x. I have done the calculation in the following cell, and the estimated time for how long it would take to run the brute force similarity computations for the entire input matrix is 1968.199s (0.547h)."
   ]
  },
  {
   "cell_type": "code",
   "execution_count": 27,
   "metadata": {},
   "outputs": [
    {
     "name": "stdout",
     "output_type": "stream",
     "text": [
      "1968.199 s  -->   0.547 h\n"
     ]
    }
   ],
   "source": [
    "def find_quadratic_parameters(point1, point2):\n",
    "    x1, y1 = point1\n",
    "    x2, y2 = point2\n",
    "    \n",
    "    a = (y1*x2 - y2*x1)/((x1^2)*x2-(x2^2)*x1) #algebraic calculations made on paper\n",
    "    b = (y1 - a*(x1^2))/x1\n",
    "    c=0 #for our case we can assume that c=0\n",
    "    return a, b, c\n",
    "\n",
    "def expected_value(point1,point2,x):\n",
    "    a, b, c = find_quadratic_parameters(point1,point2)\n",
    "    y = a*(x^2) + b*x + c #we apply the quadratic function form\n",
    "    return y\n",
    "\n",
    "time_takes_input_mat = expected_value((limits[10],list_time[10]), (limits[12], list_time[12]),10000) #we take advanced points because the slope will be more like the expected\n",
    "\n",
    "print(round(time_takes_input_mat,3),\"s  -->  \",round(time_takes_input_mat/3600,3),\"h\")"
   ]
  },
  {
   "cell_type": "markdown",
   "metadata": {},
   "source": [
    "# 4. Computing the doc-ngram matrix"
   ]
  },
  {
   "cell_type": "markdown",
   "metadata": {},
   "source": [
    "## 4.1 Create list of all ngrams"
   ]
  },
  {
   "cell_type": "code",
   "execution_count": 12,
   "metadata": {},
   "outputs": [
    {
     "name": "stdout",
     "output_type": "stream",
     "text": [
      "There are 68836 distinct ngrams in the 10000 documents\n"
     ]
    }
   ],
   "source": [
    "NGRAM_SIZE = 3 #Modifico NGRAM_SIZE i MIN_TOKEN_LENGTH per dur a terme els tests de la pròxima cela\n",
    "MIN_TOKEN_LENGTH=2\n",
    "\n",
    "ngram_to_index = {}\n",
    "index_to_ngram = {}\n",
    "next_index = 0 #creem contador que usarem con index\n",
    "\n",
    "for message in messages:\n",
    "    all_ngrams = ngrams(message, NGRAM_SIZE) #Guardem tots els ngrams de message\n",
    "    for ngram in all_ngrams:\n",
    "        if ngram not in ngram_to_index: \n",
    "            ngram_to_index[ngram] = next_index #si no és a dict l'afegim amb l'index pertinent\n",
    "            index_to_ngram[next_index] = ngram #inversament de la mateixa forma per index_to_ngram\n",
    "            next_index += 1\n",
    "num_distinct_ngrams = next_index\n",
    "print(\"There are %d distinct ngrams in the %d documents\" % (num_distinct_ngrams, len(messages)))"
   ]
  },
  {
   "cell_type": "code",
   "execution_count": 13,
   "metadata": {},
   "outputs": [
    {
     "name": "stdout",
     "output_type": "stream",
     "text": [
      "ngram_to_index for 'tancat escoles fins': 977\n",
      "ngram_to_index for 'garantir la seguretat': 34\n",
      "index_to_ngram for '977': tancat escoles fins\n",
      "index_to_ngram for '34': garantir la seguretat\n"
     ]
    }
   ],
   "source": [
    "test_string1 = \"tancat escoles fins\"\n",
    "test_string2 = \"garantir la seguretat\"\n",
    "\n",
    "index1 = ngram_to_index[test_string1] #obtenim index per mitjà de string amb ngram_to_index\n",
    "index2 = ngram_to_index[test_string2]\n",
    "\n",
    "print(f\"ngram_to_index for '{test_string1}': {index1}\") \n",
    "print(f\"ngram_to_index for '{test_string2}': {index2}\")\n",
    "\n",
    "ngram1 = index_to_ngram[index1] #obtenim la mateixa string (ja que és un ngram), a partir del index\n",
    "ngram2 = index_to_ngram[index2]\n",
    "\n",
    "print(f\"index_to_ngram for '{index1}': {ngram1}\")\n",
    "print(f\"index_to_ngram for '{index2}': {ngram2}\")"
   ]
  },
  {
   "cell_type": "markdown",
   "metadata": {},
   "source": [
    "## 2.2 Create table ngrams x documents"
   ]
  },
  {
   "cell_type": "code",
   "execution_count": 14,
   "metadata": {},
   "outputs": [
    {
     "name": "stdout",
     "output_type": "stream",
     "text": [
      "Matrix dimensions: 68836 rows (distinct shingles) x 10000 columns (distinct documents)\n"
     ]
    }
   ],
   "source": [
    "# LEAVE AS-IS\n",
    "\n",
    "# Create dense matrix in which every cell contains the value \"False\"\n",
    "M_ngram_doc = np.full((num_distinct_ngrams, len(messages)), False)\n",
    "\n",
    "# Print the number of rows and columns of this matrix\n",
    "# numpy.matrix.shape is a tuple, shape[0] is the number of rows, shape[1] the number of columns\n",
    "print(\"Matrix dimensions: %d rows (distinct shingles) x %d columns (distinct documents)\" % M_ngram_doc.shape)"
   ]
  },
  {
   "cell_type": "code",
   "execution_count": 15,
   "metadata": {},
   "outputs": [],
   "source": [
    "for docid in range(len(messages)):\n",
    "    message = messages[docid]\n",
    "    ngrams_message = ngrams(message, NGRAM_SIZE)\n",
    "    for ngram in ngrams_message:\n",
    "        ngram_index = ngram_to_index[ngram] #obtenim index a partir de ngram\n",
    "        M_ngram_doc[ngram_index, docid] = True #set that position to True because document j contains ngram i"
   ]
  },
  {
   "cell_type": "code",
   "execution_count": 16,
   "metadata": {},
   "outputs": [
    {
     "name": "stdout",
     "output_type": "stream",
     "text": [
      "Matrix density:  0.0236 %\n"
     ]
    }
   ],
   "source": [
    "num_non_zeroes_mat = np.count_nonzero(M_ngram_doc) #This np function returns the count of non-zero elements in the array.\n",
    "num_cells_mat = M_ngram_doc.size #size returns the number of cells of the matrix in this case\n",
    "density_mat = round((num_non_zeroes_mat / num_cells_mat) * 100,4) #density of the matrix computation\n",
    "\n",
    "print(\"Matrix density: \",density_mat,\"%\")"
   ]
  },
  {
   "cell_type": "code",
   "execution_count": 17,
   "metadata": {},
   "outputs": [
    {
     "name": "stdout",
     "output_type": "stream",
     "text": [
      "\u001b[4mPositions of non-zeros in column of docid  9602  of M_ngram_doc\u001b[0m\n",
      "\n",
      "Clean message for docid 9602 :\n",
      " emergenciescat que puc fer i que no faqs del coronavirus a 14 de mar si us plau demanem difusio \n",
      "\n",
      "Non-zeros in row  9602 :\n",
      "[  948  1267  1268  1269  1270  2658 40222 40223 40224 40225 40226 40227\n",
      " 40228 40229 40230]\n",
      "['948 (si us plau)', '1267 (emergenciescat que puc)', '1268 (que puc fer)', '1269 (puc fer que)', '1270 (fer que no)', '2658 (14 de mar)', '40222 (que no faqs)', '40223 (no faqs del)', '40224 (faqs del coronavirus)', '40225 (del coronavirus 14)', '40226 (coronavirus 14 de)', '40227 (de mar si)', '40228 (mar si us)', '40229 (us plau demanem)', '40230 (plau demanem difusio)']\n",
      "\n",
      "\u001b[4mPositions of non-zeros in column of docid  941  of M_ngram_doc\u001b[0m\n",
      "\n",
      "Clean message for docid 941 :\n",
      " hospiolot usem de forma responsable els recursos sanitaris 061 urgencies per coronavirus i sanitaries 012 consultes general \n",
      "\n",
      "Non-zeros in row  941 :\n",
      "['1530 (usem de forma)', '1531 (de forma responsable)', '1532 (forma responsable els)', '1533 (responsable els recursos)', '1534 (els recursos sanitaris)', '1535 (recursos sanitaris 061)', '1536 (sanitaris 061 urgencies)', '1537 (061 urgencies per)', '1538 (urgencies per coronavirus)', '1539 (per coronavirus sanitaries)', '1540 (coronavirus sanitaries 012)', '1541 (sanitaries 012 consultes)', '10570 (hospiolot usem de)', '10571 (012 consultes general)']\n"
     ]
    }
   ],
   "source": [
    "#9602\n",
    "docid1 = 9602\n",
    "print(\"\\033[4mPositions of non-zeros in column of docid \",docid1,\" of M_ngram_doc\\033[0m\\n\") #How to underline searched in the internet\n",
    "print(\"Clean message for docid\", docid1,\":\")\n",
    "print(clean(messages[docid1])) #Show message cleaned\n",
    "print(\"\\nNon-zeros in row \",docid1,\":\")\n",
    "non_zero_docid1_row = np.nonzero(M_ngram_doc[:, docid1])[0] #for column docid1 we extract the indices of the nonzero values as an array\n",
    "print(non_zero_docid1_row)                                  #np.nonzero returns a tuple and we select the first and only array using [0]\n",
    "print([f\"{pos} ({index_to_ngram[pos]})\" for pos in non_zero_docid1_row]) #print as in the example iterating in each position\n",
    "\n",
    "#941\n",
    "docid2 = 941 #same process with document id 941\n",
    "print(\"\\n\\033[4mPositions of non-zeros in column of docid \",docid2,\" of M_ngram_doc\\033[0m\\n\")\n",
    "print(\"Clean message for docid\", docid2,\":\")\n",
    "print(clean(messages[docid2]))\n",
    "print(\"\\nNon-zeros in row \",docid2,\":\")\n",
    "non_zero_docid2_row = np.nonzero(M_ngram_doc[:, docid2])[0]\n",
    "print([f\"{pos} ({index_to_ngram[pos]})\" for pos in non_zero_docid2_row])"
   ]
  },
  {
   "cell_type": "markdown",
   "metadata": {},
   "source": [
    "# 3. Implement a permutation generator"
   ]
  },
  {
   "cell_type": "code",
   "execution_count": 18,
   "metadata": {},
   "outputs": [],
   "source": [
    "def random_permutation(k):\n",
    "    list_to_shuffle = list(range(k)) #Creem llista amb valors del 0 a k-1\n",
    "    random.shuffle(list_to_shuffle) #Barregem els valors de la llista usant shuffle\n",
    "    return list_to_shuffle"
   ]
  },
  {
   "cell_type": "code",
   "execution_count": 19,
   "metadata": {},
   "outputs": [
    {
     "name": "stdout",
     "output_type": "stream",
     "text": [
      "Test one permutation:\n",
      "['2 (test2)', '1 (test1)', '3 (test3)', '5 (test5)', '4 (test4)']\n",
      "['2 (gamma)', '1 (alpha)', '3 (beta)', '5 (epsilon)', '4 (delta)']\n",
      "\n",
      "Test another permutation\n",
      "['5 (test5)', '4 (test4)', '3 (test3)', '1 (test1)', '2 (test2)']\n",
      "['5 (epsilon)', '4 (delta)', '3 (beta)', '1 (alpha)', '2 (gamma)']\n"
     ]
    }
   ],
   "source": [
    "# LEAVE AS-IS\n",
    "\n",
    "# Permute a list according to a permutation\n",
    "def permuter(original_list, permutation):\n",
    "    permuted_list = []\n",
    "    for index in permutation:\n",
    "        permuted_list.append(original_list[index])\n",
    "    return permuted_list\n",
    "\n",
    "# Code for testing permutations\n",
    "original_list_1 = [\"1 (test1)\", \"2 (test2)\", \"3 (test3)\", \"4 (test4)\", \"5 (test5)\"]\n",
    "original_list_2 = [\"1 (alpha)\", \"2 (gamma)\", \"3 (beta)\", \"4 (delta)\", \"5 (epsilon)\"]\n",
    "\n",
    "print(\"Test one permutation:\")\n",
    "permutation_1 = random_permutation(5)\n",
    "print(permuter(original_list_1, permutation_1))\n",
    "print(permuter(original_list_2, permutation_1))\n",
    "\n",
    "print()\n",
    "\n",
    "print(\"Test another permutation\")\n",
    "permutation_2 = random_permutation(5)\n",
    "print(permuter(original_list_1, permutation_2))\n",
    "print(permuter(original_list_2, permutation_2))"
   ]
  },
  {
   "cell_type": "markdown",
   "metadata": {},
   "source": [
    "# 4. Compute the signature of each document"
   ]
  },
  {
   "cell_type": "code",
   "execution_count": 20,
   "metadata": {},
   "outputs": [
    {
     "name": "stdout",
     "output_type": "stream",
     "text": [
      "Permutation 0: 63410, 46075, 3013, ...\n",
      "Permutation 1: 31224, 50103, 20241, ...\n",
      "Permutation 2: 16356, 31456, 6118, ...\n",
      "Permutation 3: 21002, 17462, 7131, ...\n",
      "Permutation 4: 59033, 22802, 38904, ...\n"
     ]
    }
   ],
   "source": [
    "# Leave this code as-is\n",
    "\n",
    "NUM_PERMUTATIONS = 5\n",
    "\n",
    "permutations = []\n",
    "\n",
    "# Create the permutations\n",
    "for i in range(NUM_PERMUTATIONS):\n",
    "    permutation = random_permutation(num_distinct_ngrams)\n",
    "    permutations.append(random_permutation(num_distinct_ngrams))\n",
    "    \n",
    "# Visualize the permutations by printing their first 3 elements\n",
    "for i in range(len(permutations)):\n",
    "    permutation = permutations[i]\n",
    "    print(\"Permutation %d: %d, %d, %d, ...\" % (i, permutation[0], permutation[1], permutation[2] ))"
   ]
  },
  {
   "cell_type": "code",
   "execution_count": 21,
   "metadata": {
    "scrolled": true
   },
   "outputs": [
    {
     "name": "stdout",
     "output_type": "stream",
     "text": [
      "Creating signatures for permutation 1/5\n",
      "- Scanning document 0 of 10000\n",
      "- Scanning document 1000 of 10000\n",
      "- Scanning document 2000 of 10000\n",
      "- Scanning document 3000 of 10000\n",
      "- Scanning document 4000 of 10000\n",
      "- Scanning document 5000 of 10000\n",
      "- Scanning document 6000 of 10000\n",
      "- Scanning document 7000 of 10000\n",
      "- Scanning document 8000 of 10000\n",
      "- Scanning document 9000 of 10000\n",
      "Creating signatures for permutation 2/5\n",
      "- Scanning document 0 of 10000\n",
      "- Scanning document 1000 of 10000\n",
      "- Scanning document 2000 of 10000\n",
      "- Scanning document 3000 of 10000\n",
      "- Scanning document 4000 of 10000\n",
      "- Scanning document 5000 of 10000\n",
      "- Scanning document 6000 of 10000\n",
      "- Scanning document 7000 of 10000\n",
      "- Scanning document 8000 of 10000\n",
      "- Scanning document 9000 of 10000\n",
      "Creating signatures for permutation 3/5\n",
      "- Scanning document 0 of 10000\n",
      "- Scanning document 1000 of 10000\n",
      "- Scanning document 2000 of 10000\n",
      "- Scanning document 3000 of 10000\n",
      "- Scanning document 4000 of 10000\n",
      "- Scanning document 5000 of 10000\n",
      "- Scanning document 6000 of 10000\n",
      "- Scanning document 7000 of 10000\n",
      "- Scanning document 8000 of 10000\n",
      "- Scanning document 9000 of 10000\n",
      "Creating signatures for permutation 4/5\n",
      "- Scanning document 0 of 10000\n",
      "- Scanning document 1000 of 10000\n",
      "- Scanning document 2000 of 10000\n",
      "- Scanning document 3000 of 10000\n",
      "- Scanning document 4000 of 10000\n",
      "- Scanning document 5000 of 10000\n",
      "- Scanning document 6000 of 10000\n",
      "- Scanning document 7000 of 10000\n",
      "- Scanning document 8000 of 10000\n",
      "- Scanning document 9000 of 10000\n",
      "Creating signatures for permutation 5/5\n",
      "- Scanning document 0 of 10000\n",
      "- Scanning document 1000 of 10000\n",
      "- Scanning document 2000 of 10000\n",
      "- Scanning document 3000 of 10000\n",
      "- Scanning document 4000 of 10000\n",
      "- Scanning document 5000 of 10000\n",
      "- Scanning document 6000 of 10000\n",
      "- Scanning document 7000 of 10000\n",
      "- Scanning document 8000 of 10000\n",
      "- Scanning document 9000 of 10000\n"
     ]
    }
   ],
   "source": [
    "M_signature_doc = np.full((NUM_PERMUTATIONS, len(messages)), np.nan)\n",
    "\n",
    "def find_first_one(docid, permutation):\n",
    "    for shingle_id in permutation:\n",
    "        if M_ngram_doc[shingle_id, docid] == True:\n",
    "            return shingle_id\n",
    "    return -1\n",
    "\n",
    "# Create permutations\n",
    "for permutation_num in range(NUM_PERMUTATIONS):\n",
    "    print(\"Creating signatures for permutation %d/%d\" % (permutation_num+1, NUM_PERMUTATIONS))\n",
    "    permutation = permutations[permutation_num]\n",
    "    for docid in range(len(messages)):\n",
    "        if docid % 1000 == 0:\n",
    "            print(\"- Scanning document %d of %d\" % (docid, len(messages)))\n",
    "        \n",
    "        first_ngram = find_first_one(docid, permutation) #Usem la funció donada passant per paràmetre docid i la permutació\n",
    "        \n",
    "        M_signature_doc[permutation_num, docid] = first_ngram #Guardem el primer ngram a matriu a la posició [permutation_num, docid]"
   ]
  },
  {
   "cell_type": "code",
   "execution_count": 22,
   "metadata": {
    "scrolled": false
   },
   "outputs": [
    {
     "name": "stdout",
     "output_type": "stream",
     "text": [
      "Document #385\n",
      "Message       : RT @gencat: 🔴 El @govern de la @gencat anuncia el #confinament de tot Catalunya.\n",
      "\n",
      "Davant l’emergència de la #COVID19, el missatge és clau:…\n",
      "Clean message :  gencat el govern de la gencat anuncia el confinament de tot catalunya davant l emergencia de la covid19 el missatge es clau \n",
      "Ngrams        : [62, 3437, 3564, 4227, 5043, 5044, 5045, 5046, 5047, 5048, 5049, 5050, 5051, 5052, 5053, 5054, 5055, 5056, 5057]\n",
      "Signature     : [5045.0, 5055.0, 5057.0, 5047.0, 62.0]\n",
      "\n",
      "Document #627\n",
      "Message       : PROCICAT_CORONAVIRUS. El @govern de la @gencat anuncia el #confinament de tot Catalunya. Davant l’emergència de la #COVID19, el missatge és clau: limitar la mobilitat ajudarà a evitar la propagació del #coronavirus. Evitem desplaçaments i reduïm la vida social #JoEmQuedoACasa\n",
      "Clean message : procicat coronavirus el govern de la gencat anuncia el confinament de tot catalunya davant l emergencia de la covid19 el missatge es clau limitar la mobilitat ajudara a evitar la propagacio del coronavirus evitem despla aments i redu m la vida social joemquedoacasa\n",
      "Ngrams        : [62, 245, 246, 333, 1605, 1606, 1607, 1608, 3437, 3564, 4227, 5044, 5045, 5046, 5047, 5048, 5049, 5050, 5051, 5052, 5053, 5054, 5055, 5056, 5057, 7452, 7453, 7454, 7455, 7456, 7457, 7458, 7459, 7460, 7461, 7462, 7463]\n",
      "Signature     : [7460.0, 7463.0, 1606.0, 5047.0, 245.0]\n"
     ]
    }
   ],
   "source": [
    "# Leave this code as-is\n",
    "\n",
    "def extract_ngrams(docid):\n",
    "    return [x for x in range(num_distinct_ngrams) if M_ngram_doc[x, docid] == True]\n",
    "\n",
    "def extract_signature(docid):\n",
    "    return [M_signature_doc[x, docid] for x in range(NUM_PERMUTATIONS)]\n",
    "\n",
    "def print_sig(messages, M_ngram_doc, M_signature_doc, i):\n",
    "    print(\"Document #%d\" % i)\n",
    "    print(\"Message       : %s\" % messages[i])\n",
    "    print(\"Clean message : %s\" % clean(messages[i]))\n",
    "    print(\"Ngrams        : %s\" % extract_ngrams(i))\n",
    "    print(\"Signature     : %s\" % extract_signature(i))\n",
    "\n",
    "        \n",
    "i = 385\n",
    "j = 627\n",
    "\n",
    "print_sig(messages, M_ngram_doc, M_signature_doc, i )\n",
    "\n",
    "print()\n",
    "\n",
    "print_sig(messages, M_ngram_doc, M_signature_doc, j )"
   ]
  },
  {
   "cell_type": "markdown",
   "metadata": {},
   "source": [
    "# 5. Compare all pairs of signatures"
   ]
  },
  {
   "cell_type": "code",
   "execution_count": 25,
   "metadata": {},
   "outputs": [
    {
     "name": "stdout",
     "output_type": "stream",
     "text": [
      "0/10000 documents scanned\n",
      "Document #16 has 71 full signature matches and 2 partial signature matches\n",
      "Document #20 has 28 full signature matches and 25 partial signature matches\n",
      "Document #53 has 57 full signature matches and 0 partial signature matches\n",
      "Document #73 has 17 full signature matches and 34 partial signature matches\n",
      "Document #166 has 56 full signature matches and 0 partial signature matches\n",
      "Document #328 has 65 full signature matches and 0 partial signature matches\n",
      "500/10000 documents scanned\n",
      "1000/10000 documents scanned\n",
      "2000/10000 documents scanned\n",
      "3500/10000 documents scanned\n",
      "4000/10000 documents scanned\n",
      "4500/10000 documents scanned\n",
      "5000/10000 documents scanned\n",
      "Document #5077 has 176 full signature matches and 3 partial signature matches\n",
      "Document #5109 has 66 full signature matches and 0 partial signature matches\n",
      "Document #5117 has 71 full signature matches and 0 partial signature matches\n",
      "Document #5129 has 54 full signature matches and 0 partial signature matches\n",
      "Document #5271 has 54 full signature matches and 0 partial signature matches\n",
      "5500/10000 documents scanned\n",
      "Document #5636 has 80 full signature matches and 0 partial signature matches\n",
      "7500/10000 documents scanned\n",
      "9500/10000 documents scanned\n"
     ]
    }
   ],
   "source": [
    "is_possible_duplicate = {}\n",
    "\n",
    "MATCH_THRESHOLD = 50\n",
    "PARTIAL_THRESHOLD = 0.2\n",
    "\n",
    "# Iterate through all documents\n",
    "for docid1 in range(len(messages)):\n",
    "\n",
    "    # Do not examine again a document that is a possible duplicate\n",
    "    if docid1 not in is_possible_duplicate:\n",
    "\n",
    "        # Counters for full and partial signature matches\n",
    "        count_sig_full_matches = 0\n",
    "        count_sig_partial_matches = 0\n",
    "\n",
    "        # Extract the signature of the doc1\n",
    "        signature1 = extract_signature(docid1)\n",
    "        if docid1 % 500 == 0:\n",
    "            print(\"%d/%d documents scanned\" % (docid1, len(messages)))\n",
    "        # Iterate through documents with docid larger than doc1\n",
    "        for docid2 in range(docid1+1, len(messages)):\n",
    "\n",
    "            # If this has not already been marked as duplicate of another document\n",
    "            if docid2 not in is_possible_duplicate:\n",
    "\n",
    "                # Extract signature of doc2\n",
    "                signature2 = extract_signature(docid2)\n",
    "\n",
    "                # Compare the signatures\n",
    "                full_match = all(s1 == s2 for s1, s2 in zip(signature1, signature2))\n",
    "                partial_match = sum(s1 == s2 for s1, s2 in zip(signature1, signature2)) / NUM_PERMUTATIONS\n",
    "                # Check for full matches\n",
    "                if full_match:\n",
    "                    count_sig_full_matches += 1\n",
    "                    is_possible_duplicate[docid2] = docid1\n",
    "                # Check for partial matches\n",
    "                elif partial_match > PARTIAL_THRESHOLD:\n",
    "                    count_sig_partial_matches += 1\n",
    "\n",
    "        # If the number of partial matches plus full matches exceeds a threshold\n",
    "        if count_sig_full_matches + count_sig_partial_matches > MATCH_THRESHOLD:\n",
    "            print(\"Document #%d has %d full signature matches and %d partial signature matches\" % (docid1, count_sig_full_matches, count_sig_partial_matches))"
   ]
  },
  {
   "cell_type": "code",
   "execution_count": 30,
   "metadata": {},
   "outputs": [
    {
     "name": "stdout",
     "output_type": "stream",
     "text": [
      "RT @emergenciescat: Què puc fer i que no? FAQs del #coronavirus a 14 de març. si us plau, demanem difusió. https://t.co/D5HNxwYjwK\n"
     ]
    }
   ],
   "source": [
    "#Showing the tweet (document #5077) because has 176 complete matches but only 3 partial matches\n",
    "print(messages[5077])"
   ]
  },
  {
   "cell_type": "markdown",
   "metadata": {},
   "source": [
    "In the case of this specific tweet, it contains factual information of a static resource (FAQs) related to the coronavirus and because of that it is likely not changing much when copied or retweeted. People generally share this kind of information as-is because it is intended to provide accurate and up-to-date guidance. Because of that the tweet has a substancial number of complete matches but few partial matches"
   ]
  },
  {
   "cell_type": "code",
   "execution_count": 32,
   "metadata": {},
   "outputs": [
    {
     "name": "stdout",
     "output_type": "stream",
     "text": [
      "RT @VilaWeb: [VÍDEO] Ortega Smith passejant per Madrid sense mascareta i amb la seva mare després del positiu de coronavirus https://t.co/M…\n"
     ]
    }
   ],
   "source": [
    "#Showing the tweet (document #73) because has 34 partial matches but only 17 complete matches\n",
    "print(messages[73])"
   ]
  },
  {
   "cell_type": "markdown",
   "metadata": {},
   "source": [
    "In this case, the tweet does not give crucial information like in the previous case, and because of that people tend to change the words of the tweet and add information. The message of this tweet leads to retweets giving different opinions adding information. For example one retweet could be like the following one:\n",
    "\n",
    "Vídeo impactant d'Ortega Smith passejant sense mascareta per Madrid després del positiu de coronavirus. Això és tan irresponsable! 😷 #COVID19 #OrtegaSmith #Madrid\n",
    "\n",
    "In this example we can clearly see how the new tweet is different from the first one, using different words, giving opinions and adding hashtags. This leads to a substancial number of partial matches but fewer complete matches."
   ]
  },
  {
   "cell_type": "markdown",
   "metadata": {},
   "source": [
    "<font size=\"+2\" color=\"#003300\">I hereby declare that, except for the code provided by the course instructors, all of my code, report, and figures were produced by myself.</font>"
   ]
  }
 ],
 "metadata": {
  "kernelspec": {
   "display_name": "Python 3 (ipykernel)",
   "language": "python",
   "name": "python3"
  },
  "language_info": {
   "codemirror_mode": {
    "name": "ipython",
    "version": 3
   },
   "file_extension": ".py",
   "mimetype": "text/x-python",
   "name": "python",
   "nbconvert_exporter": "python",
   "pygments_lexer": "ipython3",
   "version": "3.9.12"
  }
 },
 "nbformat": 4,
 "nbformat_minor": 2
}
